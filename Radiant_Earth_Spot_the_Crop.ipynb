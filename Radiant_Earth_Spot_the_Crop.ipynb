{
  "nbformat": 4,
  "nbformat_minor": 5,
  "metadata": {
    "kernelspec": {
      "display_name": "Python 3 (ipykernel)",
      "language": "python",
      "name": "python3"
    },
    "language_info": {
      "codemirror_mode": {
        "name": "ipython",
        "version": 3
      },
      "file_extension": ".py",
      "mimetype": "text/x-python",
      "name": "python",
      "nbconvert_exporter": "python",
      "pygments_lexer": "ipython3",
      "version": "3.8.10"
    },
    "colab": {
      "name": "Radiant_Earth_Spot_the_Crop.ipynb",
      "provenance": [],
      "collapsed_sections": [],
      "include_colab_link": true
    },
    "widgets": {
      "application/vnd.jupyter.widget-state+json": {
        "012161eadd634047861c747cd441a0d6": {
          "model_module": "@jupyter-widgets/controls",
          "model_name": "HBoxModel",
          "state": {
            "_view_name": "HBoxView",
            "_dom_classes": [],
            "_model_name": "HBoxModel",
            "_view_module": "@jupyter-widgets/controls",
            "_model_module_version": "1.5.0",
            "_view_count": null,
            "_view_module_version": "1.5.0",
            "box_style": "",
            "layout": "IPY_MODEL_92f122685a55469baed18aaa7978a8e7",
            "_model_module": "@jupyter-widgets/controls",
            "children": [
              "IPY_MODEL_75f01bfc1a264a0eb24b9a0d388453a9",
              "IPY_MODEL_2bfa8f3299574eecaf07d308c5279d74",
              "IPY_MODEL_562c587fc5ce439797e3b4f8a377b4c6"
            ]
          }
        },
        "92f122685a55469baed18aaa7978a8e7": {
          "model_module": "@jupyter-widgets/base",
          "model_name": "LayoutModel",
          "state": {
            "_view_name": "LayoutView",
            "grid_template_rows": null,
            "right": null,
            "justify_content": null,
            "_view_module": "@jupyter-widgets/base",
            "overflow": null,
            "_model_module_version": "1.2.0",
            "_view_count": null,
            "flex_flow": null,
            "width": null,
            "min_width": null,
            "border": null,
            "align_items": null,
            "bottom": null,
            "_model_module": "@jupyter-widgets/base",
            "top": null,
            "grid_column": null,
            "overflow_y": null,
            "overflow_x": null,
            "grid_auto_flow": null,
            "grid_area": null,
            "grid_template_columns": null,
            "flex": null,
            "_model_name": "LayoutModel",
            "justify_items": null,
            "grid_row": null,
            "max_height": null,
            "align_content": null,
            "visibility": null,
            "align_self": null,
            "height": null,
            "min_height": null,
            "padding": null,
            "grid_auto_rows": null,
            "grid_gap": null,
            "max_width": null,
            "order": null,
            "_view_module_version": "1.2.0",
            "grid_template_areas": null,
            "object_position": null,
            "object_fit": null,
            "grid_auto_columns": null,
            "margin": null,
            "display": null,
            "left": null
          }
        },
        "75f01bfc1a264a0eb24b9a0d388453a9": {
          "model_module": "@jupyter-widgets/controls",
          "model_name": "HTMLModel",
          "state": {
            "_view_name": "HTMLView",
            "style": "IPY_MODEL_16a9de02d2fd41958c5bc66c4ede656b",
            "_dom_classes": [],
            "description": "",
            "_model_name": "HTMLModel",
            "placeholder": "​",
            "_view_module": "@jupyter-widgets/controls",
            "_model_module_version": "1.5.0",
            "value": "",
            "_view_count": null,
            "_view_module_version": "1.5.0",
            "description_tooltip": null,
            "_model_module": "@jupyter-widgets/controls",
            "layout": "IPY_MODEL_49ea04bd1b69404a9565bea9fc3bb18c"
          }
        },
        "2bfa8f3299574eecaf07d308c5279d74": {
          "model_module": "@jupyter-widgets/controls",
          "model_name": "FloatProgressModel",
          "state": {
            "_view_name": "ProgressView",
            "style": "IPY_MODEL_d274e0bdc4214db48a0212bc95eb6305",
            "_dom_classes": [],
            "description": "",
            "_model_name": "FloatProgressModel",
            "bar_style": "success",
            "max": 31.4,
            "_view_module": "@jupyter-widgets/controls",
            "_model_module_version": "1.5.0",
            "value": 31.4,
            "_view_count": null,
            "_view_module_version": "1.5.0",
            "orientation": "horizontal",
            "min": 0,
            "description_tooltip": null,
            "_model_module": "@jupyter-widgets/controls",
            "layout": "IPY_MODEL_a5c9919a88154b5da5a70686d4172839"
          }
        },
        "562c587fc5ce439797e3b4f8a377b4c6": {
          "model_module": "@jupyter-widgets/controls",
          "model_name": "HTMLModel",
          "state": {
            "_view_name": "HTMLView",
            "style": "IPY_MODEL_7e52ff92c56d485492ff9c13a8ef4071",
            "_dom_classes": [],
            "description": "",
            "_model_name": "HTMLModel",
            "placeholder": "​",
            "_view_module": "@jupyter-widgets/controls",
            "_model_module_version": "1.5.0",
            "value": " 35.0/? [00:01&lt;00:00,  9.08M/s]",
            "_view_count": null,
            "_view_module_version": "1.5.0",
            "description_tooltip": null,
            "_model_module": "@jupyter-widgets/controls",
            "layout": "IPY_MODEL_20712cfe8a054767a1332c4c64c2a131"
          }
        },
        "16a9de02d2fd41958c5bc66c4ede656b": {
          "model_module": "@jupyter-widgets/controls",
          "model_name": "DescriptionStyleModel",
          "state": {
            "_view_name": "StyleView",
            "_model_name": "DescriptionStyleModel",
            "description_width": "",
            "_view_module": "@jupyter-widgets/base",
            "_model_module_version": "1.5.0",
            "_view_count": null,
            "_view_module_version": "1.2.0",
            "_model_module": "@jupyter-widgets/controls"
          }
        },
        "49ea04bd1b69404a9565bea9fc3bb18c": {
          "model_module": "@jupyter-widgets/base",
          "model_name": "LayoutModel",
          "state": {
            "_view_name": "LayoutView",
            "grid_template_rows": null,
            "right": null,
            "justify_content": null,
            "_view_module": "@jupyter-widgets/base",
            "overflow": null,
            "_model_module_version": "1.2.0",
            "_view_count": null,
            "flex_flow": null,
            "width": null,
            "min_width": null,
            "border": null,
            "align_items": null,
            "bottom": null,
            "_model_module": "@jupyter-widgets/base",
            "top": null,
            "grid_column": null,
            "overflow_y": null,
            "overflow_x": null,
            "grid_auto_flow": null,
            "grid_area": null,
            "grid_template_columns": null,
            "flex": null,
            "_model_name": "LayoutModel",
            "justify_items": null,
            "grid_row": null,
            "max_height": null,
            "align_content": null,
            "visibility": null,
            "align_self": null,
            "height": null,
            "min_height": null,
            "padding": null,
            "grid_auto_rows": null,
            "grid_gap": null,
            "max_width": null,
            "order": null,
            "_view_module_version": "1.2.0",
            "grid_template_areas": null,
            "object_position": null,
            "object_fit": null,
            "grid_auto_columns": null,
            "margin": null,
            "display": null,
            "left": null
          }
        },
        "d274e0bdc4214db48a0212bc95eb6305": {
          "model_module": "@jupyter-widgets/controls",
          "model_name": "ProgressStyleModel",
          "state": {
            "_view_name": "StyleView",
            "_model_name": "ProgressStyleModel",
            "description_width": "",
            "_view_module": "@jupyter-widgets/base",
            "_model_module_version": "1.5.0",
            "_view_count": null,
            "_view_module_version": "1.2.0",
            "bar_color": null,
            "_model_module": "@jupyter-widgets/controls"
          }
        },
        "a5c9919a88154b5da5a70686d4172839": {
          "model_module": "@jupyter-widgets/base",
          "model_name": "LayoutModel",
          "state": {
            "_view_name": "LayoutView",
            "grid_template_rows": null,
            "right": null,
            "justify_content": null,
            "_view_module": "@jupyter-widgets/base",
            "overflow": null,
            "_model_module_version": "1.2.0",
            "_view_count": null,
            "flex_flow": null,
            "width": null,
            "min_width": null,
            "border": null,
            "align_items": null,
            "bottom": null,
            "_model_module": "@jupyter-widgets/base",
            "top": null,
            "grid_column": null,
            "overflow_y": null,
            "overflow_x": null,
            "grid_auto_flow": null,
            "grid_area": null,
            "grid_template_columns": null,
            "flex": null,
            "_model_name": "LayoutModel",
            "justify_items": null,
            "grid_row": null,
            "max_height": null,
            "align_content": null,
            "visibility": null,
            "align_self": null,
            "height": null,
            "min_height": null,
            "padding": null,
            "grid_auto_rows": null,
            "grid_gap": null,
            "max_width": null,
            "order": null,
            "_view_module_version": "1.2.0",
            "grid_template_areas": null,
            "object_position": null,
            "object_fit": null,
            "grid_auto_columns": null,
            "margin": null,
            "display": null,
            "left": null
          }
        },
        "7e52ff92c56d485492ff9c13a8ef4071": {
          "model_module": "@jupyter-widgets/controls",
          "model_name": "DescriptionStyleModel",
          "state": {
            "_view_name": "StyleView",
            "_model_name": "DescriptionStyleModel",
            "description_width": "",
            "_view_module": "@jupyter-widgets/base",
            "_model_module_version": "1.5.0",
            "_view_count": null,
            "_view_module_version": "1.2.0",
            "_model_module": "@jupyter-widgets/controls"
          }
        },
        "20712cfe8a054767a1332c4c64c2a131": {
          "model_module": "@jupyter-widgets/base",
          "model_name": "LayoutModel",
          "state": {
            "_view_name": "LayoutView",
            "grid_template_rows": null,
            "right": null,
            "justify_content": null,
            "_view_module": "@jupyter-widgets/base",
            "overflow": null,
            "_model_module_version": "1.2.0",
            "_view_count": null,
            "flex_flow": null,
            "width": null,
            "min_width": null,
            "border": null,
            "align_items": null,
            "bottom": null,
            "_model_module": "@jupyter-widgets/base",
            "top": null,
            "grid_column": null,
            "overflow_y": null,
            "overflow_x": null,
            "grid_auto_flow": null,
            "grid_area": null,
            "grid_template_columns": null,
            "flex": null,
            "_model_name": "LayoutModel",
            "justify_items": null,
            "grid_row": null,
            "max_height": null,
            "align_content": null,
            "visibility": null,
            "align_self": null,
            "height": null,
            "min_height": null,
            "padding": null,
            "grid_auto_rows": null,
            "grid_gap": null,
            "max_width": null,
            "order": null,
            "_view_module_version": "1.2.0",
            "grid_template_areas": null,
            "object_position": null,
            "object_fit": null,
            "grid_auto_columns": null,
            "margin": null,
            "display": null,
            "left": null
          }
        },
        "f346ef7d8ee64e33bd298db90ddd2e9f": {
          "model_module": "@jupyter-widgets/controls",
          "model_name": "HBoxModel",
          "state": {
            "_view_name": "HBoxView",
            "_dom_classes": [],
            "_model_name": "HBoxModel",
            "_view_module": "@jupyter-widgets/controls",
            "_model_module_version": "1.5.0",
            "_view_count": null,
            "_view_module_version": "1.5.0",
            "box_style": "",
            "layout": "IPY_MODEL_281c146328e74dafa5ba9e6d086b8df1",
            "_model_module": "@jupyter-widgets/controls",
            "children": [
              "IPY_MODEL_8fd54c74708e4eeba334bf9208a90261",
              "IPY_MODEL_7c56f9901ef4458db3226967791ba50c",
              "IPY_MODEL_96302c7ef3804e969327b8e2f3431203"
            ]
          }
        },
        "281c146328e74dafa5ba9e6d086b8df1": {
          "model_module": "@jupyter-widgets/base",
          "model_name": "LayoutModel",
          "state": {
            "_view_name": "LayoutView",
            "grid_template_rows": null,
            "right": null,
            "justify_content": null,
            "_view_module": "@jupyter-widgets/base",
            "overflow": null,
            "_model_module_version": "1.2.0",
            "_view_count": null,
            "flex_flow": null,
            "width": null,
            "min_width": null,
            "border": null,
            "align_items": null,
            "bottom": null,
            "_model_module": "@jupyter-widgets/base",
            "top": null,
            "grid_column": null,
            "overflow_y": null,
            "overflow_x": null,
            "grid_auto_flow": null,
            "grid_area": null,
            "grid_template_columns": null,
            "flex": null,
            "_model_name": "LayoutModel",
            "justify_items": null,
            "grid_row": null,
            "max_height": null,
            "align_content": null,
            "visibility": null,
            "align_self": null,
            "height": null,
            "min_height": null,
            "padding": null,
            "grid_auto_rows": null,
            "grid_gap": null,
            "max_width": null,
            "order": null,
            "_view_module_version": "1.2.0",
            "grid_template_areas": null,
            "object_position": null,
            "object_fit": null,
            "grid_auto_columns": null,
            "margin": null,
            "display": null,
            "left": null
          }
        },
        "8fd54c74708e4eeba334bf9208a90261": {
          "model_module": "@jupyter-widgets/controls",
          "model_name": "HTMLModel",
          "state": {
            "_view_name": "HTMLView",
            "style": "IPY_MODEL_7fd2cdf54b97436cae6f2d70a098e545",
            "_dom_classes": [],
            "description": "",
            "_model_name": "HTMLModel",
            "placeholder": "​",
            "_view_module": "@jupyter-widgets/controls",
            "_model_module_version": "1.5.0",
            "value": "",
            "_view_count": null,
            "_view_module_version": "1.5.0",
            "description_tooltip": null,
            "_model_module": "@jupyter-widgets/controls",
            "layout": "IPY_MODEL_a4d33b4112af451191de15e0a29e2fa1"
          }
        },
        "7c56f9901ef4458db3226967791ba50c": {
          "model_module": "@jupyter-widgets/controls",
          "model_name": "FloatProgressModel",
          "state": {
            "_view_name": "ProgressView",
            "style": "IPY_MODEL_aa7111b98c1347368940d2abf3f3cd42",
            "_dom_classes": [],
            "description": "",
            "_model_name": "FloatProgressModel",
            "bar_style": "success",
            "max": 5987.8,
            "_view_module": "@jupyter-widgets/controls",
            "_model_module_version": "1.5.0",
            "value": 5987.8,
            "_view_count": null,
            "_view_module_version": "1.5.0",
            "orientation": "horizontal",
            "min": 0,
            "description_tooltip": null,
            "_model_module": "@jupyter-widgets/controls",
            "layout": "IPY_MODEL_84670f685f8e44758533dbb9201ef5d2"
          }
        },
        "96302c7ef3804e969327b8e2f3431203": {
          "model_module": "@jupyter-widgets/controls",
          "model_name": "HTMLModel",
          "state": {
            "_view_name": "HTMLView",
            "style": "IPY_MODEL_d21b992c391b4128ac990ae8b5f66455",
            "_dom_classes": [],
            "description": "",
            "_model_name": "HTMLModel",
            "placeholder": "​",
            "_view_module": "@jupyter-widgets/controls",
            "_model_module_version": "1.5.0",
            "value": " 5990.0/? [02:01&lt;00:00, 30.06M/s]",
            "_view_count": null,
            "_view_module_version": "1.5.0",
            "description_tooltip": null,
            "_model_module": "@jupyter-widgets/controls",
            "layout": "IPY_MODEL_e7e34aabb9ad49d08b94ae7970c5c6c3"
          }
        },
        "7fd2cdf54b97436cae6f2d70a098e545": {
          "model_module": "@jupyter-widgets/controls",
          "model_name": "DescriptionStyleModel",
          "state": {
            "_view_name": "StyleView",
            "_model_name": "DescriptionStyleModel",
            "description_width": "",
            "_view_module": "@jupyter-widgets/base",
            "_model_module_version": "1.5.0",
            "_view_count": null,
            "_view_module_version": "1.2.0",
            "_model_module": "@jupyter-widgets/controls"
          }
        },
        "a4d33b4112af451191de15e0a29e2fa1": {
          "model_module": "@jupyter-widgets/base",
          "model_name": "LayoutModel",
          "state": {
            "_view_name": "LayoutView",
            "grid_template_rows": null,
            "right": null,
            "justify_content": null,
            "_view_module": "@jupyter-widgets/base",
            "overflow": null,
            "_model_module_version": "1.2.0",
            "_view_count": null,
            "flex_flow": null,
            "width": null,
            "min_width": null,
            "border": null,
            "align_items": null,
            "bottom": null,
            "_model_module": "@jupyter-widgets/base",
            "top": null,
            "grid_column": null,
            "overflow_y": null,
            "overflow_x": null,
            "grid_auto_flow": null,
            "grid_area": null,
            "grid_template_columns": null,
            "flex": null,
            "_model_name": "LayoutModel",
            "justify_items": null,
            "grid_row": null,
            "max_height": null,
            "align_content": null,
            "visibility": null,
            "align_self": null,
            "height": null,
            "min_height": null,
            "padding": null,
            "grid_auto_rows": null,
            "grid_gap": null,
            "max_width": null,
            "order": null,
            "_view_module_version": "1.2.0",
            "grid_template_areas": null,
            "object_position": null,
            "object_fit": null,
            "grid_auto_columns": null,
            "margin": null,
            "display": null,
            "left": null
          }
        },
        "aa7111b98c1347368940d2abf3f3cd42": {
          "model_module": "@jupyter-widgets/controls",
          "model_name": "ProgressStyleModel",
          "state": {
            "_view_name": "StyleView",
            "_model_name": "ProgressStyleModel",
            "description_width": "",
            "_view_module": "@jupyter-widgets/base",
            "_model_module_version": "1.5.0",
            "_view_count": null,
            "_view_module_version": "1.2.0",
            "bar_color": null,
            "_model_module": "@jupyter-widgets/controls"
          }
        },
        "84670f685f8e44758533dbb9201ef5d2": {
          "model_module": "@jupyter-widgets/base",
          "model_name": "LayoutModel",
          "state": {
            "_view_name": "LayoutView",
            "grid_template_rows": null,
            "right": null,
            "justify_content": null,
            "_view_module": "@jupyter-widgets/base",
            "overflow": null,
            "_model_module_version": "1.2.0",
            "_view_count": null,
            "flex_flow": null,
            "width": null,
            "min_width": null,
            "border": null,
            "align_items": null,
            "bottom": null,
            "_model_module": "@jupyter-widgets/base",
            "top": null,
            "grid_column": null,
            "overflow_y": null,
            "overflow_x": null,
            "grid_auto_flow": null,
            "grid_area": null,
            "grid_template_columns": null,
            "flex": null,
            "_model_name": "LayoutModel",
            "justify_items": null,
            "grid_row": null,
            "max_height": null,
            "align_content": null,
            "visibility": null,
            "align_self": null,
            "height": null,
            "min_height": null,
            "padding": null,
            "grid_auto_rows": null,
            "grid_gap": null,
            "max_width": null,
            "order": null,
            "_view_module_version": "1.2.0",
            "grid_template_areas": null,
            "object_position": null,
            "object_fit": null,
            "grid_auto_columns": null,
            "margin": null,
            "display": null,
            "left": null
          }
        },
        "d21b992c391b4128ac990ae8b5f66455": {
          "model_module": "@jupyter-widgets/controls",
          "model_name": "DescriptionStyleModel",
          "state": {
            "_view_name": "StyleView",
            "_model_name": "DescriptionStyleModel",
            "description_width": "",
            "_view_module": "@jupyter-widgets/base",
            "_model_module_version": "1.5.0",
            "_view_count": null,
            "_view_module_version": "1.2.0",
            "_model_module": "@jupyter-widgets/controls"
          }
        },
        "e7e34aabb9ad49d08b94ae7970c5c6c3": {
          "model_module": "@jupyter-widgets/base",
          "model_name": "LayoutModel",
          "state": {
            "_view_name": "LayoutView",
            "grid_template_rows": null,
            "right": null,
            "justify_content": null,
            "_view_module": "@jupyter-widgets/base",
            "overflow": null,
            "_model_module_version": "1.2.0",
            "_view_count": null,
            "flex_flow": null,
            "width": null,
            "min_width": null,
            "border": null,
            "align_items": null,
            "bottom": null,
            "_model_module": "@jupyter-widgets/base",
            "top": null,
            "grid_column": null,
            "overflow_y": null,
            "overflow_x": null,
            "grid_auto_flow": null,
            "grid_area": null,
            "grid_template_columns": null,
            "flex": null,
            "_model_name": "LayoutModel",
            "justify_items": null,
            "grid_row": null,
            "max_height": null,
            "align_content": null,
            "visibility": null,
            "align_self": null,
            "height": null,
            "min_height": null,
            "padding": null,
            "grid_auto_rows": null,
            "grid_gap": null,
            "max_width": null,
            "order": null,
            "_view_module_version": "1.2.0",
            "grid_template_areas": null,
            "object_position": null,
            "object_fit": null,
            "grid_auto_columns": null,
            "margin": null,
            "display": null,
            "left": null
          }
        },
        "30512962455f481495d28631bfbb9021": {
          "model_module": "@jupyter-widgets/controls",
          "model_name": "HBoxModel",
          "state": {
            "_view_name": "HBoxView",
            "_dom_classes": [],
            "_model_name": "HBoxModel",
            "_view_module": "@jupyter-widgets/controls",
            "_model_module_version": "1.5.0",
            "_view_count": null,
            "_view_module_version": "1.5.0",
            "box_style": "",
            "layout": "IPY_MODEL_ffe50b09994e488586f0f9beb721cd5e",
            "_model_module": "@jupyter-widgets/controls",
            "children": [
              "IPY_MODEL_bba8386223a6480182e21133504681a2",
              "IPY_MODEL_679b8d6fa5504b39be632eeca2b75671",
              "IPY_MODEL_256fa3d09bc34ae1875e022e85a59250"
            ]
          }
        },
        "ffe50b09994e488586f0f9beb721cd5e": {
          "model_module": "@jupyter-widgets/base",
          "model_name": "LayoutModel",
          "state": {
            "_view_name": "LayoutView",
            "grid_template_rows": null,
            "right": null,
            "justify_content": null,
            "_view_module": "@jupyter-widgets/base",
            "overflow": null,
            "_model_module_version": "1.2.0",
            "_view_count": null,
            "flex_flow": null,
            "width": null,
            "min_width": null,
            "border": null,
            "align_items": null,
            "bottom": null,
            "_model_module": "@jupyter-widgets/base",
            "top": null,
            "grid_column": null,
            "overflow_y": null,
            "overflow_x": null,
            "grid_auto_flow": null,
            "grid_area": null,
            "grid_template_columns": null,
            "flex": null,
            "_model_name": "LayoutModel",
            "justify_items": null,
            "grid_row": null,
            "max_height": null,
            "align_content": null,
            "visibility": null,
            "align_self": null,
            "height": null,
            "min_height": null,
            "padding": null,
            "grid_auto_rows": null,
            "grid_gap": null,
            "max_width": null,
            "order": null,
            "_view_module_version": "1.2.0",
            "grid_template_areas": null,
            "object_position": null,
            "object_fit": null,
            "grid_auto_columns": null,
            "margin": null,
            "display": null,
            "left": null
          }
        },
        "bba8386223a6480182e21133504681a2": {
          "model_module": "@jupyter-widgets/controls",
          "model_name": "HTMLModel",
          "state": {
            "_view_name": "HTMLView",
            "style": "IPY_MODEL_6e763ed161c74e6884a3f923f7822f61",
            "_dom_classes": [],
            "description": "",
            "_model_name": "HTMLModel",
            "placeholder": "​",
            "_view_module": "@jupyter-widgets/controls",
            "_model_module_version": "1.5.0",
            "value": "",
            "_view_count": null,
            "_view_module_version": "1.5.0",
            "description_tooltip": null,
            "_model_module": "@jupyter-widgets/controls",
            "layout": "IPY_MODEL_82f16b79bcbd438ba07a4dda4c44f68f"
          }
        },
        "679b8d6fa5504b39be632eeca2b75671": {
          "model_module": "@jupyter-widgets/controls",
          "model_name": "FloatProgressModel",
          "state": {
            "_view_name": "ProgressView",
            "style": "IPY_MODEL_755a8e608d3649d9ac6b3e65236269ea",
            "_dom_classes": [],
            "description": "",
            "_model_name": "FloatProgressModel",
            "bar_style": "success",
            "max": 10.9,
            "_view_module": "@jupyter-widgets/controls",
            "_model_module_version": "1.5.0",
            "value": 10.9,
            "_view_count": null,
            "_view_module_version": "1.5.0",
            "orientation": "horizontal",
            "min": 0,
            "description_tooltip": null,
            "_model_module": "@jupyter-widgets/controls",
            "layout": "IPY_MODEL_19caf1f9eda84807b0299ca1870fb98a"
          }
        },
        "256fa3d09bc34ae1875e022e85a59250": {
          "model_module": "@jupyter-widgets/controls",
          "model_name": "HTMLModel",
          "state": {
            "_view_name": "HTMLView",
            "style": "IPY_MODEL_c027f714d73e4ed58a4097b2a7de3795",
            "_dom_classes": [],
            "description": "",
            "_model_name": "HTMLModel",
            "placeholder": "​",
            "_view_module": "@jupyter-widgets/controls",
            "_model_module_version": "1.5.0",
            "value": " 15.0/? [00:01&lt;00:00,  9.88M/s]",
            "_view_count": null,
            "_view_module_version": "1.5.0",
            "description_tooltip": null,
            "_model_module": "@jupyter-widgets/controls",
            "layout": "IPY_MODEL_532b8912ab8f497e9548007f28d3e53a"
          }
        },
        "6e763ed161c74e6884a3f923f7822f61": {
          "model_module": "@jupyter-widgets/controls",
          "model_name": "DescriptionStyleModel",
          "state": {
            "_view_name": "StyleView",
            "_model_name": "DescriptionStyleModel",
            "description_width": "",
            "_view_module": "@jupyter-widgets/base",
            "_model_module_version": "1.5.0",
            "_view_count": null,
            "_view_module_version": "1.2.0",
            "_model_module": "@jupyter-widgets/controls"
          }
        },
        "82f16b79bcbd438ba07a4dda4c44f68f": {
          "model_module": "@jupyter-widgets/base",
          "model_name": "LayoutModel",
          "state": {
            "_view_name": "LayoutView",
            "grid_template_rows": null,
            "right": null,
            "justify_content": null,
            "_view_module": "@jupyter-widgets/base",
            "overflow": null,
            "_model_module_version": "1.2.0",
            "_view_count": null,
            "flex_flow": null,
            "width": null,
            "min_width": null,
            "border": null,
            "align_items": null,
            "bottom": null,
            "_model_module": "@jupyter-widgets/base",
            "top": null,
            "grid_column": null,
            "overflow_y": null,
            "overflow_x": null,
            "grid_auto_flow": null,
            "grid_area": null,
            "grid_template_columns": null,
            "flex": null,
            "_model_name": "LayoutModel",
            "justify_items": null,
            "grid_row": null,
            "max_height": null,
            "align_content": null,
            "visibility": null,
            "align_self": null,
            "height": null,
            "min_height": null,
            "padding": null,
            "grid_auto_rows": null,
            "grid_gap": null,
            "max_width": null,
            "order": null,
            "_view_module_version": "1.2.0",
            "grid_template_areas": null,
            "object_position": null,
            "object_fit": null,
            "grid_auto_columns": null,
            "margin": null,
            "display": null,
            "left": null
          }
        },
        "755a8e608d3649d9ac6b3e65236269ea": {
          "model_module": "@jupyter-widgets/controls",
          "model_name": "ProgressStyleModel",
          "state": {
            "_view_name": "StyleView",
            "_model_name": "ProgressStyleModel",
            "description_width": "",
            "_view_module": "@jupyter-widgets/base",
            "_model_module_version": "1.5.0",
            "_view_count": null,
            "_view_module_version": "1.2.0",
            "bar_color": null,
            "_model_module": "@jupyter-widgets/controls"
          }
        },
        "19caf1f9eda84807b0299ca1870fb98a": {
          "model_module": "@jupyter-widgets/base",
          "model_name": "LayoutModel",
          "state": {
            "_view_name": "LayoutView",
            "grid_template_rows": null,
            "right": null,
            "justify_content": null,
            "_view_module": "@jupyter-widgets/base",
            "overflow": null,
            "_model_module_version": "1.2.0",
            "_view_count": null,
            "flex_flow": null,
            "width": null,
            "min_width": null,
            "border": null,
            "align_items": null,
            "bottom": null,
            "_model_module": "@jupyter-widgets/base",
            "top": null,
            "grid_column": null,
            "overflow_y": null,
            "overflow_x": null,
            "grid_auto_flow": null,
            "grid_area": null,
            "grid_template_columns": null,
            "flex": null,
            "_model_name": "LayoutModel",
            "justify_items": null,
            "grid_row": null,
            "max_height": null,
            "align_content": null,
            "visibility": null,
            "align_self": null,
            "height": null,
            "min_height": null,
            "padding": null,
            "grid_auto_rows": null,
            "grid_gap": null,
            "max_width": null,
            "order": null,
            "_view_module_version": "1.2.0",
            "grid_template_areas": null,
            "object_position": null,
            "object_fit": null,
            "grid_auto_columns": null,
            "margin": null,
            "display": null,
            "left": null
          }
        },
        "c027f714d73e4ed58a4097b2a7de3795": {
          "model_module": "@jupyter-widgets/controls",
          "model_name": "DescriptionStyleModel",
          "state": {
            "_view_name": "StyleView",
            "_model_name": "DescriptionStyleModel",
            "description_width": "",
            "_view_module": "@jupyter-widgets/base",
            "_model_module_version": "1.5.0",
            "_view_count": null,
            "_view_module_version": "1.2.0",
            "_model_module": "@jupyter-widgets/controls"
          }
        },
        "532b8912ab8f497e9548007f28d3e53a": {
          "model_module": "@jupyter-widgets/base",
          "model_name": "LayoutModel",
          "state": {
            "_view_name": "LayoutView",
            "grid_template_rows": null,
            "right": null,
            "justify_content": null,
            "_view_module": "@jupyter-widgets/base",
            "overflow": null,
            "_model_module_version": "1.2.0",
            "_view_count": null,
            "flex_flow": null,
            "width": null,
            "min_width": null,
            "border": null,
            "align_items": null,
            "bottom": null,
            "_model_module": "@jupyter-widgets/base",
            "top": null,
            "grid_column": null,
            "overflow_y": null,
            "overflow_x": null,
            "grid_auto_flow": null,
            "grid_area": null,
            "grid_template_columns": null,
            "flex": null,
            "_model_name": "LayoutModel",
            "justify_items": null,
            "grid_row": null,
            "max_height": null,
            "align_content": null,
            "visibility": null,
            "align_self": null,
            "height": null,
            "min_height": null,
            "padding": null,
            "grid_auto_rows": null,
            "grid_gap": null,
            "max_width": null,
            "order": null,
            "_view_module_version": "1.2.0",
            "grid_template_areas": null,
            "object_position": null,
            "object_fit": null,
            "grid_auto_columns": null,
            "margin": null,
            "display": null,
            "left": null
          }
        },
        "401e1a5ad7bc4c5985a1459f88b461e4": {
          "model_module": "@jupyter-widgets/controls",
          "model_name": "HBoxModel",
          "state": {
            "_view_name": "HBoxView",
            "_dom_classes": [],
            "_model_name": "HBoxModel",
            "_view_module": "@jupyter-widgets/controls",
            "_model_module_version": "1.5.0",
            "_view_count": null,
            "_view_module_version": "1.5.0",
            "box_style": "",
            "layout": "IPY_MODEL_d79351da1d8949bcbc7e8426b3b579ee",
            "_model_module": "@jupyter-widgets/controls",
            "children": [
              "IPY_MODEL_153861d555fa42d3908585c5828b28e9",
              "IPY_MODEL_8c8ce3b1b2d742ad8479a09fe48121e4",
              "IPY_MODEL_9f41b785e9674255a96ea404c284de4c"
            ]
          }
        },
        "d79351da1d8949bcbc7e8426b3b579ee": {
          "model_module": "@jupyter-widgets/base",
          "model_name": "LayoutModel",
          "state": {
            "_view_name": "LayoutView",
            "grid_template_rows": null,
            "right": null,
            "justify_content": null,
            "_view_module": "@jupyter-widgets/base",
            "overflow": null,
            "_model_module_version": "1.2.0",
            "_view_count": null,
            "flex_flow": null,
            "width": null,
            "min_width": null,
            "border": null,
            "align_items": null,
            "bottom": null,
            "_model_module": "@jupyter-widgets/base",
            "top": null,
            "grid_column": null,
            "overflow_y": null,
            "overflow_x": null,
            "grid_auto_flow": null,
            "grid_area": null,
            "grid_template_columns": null,
            "flex": null,
            "_model_name": "LayoutModel",
            "justify_items": null,
            "grid_row": null,
            "max_height": null,
            "align_content": null,
            "visibility": null,
            "align_self": null,
            "height": null,
            "min_height": null,
            "padding": null,
            "grid_auto_rows": null,
            "grid_gap": null,
            "max_width": null,
            "order": null,
            "_view_module_version": "1.2.0",
            "grid_template_areas": null,
            "object_position": null,
            "object_fit": null,
            "grid_auto_columns": null,
            "margin": null,
            "display": null,
            "left": null
          }
        },
        "153861d555fa42d3908585c5828b28e9": {
          "model_module": "@jupyter-widgets/controls",
          "model_name": "HTMLModel",
          "state": {
            "_view_name": "HTMLView",
            "style": "IPY_MODEL_e9b24f21705c4ee4a737082ae032fda5",
            "_dom_classes": [],
            "description": "",
            "_model_name": "HTMLModel",
            "placeholder": "​",
            "_view_module": "@jupyter-widgets/controls",
            "_model_module_version": "1.5.0",
            "value": "",
            "_view_count": null,
            "_view_module_version": "1.5.0",
            "description_tooltip": null,
            "_model_module": "@jupyter-widgets/controls",
            "layout": "IPY_MODEL_8ce6f370bf814cf5b496101016099c58"
          }
        },
        "8c8ce3b1b2d742ad8479a09fe48121e4": {
          "model_module": "@jupyter-widgets/controls",
          "model_name": "FloatProgressModel",
          "state": {
            "_view_name": "ProgressView",
            "style": "IPY_MODEL_eb8e0c61434441d8b72127e5e2079fa2",
            "_dom_classes": [],
            "description": "",
            "_model_name": "FloatProgressModel",
            "bar_style": "success",
            "max": 2566.1,
            "_view_module": "@jupyter-widgets/controls",
            "_model_module_version": "1.5.0",
            "value": 2566.1,
            "_view_count": null,
            "_view_module_version": "1.5.0",
            "orientation": "horizontal",
            "min": 0,
            "description_tooltip": null,
            "_model_module": "@jupyter-widgets/controls",
            "layout": "IPY_MODEL_d58a122affaf4b3db625b14c8e1fc6a0"
          }
        },
        "9f41b785e9674255a96ea404c284de4c": {
          "model_module": "@jupyter-widgets/controls",
          "model_name": "HTMLModel",
          "state": {
            "_view_name": "HTMLView",
            "style": "IPY_MODEL_c2c470a275d6489ab334d6d64219c9a9",
            "_dom_classes": [],
            "description": "",
            "_model_name": "HTMLModel",
            "placeholder": "​",
            "_view_module": "@jupyter-widgets/controls",
            "_model_module_version": "1.5.0",
            "value": " 2570.0/? [00:58&lt;00:00, 35.02M/s]",
            "_view_count": null,
            "_view_module_version": "1.5.0",
            "description_tooltip": null,
            "_model_module": "@jupyter-widgets/controls",
            "layout": "IPY_MODEL_7f2145cb5dbe45cca8c164d4258bfe08"
          }
        },
        "e9b24f21705c4ee4a737082ae032fda5": {
          "model_module": "@jupyter-widgets/controls",
          "model_name": "DescriptionStyleModel",
          "state": {
            "_view_name": "StyleView",
            "_model_name": "DescriptionStyleModel",
            "description_width": "",
            "_view_module": "@jupyter-widgets/base",
            "_model_module_version": "1.5.0",
            "_view_count": null,
            "_view_module_version": "1.2.0",
            "_model_module": "@jupyter-widgets/controls"
          }
        },
        "8ce6f370bf814cf5b496101016099c58": {
          "model_module": "@jupyter-widgets/base",
          "model_name": "LayoutModel",
          "state": {
            "_view_name": "LayoutView",
            "grid_template_rows": null,
            "right": null,
            "justify_content": null,
            "_view_module": "@jupyter-widgets/base",
            "overflow": null,
            "_model_module_version": "1.2.0",
            "_view_count": null,
            "flex_flow": null,
            "width": null,
            "min_width": null,
            "border": null,
            "align_items": null,
            "bottom": null,
            "_model_module": "@jupyter-widgets/base",
            "top": null,
            "grid_column": null,
            "overflow_y": null,
            "overflow_x": null,
            "grid_auto_flow": null,
            "grid_area": null,
            "grid_template_columns": null,
            "flex": null,
            "_model_name": "LayoutModel",
            "justify_items": null,
            "grid_row": null,
            "max_height": null,
            "align_content": null,
            "visibility": null,
            "align_self": null,
            "height": null,
            "min_height": null,
            "padding": null,
            "grid_auto_rows": null,
            "grid_gap": null,
            "max_width": null,
            "order": null,
            "_view_module_version": "1.2.0",
            "grid_template_areas": null,
            "object_position": null,
            "object_fit": null,
            "grid_auto_columns": null,
            "margin": null,
            "display": null,
            "left": null
          }
        },
        "eb8e0c61434441d8b72127e5e2079fa2": {
          "model_module": "@jupyter-widgets/controls",
          "model_name": "ProgressStyleModel",
          "state": {
            "_view_name": "StyleView",
            "_model_name": "ProgressStyleModel",
            "description_width": "",
            "_view_module": "@jupyter-widgets/base",
            "_model_module_version": "1.5.0",
            "_view_count": null,
            "_view_module_version": "1.2.0",
            "bar_color": null,
            "_model_module": "@jupyter-widgets/controls"
          }
        },
        "d58a122affaf4b3db625b14c8e1fc6a0": {
          "model_module": "@jupyter-widgets/base",
          "model_name": "LayoutModel",
          "state": {
            "_view_name": "LayoutView",
            "grid_template_rows": null,
            "right": null,
            "justify_content": null,
            "_view_module": "@jupyter-widgets/base",
            "overflow": null,
            "_model_module_version": "1.2.0",
            "_view_count": null,
            "flex_flow": null,
            "width": null,
            "min_width": null,
            "border": null,
            "align_items": null,
            "bottom": null,
            "_model_module": "@jupyter-widgets/base",
            "top": null,
            "grid_column": null,
            "overflow_y": null,
            "overflow_x": null,
            "grid_auto_flow": null,
            "grid_area": null,
            "grid_template_columns": null,
            "flex": null,
            "_model_name": "LayoutModel",
            "justify_items": null,
            "grid_row": null,
            "max_height": null,
            "align_content": null,
            "visibility": null,
            "align_self": null,
            "height": null,
            "min_height": null,
            "padding": null,
            "grid_auto_rows": null,
            "grid_gap": null,
            "max_width": null,
            "order": null,
            "_view_module_version": "1.2.0",
            "grid_template_areas": null,
            "object_position": null,
            "object_fit": null,
            "grid_auto_columns": null,
            "margin": null,
            "display": null,
            "left": null
          }
        },
        "c2c470a275d6489ab334d6d64219c9a9": {
          "model_module": "@jupyter-widgets/controls",
          "model_name": "DescriptionStyleModel",
          "state": {
            "_view_name": "StyleView",
            "_model_name": "DescriptionStyleModel",
            "description_width": "",
            "_view_module": "@jupyter-widgets/base",
            "_model_module_version": "1.5.0",
            "_view_count": null,
            "_view_module_version": "1.2.0",
            "_model_module": "@jupyter-widgets/controls"
          }
        },
        "7f2145cb5dbe45cca8c164d4258bfe08": {
          "model_module": "@jupyter-widgets/base",
          "model_name": "LayoutModel",
          "state": {
            "_view_name": "LayoutView",
            "grid_template_rows": null,
            "right": null,
            "justify_content": null,
            "_view_module": "@jupyter-widgets/base",
            "overflow": null,
            "_model_module_version": "1.2.0",
            "_view_count": null,
            "flex_flow": null,
            "width": null,
            "min_width": null,
            "border": null,
            "align_items": null,
            "bottom": null,
            "_model_module": "@jupyter-widgets/base",
            "top": null,
            "grid_column": null,
            "overflow_y": null,
            "overflow_x": null,
            "grid_auto_flow": null,
            "grid_area": null,
            "grid_template_columns": null,
            "flex": null,
            "_model_name": "LayoutModel",
            "justify_items": null,
            "grid_row": null,
            "max_height": null,
            "align_content": null,
            "visibility": null,
            "align_self": null,
            "height": null,
            "min_height": null,
            "padding": null,
            "grid_auto_rows": null,
            "grid_gap": null,
            "max_width": null,
            "order": null,
            "_view_module_version": "1.2.0",
            "grid_template_areas": null,
            "object_position": null,
            "object_fit": null,
            "grid_auto_columns": null,
            "margin": null,
            "display": null,
            "left": null
          }
        },
        "c800ed6d9b5d4d0aaf130e9183966101": {
          "model_module": "@jupyter-widgets/controls",
          "model_name": "HBoxModel",
          "state": {
            "_view_name": "HBoxView",
            "_dom_classes": [],
            "_model_name": "HBoxModel",
            "_view_module": "@jupyter-widgets/controls",
            "_model_module_version": "1.5.0",
            "_view_count": null,
            "_view_module_version": "1.5.0",
            "box_style": "",
            "layout": "IPY_MODEL_3c9cb7fa6926486ab729f91b979ee034",
            "_model_module": "@jupyter-widgets/controls",
            "children": [
              "IPY_MODEL_7e15173dc31f4eb3869eacd976497081",
              "IPY_MODEL_bddb6dd04aa841339f09304caec674ae",
              "IPY_MODEL_3b92383dc0cd4d03a4af2b376a71970c"
            ]
          }
        },
        "3c9cb7fa6926486ab729f91b979ee034": {
          "model_module": "@jupyter-widgets/base",
          "model_name": "LayoutModel",
          "state": {
            "_view_name": "LayoutView",
            "grid_template_rows": null,
            "right": null,
            "justify_content": null,
            "_view_module": "@jupyter-widgets/base",
            "overflow": null,
            "_model_module_version": "1.2.0",
            "_view_count": null,
            "flex_flow": null,
            "width": null,
            "min_width": null,
            "border": null,
            "align_items": null,
            "bottom": null,
            "_model_module": "@jupyter-widgets/base",
            "top": null,
            "grid_column": null,
            "overflow_y": null,
            "overflow_x": null,
            "grid_auto_flow": null,
            "grid_area": null,
            "grid_template_columns": null,
            "flex": null,
            "_model_name": "LayoutModel",
            "justify_items": null,
            "grid_row": null,
            "max_height": null,
            "align_content": null,
            "visibility": null,
            "align_self": null,
            "height": null,
            "min_height": null,
            "padding": null,
            "grid_auto_rows": null,
            "grid_gap": null,
            "max_width": null,
            "order": null,
            "_view_module_version": "1.2.0",
            "grid_template_areas": null,
            "object_position": null,
            "object_fit": null,
            "grid_auto_columns": null,
            "margin": null,
            "display": null,
            "left": null
          }
        },
        "7e15173dc31f4eb3869eacd976497081": {
          "model_module": "@jupyter-widgets/controls",
          "model_name": "HTMLModel",
          "state": {
            "_view_name": "HTMLView",
            "style": "IPY_MODEL_173f87b5aedb4662b76ad099e76fae0b",
            "_dom_classes": [],
            "description": "",
            "_model_name": "HTMLModel",
            "placeholder": "​",
            "_view_module": "@jupyter-widgets/controls",
            "_model_module_version": "1.5.0",
            "value": "100%",
            "_view_count": null,
            "_view_module_version": "1.5.0",
            "description_tooltip": null,
            "_model_module": "@jupyter-widgets/controls",
            "layout": "IPY_MODEL_8a71f54ef14f4052bb7a67175f285fda"
          }
        },
        "bddb6dd04aa841339f09304caec674ae": {
          "model_module": "@jupyter-widgets/controls",
          "model_name": "FloatProgressModel",
          "state": {
            "_view_name": "ProgressView",
            "style": "IPY_MODEL_24101d86d64448f29b3adc9c81c1154e",
            "_dom_classes": [],
            "description": "",
            "_model_name": "FloatProgressModel",
            "bar_style": "success",
            "max": 150,
            "_view_module": "@jupyter-widgets/controls",
            "_model_module_version": "1.5.0",
            "value": 150,
            "_view_count": null,
            "_view_module_version": "1.5.0",
            "orientation": "horizontal",
            "min": 0,
            "description_tooltip": null,
            "_model_module": "@jupyter-widgets/controls",
            "layout": "IPY_MODEL_1b85bf479a4e49108431dccbe436f51a"
          }
        },
        "3b92383dc0cd4d03a4af2b376a71970c": {
          "model_module": "@jupyter-widgets/controls",
          "model_name": "HTMLModel",
          "state": {
            "_view_name": "HTMLView",
            "style": "IPY_MODEL_0758f530d35a4f4b99e207ed19ee6158",
            "_dom_classes": [],
            "description": "",
            "_model_name": "HTMLModel",
            "placeholder": "​",
            "_view_module": "@jupyter-widgets/controls",
            "_model_module_version": "1.5.0",
            "value": " 150/150 [01:00&lt;00:00,  1.44it/s]",
            "_view_count": null,
            "_view_module_version": "1.5.0",
            "description_tooltip": null,
            "_model_module": "@jupyter-widgets/controls",
            "layout": "IPY_MODEL_2bc61ff2147e4b4a89c9ee135dc42544"
          }
        },
        "173f87b5aedb4662b76ad099e76fae0b": {
          "model_module": "@jupyter-widgets/controls",
          "model_name": "DescriptionStyleModel",
          "state": {
            "_view_name": "StyleView",
            "_model_name": "DescriptionStyleModel",
            "description_width": "",
            "_view_module": "@jupyter-widgets/base",
            "_model_module_version": "1.5.0",
            "_view_count": null,
            "_view_module_version": "1.2.0",
            "_model_module": "@jupyter-widgets/controls"
          }
        },
        "8a71f54ef14f4052bb7a67175f285fda": {
          "model_module": "@jupyter-widgets/base",
          "model_name": "LayoutModel",
          "state": {
            "_view_name": "LayoutView",
            "grid_template_rows": null,
            "right": null,
            "justify_content": null,
            "_view_module": "@jupyter-widgets/base",
            "overflow": null,
            "_model_module_version": "1.2.0",
            "_view_count": null,
            "flex_flow": null,
            "width": null,
            "min_width": null,
            "border": null,
            "align_items": null,
            "bottom": null,
            "_model_module": "@jupyter-widgets/base",
            "top": null,
            "grid_column": null,
            "overflow_y": null,
            "overflow_x": null,
            "grid_auto_flow": null,
            "grid_area": null,
            "grid_template_columns": null,
            "flex": null,
            "_model_name": "LayoutModel",
            "justify_items": null,
            "grid_row": null,
            "max_height": null,
            "align_content": null,
            "visibility": null,
            "align_self": null,
            "height": null,
            "min_height": null,
            "padding": null,
            "grid_auto_rows": null,
            "grid_gap": null,
            "max_width": null,
            "order": null,
            "_view_module_version": "1.2.0",
            "grid_template_areas": null,
            "object_position": null,
            "object_fit": null,
            "grid_auto_columns": null,
            "margin": null,
            "display": null,
            "left": null
          }
        },
        "24101d86d64448f29b3adc9c81c1154e": {
          "model_module": "@jupyter-widgets/controls",
          "model_name": "ProgressStyleModel",
          "state": {
            "_view_name": "StyleView",
            "_model_name": "ProgressStyleModel",
            "description_width": "",
            "_view_module": "@jupyter-widgets/base",
            "_model_module_version": "1.5.0",
            "_view_count": null,
            "_view_module_version": "1.2.0",
            "bar_color": null,
            "_model_module": "@jupyter-widgets/controls"
          }
        },
        "1b85bf479a4e49108431dccbe436f51a": {
          "model_module": "@jupyter-widgets/base",
          "model_name": "LayoutModel",
          "state": {
            "_view_name": "LayoutView",
            "grid_template_rows": null,
            "right": null,
            "justify_content": null,
            "_view_module": "@jupyter-widgets/base",
            "overflow": null,
            "_model_module_version": "1.2.0",
            "_view_count": null,
            "flex_flow": null,
            "width": null,
            "min_width": null,
            "border": null,
            "align_items": null,
            "bottom": null,
            "_model_module": "@jupyter-widgets/base",
            "top": null,
            "grid_column": null,
            "overflow_y": null,
            "overflow_x": null,
            "grid_auto_flow": null,
            "grid_area": null,
            "grid_template_columns": null,
            "flex": null,
            "_model_name": "LayoutModel",
            "justify_items": null,
            "grid_row": null,
            "max_height": null,
            "align_content": null,
            "visibility": null,
            "align_self": null,
            "height": null,
            "min_height": null,
            "padding": null,
            "grid_auto_rows": null,
            "grid_gap": null,
            "max_width": null,
            "order": null,
            "_view_module_version": "1.2.0",
            "grid_template_areas": null,
            "object_position": null,
            "object_fit": null,
            "grid_auto_columns": null,
            "margin": null,
            "display": null,
            "left": null
          }
        },
        "0758f530d35a4f4b99e207ed19ee6158": {
          "model_module": "@jupyter-widgets/controls",
          "model_name": "DescriptionStyleModel",
          "state": {
            "_view_name": "StyleView",
            "_model_name": "DescriptionStyleModel",
            "description_width": "",
            "_view_module": "@jupyter-widgets/base",
            "_model_module_version": "1.5.0",
            "_view_count": null,
            "_view_module_version": "1.2.0",
            "_model_module": "@jupyter-widgets/controls"
          }
        },
        "2bc61ff2147e4b4a89c9ee135dc42544": {
          "model_module": "@jupyter-widgets/base",
          "model_name": "LayoutModel",
          "state": {
            "_view_name": "LayoutView",
            "grid_template_rows": null,
            "right": null,
            "justify_content": null,
            "_view_module": "@jupyter-widgets/base",
            "overflow": null,
            "_model_module_version": "1.2.0",
            "_view_count": null,
            "flex_flow": null,
            "width": null,
            "min_width": null,
            "border": null,
            "align_items": null,
            "bottom": null,
            "_model_module": "@jupyter-widgets/base",
            "top": null,
            "grid_column": null,
            "overflow_y": null,
            "overflow_x": null,
            "grid_auto_flow": null,
            "grid_area": null,
            "grid_template_columns": null,
            "flex": null,
            "_model_name": "LayoutModel",
            "justify_items": null,
            "grid_row": null,
            "max_height": null,
            "align_content": null,
            "visibility": null,
            "align_self": null,
            "height": null,
            "min_height": null,
            "padding": null,
            "grid_auto_rows": null,
            "grid_gap": null,
            "max_width": null,
            "order": null,
            "_view_module_version": "1.2.0",
            "grid_template_areas": null,
            "object_position": null,
            "object_fit": null,
            "grid_auto_columns": null,
            "margin": null,
            "display": null,
            "left": null
          }
        },
        "9c888e5c0e1244a0a28ed69a7a8d220f": {
          "model_module": "@jupyter-widgets/controls",
          "model_name": "HBoxModel",
          "state": {
            "_view_name": "HBoxView",
            "_dom_classes": [],
            "_model_name": "HBoxModel",
            "_view_module": "@jupyter-widgets/controls",
            "_model_module_version": "1.5.0",
            "_view_count": null,
            "_view_module_version": "1.5.0",
            "box_style": "",
            "layout": "IPY_MODEL_904839719c654ce58c4e4671e65475b2",
            "_model_module": "@jupyter-widgets/controls",
            "children": [
              "IPY_MODEL_13869c6557b1474bae4dc1c274c91921",
              "IPY_MODEL_e3d05c8a10f0400297212eebc9b221af",
              "IPY_MODEL_b61918db840f433c8179d790af2163c6"
            ]
          }
        },
        "904839719c654ce58c4e4671e65475b2": {
          "model_module": "@jupyter-widgets/base",
          "model_name": "LayoutModel",
          "state": {
            "_view_name": "LayoutView",
            "grid_template_rows": null,
            "right": null,
            "justify_content": null,
            "_view_module": "@jupyter-widgets/base",
            "overflow": null,
            "_model_module_version": "1.2.0",
            "_view_count": null,
            "flex_flow": null,
            "width": null,
            "min_width": null,
            "border": null,
            "align_items": null,
            "bottom": null,
            "_model_module": "@jupyter-widgets/base",
            "top": null,
            "grid_column": null,
            "overflow_y": null,
            "overflow_x": null,
            "grid_auto_flow": null,
            "grid_area": null,
            "grid_template_columns": null,
            "flex": null,
            "_model_name": "LayoutModel",
            "justify_items": null,
            "grid_row": null,
            "max_height": null,
            "align_content": null,
            "visibility": null,
            "align_self": null,
            "height": null,
            "min_height": null,
            "padding": null,
            "grid_auto_rows": null,
            "grid_gap": null,
            "max_width": null,
            "order": null,
            "_view_module_version": "1.2.0",
            "grid_template_areas": null,
            "object_position": null,
            "object_fit": null,
            "grid_auto_columns": null,
            "margin": null,
            "display": null,
            "left": null
          }
        },
        "13869c6557b1474bae4dc1c274c91921": {
          "model_module": "@jupyter-widgets/controls",
          "model_name": "HTMLModel",
          "state": {
            "_view_name": "HTMLView",
            "style": "IPY_MODEL_1a92a519fdc34fa4afc6c4cd73242135",
            "_dom_classes": [],
            "description": "",
            "_model_name": "HTMLModel",
            "placeholder": "​",
            "_view_module": "@jupyter-widgets/controls",
            "_model_module_version": "1.5.0",
            "value": "100%",
            "_view_count": null,
            "_view_module_version": "1.5.0",
            "description_tooltip": null,
            "_model_module": "@jupyter-widgets/controls",
            "layout": "IPY_MODEL_10616f90800142b68cd0339f61ec2592"
          }
        },
        "e3d05c8a10f0400297212eebc9b221af": {
          "model_module": "@jupyter-widgets/controls",
          "model_name": "FloatProgressModel",
          "state": {
            "_view_name": "ProgressView",
            "style": "IPY_MODEL_6e9ed2bebd8146669e318b770bc45609",
            "_dom_classes": [],
            "description": "",
            "_model_name": "FloatProgressModel",
            "bar_style": "success",
            "max": 150,
            "_view_module": "@jupyter-widgets/controls",
            "_model_module_version": "1.5.0",
            "value": 150,
            "_view_count": null,
            "_view_module_version": "1.5.0",
            "orientation": "horizontal",
            "min": 0,
            "description_tooltip": null,
            "_model_module": "@jupyter-widgets/controls",
            "layout": "IPY_MODEL_32bb208fd5d0428f875a466f2efec3a4"
          }
        },
        "b61918db840f433c8179d790af2163c6": {
          "model_module": "@jupyter-widgets/controls",
          "model_name": "HTMLModel",
          "state": {
            "_view_name": "HTMLView",
            "style": "IPY_MODEL_2a57cea083f94e828acd6b2a412a97cb",
            "_dom_classes": [],
            "description": "",
            "_model_name": "HTMLModel",
            "placeholder": "​",
            "_view_module": "@jupyter-widgets/controls",
            "_model_module_version": "1.5.0",
            "value": " 150/150 [01:00&lt;00:00,  1.34it/s]",
            "_view_count": null,
            "_view_module_version": "1.5.0",
            "description_tooltip": null,
            "_model_module": "@jupyter-widgets/controls",
            "layout": "IPY_MODEL_76053e53c787497a82579ec52b3c438b"
          }
        },
        "1a92a519fdc34fa4afc6c4cd73242135": {
          "model_module": "@jupyter-widgets/controls",
          "model_name": "DescriptionStyleModel",
          "state": {
            "_view_name": "StyleView",
            "_model_name": "DescriptionStyleModel",
            "description_width": "",
            "_view_module": "@jupyter-widgets/base",
            "_model_module_version": "1.5.0",
            "_view_count": null,
            "_view_module_version": "1.2.0",
            "_model_module": "@jupyter-widgets/controls"
          }
        },
        "10616f90800142b68cd0339f61ec2592": {
          "model_module": "@jupyter-widgets/base",
          "model_name": "LayoutModel",
          "state": {
            "_view_name": "LayoutView",
            "grid_template_rows": null,
            "right": null,
            "justify_content": null,
            "_view_module": "@jupyter-widgets/base",
            "overflow": null,
            "_model_module_version": "1.2.0",
            "_view_count": null,
            "flex_flow": null,
            "width": null,
            "min_width": null,
            "border": null,
            "align_items": null,
            "bottom": null,
            "_model_module": "@jupyter-widgets/base",
            "top": null,
            "grid_column": null,
            "overflow_y": null,
            "overflow_x": null,
            "grid_auto_flow": null,
            "grid_area": null,
            "grid_template_columns": null,
            "flex": null,
            "_model_name": "LayoutModel",
            "justify_items": null,
            "grid_row": null,
            "max_height": null,
            "align_content": null,
            "visibility": null,
            "align_self": null,
            "height": null,
            "min_height": null,
            "padding": null,
            "grid_auto_rows": null,
            "grid_gap": null,
            "max_width": null,
            "order": null,
            "_view_module_version": "1.2.0",
            "grid_template_areas": null,
            "object_position": null,
            "object_fit": null,
            "grid_auto_columns": null,
            "margin": null,
            "display": null,
            "left": null
          }
        },
        "6e9ed2bebd8146669e318b770bc45609": {
          "model_module": "@jupyter-widgets/controls",
          "model_name": "ProgressStyleModel",
          "state": {
            "_view_name": "StyleView",
            "_model_name": "ProgressStyleModel",
            "description_width": "",
            "_view_module": "@jupyter-widgets/base",
            "_model_module_version": "1.5.0",
            "_view_count": null,
            "_view_module_version": "1.2.0",
            "bar_color": null,
            "_model_module": "@jupyter-widgets/controls"
          }
        },
        "32bb208fd5d0428f875a466f2efec3a4": {
          "model_module": "@jupyter-widgets/base",
          "model_name": "LayoutModel",
          "state": {
            "_view_name": "LayoutView",
            "grid_template_rows": null,
            "right": null,
            "justify_content": null,
            "_view_module": "@jupyter-widgets/base",
            "overflow": null,
            "_model_module_version": "1.2.0",
            "_view_count": null,
            "flex_flow": null,
            "width": null,
            "min_width": null,
            "border": null,
            "align_items": null,
            "bottom": null,
            "_model_module": "@jupyter-widgets/base",
            "top": null,
            "grid_column": null,
            "overflow_y": null,
            "overflow_x": null,
            "grid_auto_flow": null,
            "grid_area": null,
            "grid_template_columns": null,
            "flex": null,
            "_model_name": "LayoutModel",
            "justify_items": null,
            "grid_row": null,
            "max_height": null,
            "align_content": null,
            "visibility": null,
            "align_self": null,
            "height": null,
            "min_height": null,
            "padding": null,
            "grid_auto_rows": null,
            "grid_gap": null,
            "max_width": null,
            "order": null,
            "_view_module_version": "1.2.0",
            "grid_template_areas": null,
            "object_position": null,
            "object_fit": null,
            "grid_auto_columns": null,
            "margin": null,
            "display": null,
            "left": null
          }
        },
        "2a57cea083f94e828acd6b2a412a97cb": {
          "model_module": "@jupyter-widgets/controls",
          "model_name": "DescriptionStyleModel",
          "state": {
            "_view_name": "StyleView",
            "_model_name": "DescriptionStyleModel",
            "description_width": "",
            "_view_module": "@jupyter-widgets/base",
            "_model_module_version": "1.5.0",
            "_view_count": null,
            "_view_module_version": "1.2.0",
            "_model_module": "@jupyter-widgets/controls"
          }
        },
        "76053e53c787497a82579ec52b3c438b": {
          "model_module": "@jupyter-widgets/base",
          "model_name": "LayoutModel",
          "state": {
            "_view_name": "LayoutView",
            "grid_template_rows": null,
            "right": null,
            "justify_content": null,
            "_view_module": "@jupyter-widgets/base",
            "overflow": null,
            "_model_module_version": "1.2.0",
            "_view_count": null,
            "flex_flow": null,
            "width": null,
            "min_width": null,
            "border": null,
            "align_items": null,
            "bottom": null,
            "_model_module": "@jupyter-widgets/base",
            "top": null,
            "grid_column": null,
            "overflow_y": null,
            "overflow_x": null,
            "grid_auto_flow": null,
            "grid_area": null,
            "grid_template_columns": null,
            "flex": null,
            "_model_name": "LayoutModel",
            "justify_items": null,
            "grid_row": null,
            "max_height": null,
            "align_content": null,
            "visibility": null,
            "align_self": null,
            "height": null,
            "min_height": null,
            "padding": null,
            "grid_auto_rows": null,
            "grid_gap": null,
            "max_width": null,
            "order": null,
            "_view_module_version": "1.2.0",
            "grid_template_areas": null,
            "object_position": null,
            "object_fit": null,
            "grid_auto_columns": null,
            "margin": null,
            "display": null,
            "left": null
          }
        },
        "efe3200d60b448b298cfce9e788cfaeb": {
          "model_module": "@jupyter-widgets/controls",
          "model_name": "HBoxModel",
          "state": {
            "_view_name": "HBoxView",
            "_dom_classes": [],
            "_model_name": "HBoxModel",
            "_view_module": "@jupyter-widgets/controls",
            "_model_module_version": "1.5.0",
            "_view_count": null,
            "_view_module_version": "1.5.0",
            "box_style": "",
            "layout": "IPY_MODEL_9faee47cf1344e908b8a86718f2ffc64",
            "_model_module": "@jupyter-widgets/controls",
            "children": [
              "IPY_MODEL_57455fb20d1e4ef7b48a041e54c7f816",
              "IPY_MODEL_5f1546e7ac7f43fea87103b2f2b27b56",
              "IPY_MODEL_6850574c41154a169faf9f38b55fd7a5"
            ]
          }
        },
        "9faee47cf1344e908b8a86718f2ffc64": {
          "model_module": "@jupyter-widgets/base",
          "model_name": "LayoutModel",
          "state": {
            "_view_name": "LayoutView",
            "grid_template_rows": null,
            "right": null,
            "justify_content": null,
            "_view_module": "@jupyter-widgets/base",
            "overflow": null,
            "_model_module_version": "1.2.0",
            "_view_count": null,
            "flex_flow": null,
            "width": null,
            "min_width": null,
            "border": null,
            "align_items": null,
            "bottom": null,
            "_model_module": "@jupyter-widgets/base",
            "top": null,
            "grid_column": null,
            "overflow_y": null,
            "overflow_x": null,
            "grid_auto_flow": null,
            "grid_area": null,
            "grid_template_columns": null,
            "flex": null,
            "_model_name": "LayoutModel",
            "justify_items": null,
            "grid_row": null,
            "max_height": null,
            "align_content": null,
            "visibility": null,
            "align_self": null,
            "height": null,
            "min_height": null,
            "padding": null,
            "grid_auto_rows": null,
            "grid_gap": null,
            "max_width": null,
            "order": null,
            "_view_module_version": "1.2.0",
            "grid_template_areas": null,
            "object_position": null,
            "object_fit": null,
            "grid_auto_columns": null,
            "margin": null,
            "display": null,
            "left": null
          }
        },
        "57455fb20d1e4ef7b48a041e54c7f816": {
          "model_module": "@jupyter-widgets/controls",
          "model_name": "HTMLModel",
          "state": {
            "_view_name": "HTMLView",
            "style": "IPY_MODEL_508d67185bbd4e608433455b65f495e0",
            "_dom_classes": [],
            "description": "",
            "_model_name": "HTMLModel",
            "placeholder": "​",
            "_view_module": "@jupyter-widgets/controls",
            "_model_module_version": "1.5.0",
            "value": "100%",
            "_view_count": null,
            "_view_module_version": "1.5.0",
            "description_tooltip": null,
            "_model_module": "@jupyter-widgets/controls",
            "layout": "IPY_MODEL_9c2ad1b7883246a5a53e462eff84d3ba"
          }
        },
        "5f1546e7ac7f43fea87103b2f2b27b56": {
          "model_module": "@jupyter-widgets/controls",
          "model_name": "FloatProgressModel",
          "state": {
            "_view_name": "ProgressView",
            "style": "IPY_MODEL_38d45cbe2ad94319a7867bae1474f470",
            "_dom_classes": [],
            "description": "",
            "_model_name": "FloatProgressModel",
            "bar_style": "success",
            "max": 150,
            "_view_module": "@jupyter-widgets/controls",
            "_model_module_version": "1.5.0",
            "value": 150,
            "_view_count": null,
            "_view_module_version": "1.5.0",
            "orientation": "horizontal",
            "min": 0,
            "description_tooltip": null,
            "_model_module": "@jupyter-widgets/controls",
            "layout": "IPY_MODEL_400759ba8d5f45ca96f3eac4faaf0ede"
          }
        },
        "6850574c41154a169faf9f38b55fd7a5": {
          "model_module": "@jupyter-widgets/controls",
          "model_name": "HTMLModel",
          "state": {
            "_view_name": "HTMLView",
            "style": "IPY_MODEL_27caa433f2de498a8ffff907ee24cc80",
            "_dom_classes": [],
            "description": "",
            "_model_name": "HTMLModel",
            "placeholder": "​",
            "_view_module": "@jupyter-widgets/controls",
            "_model_module_version": "1.5.0",
            "value": " 150/150 [01:04&lt;00:00,  1.30it/s]",
            "_view_count": null,
            "_view_module_version": "1.5.0",
            "description_tooltip": null,
            "_model_module": "@jupyter-widgets/controls",
            "layout": "IPY_MODEL_e455c3b2a8fb4f5d96cfb4c465d6e003"
          }
        },
        "508d67185bbd4e608433455b65f495e0": {
          "model_module": "@jupyter-widgets/controls",
          "model_name": "DescriptionStyleModel",
          "state": {
            "_view_name": "StyleView",
            "_model_name": "DescriptionStyleModel",
            "description_width": "",
            "_view_module": "@jupyter-widgets/base",
            "_model_module_version": "1.5.0",
            "_view_count": null,
            "_view_module_version": "1.2.0",
            "_model_module": "@jupyter-widgets/controls"
          }
        },
        "9c2ad1b7883246a5a53e462eff84d3ba": {
          "model_module": "@jupyter-widgets/base",
          "model_name": "LayoutModel",
          "state": {
            "_view_name": "LayoutView",
            "grid_template_rows": null,
            "right": null,
            "justify_content": null,
            "_view_module": "@jupyter-widgets/base",
            "overflow": null,
            "_model_module_version": "1.2.0",
            "_view_count": null,
            "flex_flow": null,
            "width": null,
            "min_width": null,
            "border": null,
            "align_items": null,
            "bottom": null,
            "_model_module": "@jupyter-widgets/base",
            "top": null,
            "grid_column": null,
            "overflow_y": null,
            "overflow_x": null,
            "grid_auto_flow": null,
            "grid_area": null,
            "grid_template_columns": null,
            "flex": null,
            "_model_name": "LayoutModel",
            "justify_items": null,
            "grid_row": null,
            "max_height": null,
            "align_content": null,
            "visibility": null,
            "align_self": null,
            "height": null,
            "min_height": null,
            "padding": null,
            "grid_auto_rows": null,
            "grid_gap": null,
            "max_width": null,
            "order": null,
            "_view_module_version": "1.2.0",
            "grid_template_areas": null,
            "object_position": null,
            "object_fit": null,
            "grid_auto_columns": null,
            "margin": null,
            "display": null,
            "left": null
          }
        },
        "38d45cbe2ad94319a7867bae1474f470": {
          "model_module": "@jupyter-widgets/controls",
          "model_name": "ProgressStyleModel",
          "state": {
            "_view_name": "StyleView",
            "_model_name": "ProgressStyleModel",
            "description_width": "",
            "_view_module": "@jupyter-widgets/base",
            "_model_module_version": "1.5.0",
            "_view_count": null,
            "_view_module_version": "1.2.0",
            "bar_color": null,
            "_model_module": "@jupyter-widgets/controls"
          }
        },
        "400759ba8d5f45ca96f3eac4faaf0ede": {
          "model_module": "@jupyter-widgets/base",
          "model_name": "LayoutModel",
          "state": {
            "_view_name": "LayoutView",
            "grid_template_rows": null,
            "right": null,
            "justify_content": null,
            "_view_module": "@jupyter-widgets/base",
            "overflow": null,
            "_model_module_version": "1.2.0",
            "_view_count": null,
            "flex_flow": null,
            "width": null,
            "min_width": null,
            "border": null,
            "align_items": null,
            "bottom": null,
            "_model_module": "@jupyter-widgets/base",
            "top": null,
            "grid_column": null,
            "overflow_y": null,
            "overflow_x": null,
            "grid_auto_flow": null,
            "grid_area": null,
            "grid_template_columns": null,
            "flex": null,
            "_model_name": "LayoutModel",
            "justify_items": null,
            "grid_row": null,
            "max_height": null,
            "align_content": null,
            "visibility": null,
            "align_self": null,
            "height": null,
            "min_height": null,
            "padding": null,
            "grid_auto_rows": null,
            "grid_gap": null,
            "max_width": null,
            "order": null,
            "_view_module_version": "1.2.0",
            "grid_template_areas": null,
            "object_position": null,
            "object_fit": null,
            "grid_auto_columns": null,
            "margin": null,
            "display": null,
            "left": null
          }
        },
        "27caa433f2de498a8ffff907ee24cc80": {
          "model_module": "@jupyter-widgets/controls",
          "model_name": "DescriptionStyleModel",
          "state": {
            "_view_name": "StyleView",
            "_model_name": "DescriptionStyleModel",
            "description_width": "",
            "_view_module": "@jupyter-widgets/base",
            "_model_module_version": "1.5.0",
            "_view_count": null,
            "_view_module_version": "1.2.0",
            "_model_module": "@jupyter-widgets/controls"
          }
        },
        "e455c3b2a8fb4f5d96cfb4c465d6e003": {
          "model_module": "@jupyter-widgets/base",
          "model_name": "LayoutModel",
          "state": {
            "_view_name": "LayoutView",
            "grid_template_rows": null,
            "right": null,
            "justify_content": null,
            "_view_module": "@jupyter-widgets/base",
            "overflow": null,
            "_model_module_version": "1.2.0",
            "_view_count": null,
            "flex_flow": null,
            "width": null,
            "min_width": null,
            "border": null,
            "align_items": null,
            "bottom": null,
            "_model_module": "@jupyter-widgets/base",
            "top": null,
            "grid_column": null,
            "overflow_y": null,
            "overflow_x": null,
            "grid_auto_flow": null,
            "grid_area": null,
            "grid_template_columns": null,
            "flex": null,
            "_model_name": "LayoutModel",
            "justify_items": null,
            "grid_row": null,
            "max_height": null,
            "align_content": null,
            "visibility": null,
            "align_self": null,
            "height": null,
            "min_height": null,
            "padding": null,
            "grid_auto_rows": null,
            "grid_gap": null,
            "max_width": null,
            "order": null,
            "_view_module_version": "1.2.0",
            "grid_template_areas": null,
            "object_position": null,
            "object_fit": null,
            "grid_auto_columns": null,
            "margin": null,
            "display": null,
            "left": null
          }
        },
        "2403f4da7b65434b9318ced24fba36d4": {
          "model_module": "@jupyter-widgets/controls",
          "model_name": "HBoxModel",
          "state": {
            "_view_name": "HBoxView",
            "_dom_classes": [],
            "_model_name": "HBoxModel",
            "_view_module": "@jupyter-widgets/controls",
            "_model_module_version": "1.5.0",
            "_view_count": null,
            "_view_module_version": "1.5.0",
            "box_style": "",
            "layout": "IPY_MODEL_e4ba9675e72f476291b7782aa0a9777b",
            "_model_module": "@jupyter-widgets/controls",
            "children": [
              "IPY_MODEL_fe403313ef664e78917bb64b7f0850a0",
              "IPY_MODEL_c299e7cb7a9b4a18a5ecf7f34a9993b4",
              "IPY_MODEL_2d365dd973c7462ba8d3a0517c136ca1"
            ]
          }
        },
        "e4ba9675e72f476291b7782aa0a9777b": {
          "model_module": "@jupyter-widgets/base",
          "model_name": "LayoutModel",
          "state": {
            "_view_name": "LayoutView",
            "grid_template_rows": null,
            "right": null,
            "justify_content": null,
            "_view_module": "@jupyter-widgets/base",
            "overflow": null,
            "_model_module_version": "1.2.0",
            "_view_count": null,
            "flex_flow": null,
            "width": null,
            "min_width": null,
            "border": null,
            "align_items": null,
            "bottom": null,
            "_model_module": "@jupyter-widgets/base",
            "top": null,
            "grid_column": null,
            "overflow_y": null,
            "overflow_x": null,
            "grid_auto_flow": null,
            "grid_area": null,
            "grid_template_columns": null,
            "flex": null,
            "_model_name": "LayoutModel",
            "justify_items": null,
            "grid_row": null,
            "max_height": null,
            "align_content": null,
            "visibility": null,
            "align_self": null,
            "height": null,
            "min_height": null,
            "padding": null,
            "grid_auto_rows": null,
            "grid_gap": null,
            "max_width": null,
            "order": null,
            "_view_module_version": "1.2.0",
            "grid_template_areas": null,
            "object_position": null,
            "object_fit": null,
            "grid_auto_columns": null,
            "margin": null,
            "display": null,
            "left": null
          }
        },
        "fe403313ef664e78917bb64b7f0850a0": {
          "model_module": "@jupyter-widgets/controls",
          "model_name": "HTMLModel",
          "state": {
            "_view_name": "HTMLView",
            "style": "IPY_MODEL_e6cd1e0999454157af29f10326ad6a89",
            "_dom_classes": [],
            "description": "",
            "_model_name": "HTMLModel",
            "placeholder": "​",
            "_view_module": "@jupyter-widgets/controls",
            "_model_module_version": "1.5.0",
            "value": "100%",
            "_view_count": null,
            "_view_module_version": "1.5.0",
            "description_tooltip": null,
            "_model_module": "@jupyter-widgets/controls",
            "layout": "IPY_MODEL_ca59666c52774ca9a1d55e239803a945"
          }
        },
        "c299e7cb7a9b4a18a5ecf7f34a9993b4": {
          "model_module": "@jupyter-widgets/controls",
          "model_name": "FloatProgressModel",
          "state": {
            "_view_name": "ProgressView",
            "style": "IPY_MODEL_247f59d3d62a47d29754a0f6ba2480b7",
            "_dom_classes": [],
            "description": "",
            "_model_name": "FloatProgressModel",
            "bar_style": "success",
            "max": 200,
            "_view_module": "@jupyter-widgets/controls",
            "_model_module_version": "1.5.0",
            "value": 200,
            "_view_count": null,
            "_view_module_version": "1.5.0",
            "orientation": "horizontal",
            "min": 0,
            "description_tooltip": null,
            "_model_module": "@jupyter-widgets/controls",
            "layout": "IPY_MODEL_646d148dce804957bb5819cb86fe2c15"
          }
        },
        "2d365dd973c7462ba8d3a0517c136ca1": {
          "model_module": "@jupyter-widgets/controls",
          "model_name": "HTMLModel",
          "state": {
            "_view_name": "HTMLView",
            "style": "IPY_MODEL_9af74299f00142349d509c75652614ad",
            "_dom_classes": [],
            "description": "",
            "_model_name": "HTMLModel",
            "placeholder": "​",
            "_view_module": "@jupyter-widgets/controls",
            "_model_module_version": "1.5.0",
            "value": " 200/200 [01:55&lt;00:00,  1.19s/it]",
            "_view_count": null,
            "_view_module_version": "1.5.0",
            "description_tooltip": null,
            "_model_module": "@jupyter-widgets/controls",
            "layout": "IPY_MODEL_37233ca3cb6546b48ea8cf57300280d2"
          }
        },
        "e6cd1e0999454157af29f10326ad6a89": {
          "model_module": "@jupyter-widgets/controls",
          "model_name": "DescriptionStyleModel",
          "state": {
            "_view_name": "StyleView",
            "_model_name": "DescriptionStyleModel",
            "description_width": "",
            "_view_module": "@jupyter-widgets/base",
            "_model_module_version": "1.5.0",
            "_view_count": null,
            "_view_module_version": "1.2.0",
            "_model_module": "@jupyter-widgets/controls"
          }
        },
        "ca59666c52774ca9a1d55e239803a945": {
          "model_module": "@jupyter-widgets/base",
          "model_name": "LayoutModel",
          "state": {
            "_view_name": "LayoutView",
            "grid_template_rows": null,
            "right": null,
            "justify_content": null,
            "_view_module": "@jupyter-widgets/base",
            "overflow": null,
            "_model_module_version": "1.2.0",
            "_view_count": null,
            "flex_flow": null,
            "width": null,
            "min_width": null,
            "border": null,
            "align_items": null,
            "bottom": null,
            "_model_module": "@jupyter-widgets/base",
            "top": null,
            "grid_column": null,
            "overflow_y": null,
            "overflow_x": null,
            "grid_auto_flow": null,
            "grid_area": null,
            "grid_template_columns": null,
            "flex": null,
            "_model_name": "LayoutModel",
            "justify_items": null,
            "grid_row": null,
            "max_height": null,
            "align_content": null,
            "visibility": null,
            "align_self": null,
            "height": null,
            "min_height": null,
            "padding": null,
            "grid_auto_rows": null,
            "grid_gap": null,
            "max_width": null,
            "order": null,
            "_view_module_version": "1.2.0",
            "grid_template_areas": null,
            "object_position": null,
            "object_fit": null,
            "grid_auto_columns": null,
            "margin": null,
            "display": null,
            "left": null
          }
        },
        "247f59d3d62a47d29754a0f6ba2480b7": {
          "model_module": "@jupyter-widgets/controls",
          "model_name": "ProgressStyleModel",
          "state": {
            "_view_name": "StyleView",
            "_model_name": "ProgressStyleModel",
            "description_width": "",
            "_view_module": "@jupyter-widgets/base",
            "_model_module_version": "1.5.0",
            "_view_count": null,
            "_view_module_version": "1.2.0",
            "bar_color": null,
            "_model_module": "@jupyter-widgets/controls"
          }
        },
        "646d148dce804957bb5819cb86fe2c15": {
          "model_module": "@jupyter-widgets/base",
          "model_name": "LayoutModel",
          "state": {
            "_view_name": "LayoutView",
            "grid_template_rows": null,
            "right": null,
            "justify_content": null,
            "_view_module": "@jupyter-widgets/base",
            "overflow": null,
            "_model_module_version": "1.2.0",
            "_view_count": null,
            "flex_flow": null,
            "width": null,
            "min_width": null,
            "border": null,
            "align_items": null,
            "bottom": null,
            "_model_module": "@jupyter-widgets/base",
            "top": null,
            "grid_column": null,
            "overflow_y": null,
            "overflow_x": null,
            "grid_auto_flow": null,
            "grid_area": null,
            "grid_template_columns": null,
            "flex": null,
            "_model_name": "LayoutModel",
            "justify_items": null,
            "grid_row": null,
            "max_height": null,
            "align_content": null,
            "visibility": null,
            "align_self": null,
            "height": null,
            "min_height": null,
            "padding": null,
            "grid_auto_rows": null,
            "grid_gap": null,
            "max_width": null,
            "order": null,
            "_view_module_version": "1.2.0",
            "grid_template_areas": null,
            "object_position": null,
            "object_fit": null,
            "grid_auto_columns": null,
            "margin": null,
            "display": null,
            "left": null
          }
        },
        "9af74299f00142349d509c75652614ad": {
          "model_module": "@jupyter-widgets/controls",
          "model_name": "DescriptionStyleModel",
          "state": {
            "_view_name": "StyleView",
            "_model_name": "DescriptionStyleModel",
            "description_width": "",
            "_view_module": "@jupyter-widgets/base",
            "_model_module_version": "1.5.0",
            "_view_count": null,
            "_view_module_version": "1.2.0",
            "_model_module": "@jupyter-widgets/controls"
          }
        },
        "37233ca3cb6546b48ea8cf57300280d2": {
          "model_module": "@jupyter-widgets/base",
          "model_name": "LayoutModel",
          "state": {
            "_view_name": "LayoutView",
            "grid_template_rows": null,
            "right": null,
            "justify_content": null,
            "_view_module": "@jupyter-widgets/base",
            "overflow": null,
            "_model_module_version": "1.2.0",
            "_view_count": null,
            "flex_flow": null,
            "width": null,
            "min_width": null,
            "border": null,
            "align_items": null,
            "bottom": null,
            "_model_module": "@jupyter-widgets/base",
            "top": null,
            "grid_column": null,
            "overflow_y": null,
            "overflow_x": null,
            "grid_auto_flow": null,
            "grid_area": null,
            "grid_template_columns": null,
            "flex": null,
            "_model_name": "LayoutModel",
            "justify_items": null,
            "grid_row": null,
            "max_height": null,
            "align_content": null,
            "visibility": null,
            "align_self": null,
            "height": null,
            "min_height": null,
            "padding": null,
            "grid_auto_rows": null,
            "grid_gap": null,
            "max_width": null,
            "order": null,
            "_view_module_version": "1.2.0",
            "grid_template_areas": null,
            "object_position": null,
            "object_fit": null,
            "grid_auto_columns": null,
            "margin": null,
            "display": null,
            "left": null
          }
        },
        "4ad5a5c74cd04597a1983f42690dcbaf": {
          "model_module": "@jupyter-widgets/controls",
          "model_name": "HBoxModel",
          "state": {
            "_view_name": "HBoxView",
            "_dom_classes": [],
            "_model_name": "HBoxModel",
            "_view_module": "@jupyter-widgets/controls",
            "_model_module_version": "1.5.0",
            "_view_count": null,
            "_view_module_version": "1.5.0",
            "box_style": "",
            "layout": "IPY_MODEL_78588894df6b4b12a7dc67f3ef5f876e",
            "_model_module": "@jupyter-widgets/controls",
            "children": [
              "IPY_MODEL_a591b3e842cf4f90b0448f1fd89a9c9d",
              "IPY_MODEL_42f2d29bce64421ab30aaf5693393acf",
              "IPY_MODEL_cf377b409e424ebd94b06efb56f8eebe"
            ]
          }
        },
        "78588894df6b4b12a7dc67f3ef5f876e": {
          "model_module": "@jupyter-widgets/base",
          "model_name": "LayoutModel",
          "state": {
            "_view_name": "LayoutView",
            "grid_template_rows": null,
            "right": null,
            "justify_content": null,
            "_view_module": "@jupyter-widgets/base",
            "overflow": null,
            "_model_module_version": "1.2.0",
            "_view_count": null,
            "flex_flow": null,
            "width": null,
            "min_width": null,
            "border": null,
            "align_items": null,
            "bottom": null,
            "_model_module": "@jupyter-widgets/base",
            "top": null,
            "grid_column": null,
            "overflow_y": null,
            "overflow_x": null,
            "grid_auto_flow": null,
            "grid_area": null,
            "grid_template_columns": null,
            "flex": null,
            "_model_name": "LayoutModel",
            "justify_items": null,
            "grid_row": null,
            "max_height": null,
            "align_content": null,
            "visibility": null,
            "align_self": null,
            "height": null,
            "min_height": null,
            "padding": null,
            "grid_auto_rows": null,
            "grid_gap": null,
            "max_width": null,
            "order": null,
            "_view_module_version": "1.2.0",
            "grid_template_areas": null,
            "object_position": null,
            "object_fit": null,
            "grid_auto_columns": null,
            "margin": null,
            "display": null,
            "left": null
          }
        },
        "a591b3e842cf4f90b0448f1fd89a9c9d": {
          "model_module": "@jupyter-widgets/controls",
          "model_name": "HTMLModel",
          "state": {
            "_view_name": "HTMLView",
            "style": "IPY_MODEL_37aed02eb4df4d29a48b32f9cfa34514",
            "_dom_classes": [],
            "description": "",
            "_model_name": "HTMLModel",
            "placeholder": "​",
            "_view_module": "@jupyter-widgets/controls",
            "_model_module_version": "1.5.0",
            "value": "100%",
            "_view_count": null,
            "_view_module_version": "1.5.0",
            "description_tooltip": null,
            "_model_module": "@jupyter-widgets/controls",
            "layout": "IPY_MODEL_1b3836afd9944979b5331c44e9907226"
          }
        },
        "42f2d29bce64421ab30aaf5693393acf": {
          "model_module": "@jupyter-widgets/controls",
          "model_name": "FloatProgressModel",
          "state": {
            "_view_name": "ProgressView",
            "style": "IPY_MODEL_490932c82aee49fcadc26527aaae15e2",
            "_dom_classes": [],
            "description": "",
            "_model_name": "FloatProgressModel",
            "bar_style": "success",
            "max": 200,
            "_view_module": "@jupyter-widgets/controls",
            "_model_module_version": "1.5.0",
            "value": 200,
            "_view_count": null,
            "_view_module_version": "1.5.0",
            "orientation": "horizontal",
            "min": 0,
            "description_tooltip": null,
            "_model_module": "@jupyter-widgets/controls",
            "layout": "IPY_MODEL_e0854c219acf4a60ba919ea08c4d79a9"
          }
        },
        "cf377b409e424ebd94b06efb56f8eebe": {
          "model_module": "@jupyter-widgets/controls",
          "model_name": "HTMLModel",
          "state": {
            "_view_name": "HTMLView",
            "style": "IPY_MODEL_38189988a5714966be25413228ae8005",
            "_dom_classes": [],
            "description": "",
            "_model_name": "HTMLModel",
            "placeholder": "​",
            "_view_module": "@jupyter-widgets/controls",
            "_model_module_version": "1.5.0",
            "value": " 200/200 [01:47&lt;00:00,  1.13s/it]",
            "_view_count": null,
            "_view_module_version": "1.5.0",
            "description_tooltip": null,
            "_model_module": "@jupyter-widgets/controls",
            "layout": "IPY_MODEL_a75fc04d79ca442c88153c8d44b5f7aa"
          }
        },
        "37aed02eb4df4d29a48b32f9cfa34514": {
          "model_module": "@jupyter-widgets/controls",
          "model_name": "DescriptionStyleModel",
          "state": {
            "_view_name": "StyleView",
            "_model_name": "DescriptionStyleModel",
            "description_width": "",
            "_view_module": "@jupyter-widgets/base",
            "_model_module_version": "1.5.0",
            "_view_count": null,
            "_view_module_version": "1.2.0",
            "_model_module": "@jupyter-widgets/controls"
          }
        },
        "1b3836afd9944979b5331c44e9907226": {
          "model_module": "@jupyter-widgets/base",
          "model_name": "LayoutModel",
          "state": {
            "_view_name": "LayoutView",
            "grid_template_rows": null,
            "right": null,
            "justify_content": null,
            "_view_module": "@jupyter-widgets/base",
            "overflow": null,
            "_model_module_version": "1.2.0",
            "_view_count": null,
            "flex_flow": null,
            "width": null,
            "min_width": null,
            "border": null,
            "align_items": null,
            "bottom": null,
            "_model_module": "@jupyter-widgets/base",
            "top": null,
            "grid_column": null,
            "overflow_y": null,
            "overflow_x": null,
            "grid_auto_flow": null,
            "grid_area": null,
            "grid_template_columns": null,
            "flex": null,
            "_model_name": "LayoutModel",
            "justify_items": null,
            "grid_row": null,
            "max_height": null,
            "align_content": null,
            "visibility": null,
            "align_self": null,
            "height": null,
            "min_height": null,
            "padding": null,
            "grid_auto_rows": null,
            "grid_gap": null,
            "max_width": null,
            "order": null,
            "_view_module_version": "1.2.0",
            "grid_template_areas": null,
            "object_position": null,
            "object_fit": null,
            "grid_auto_columns": null,
            "margin": null,
            "display": null,
            "left": null
          }
        },
        "490932c82aee49fcadc26527aaae15e2": {
          "model_module": "@jupyter-widgets/controls",
          "model_name": "ProgressStyleModel",
          "state": {
            "_view_name": "StyleView",
            "_model_name": "ProgressStyleModel",
            "description_width": "",
            "_view_module": "@jupyter-widgets/base",
            "_model_module_version": "1.5.0",
            "_view_count": null,
            "_view_module_version": "1.2.0",
            "bar_color": null,
            "_model_module": "@jupyter-widgets/controls"
          }
        },
        "e0854c219acf4a60ba919ea08c4d79a9": {
          "model_module": "@jupyter-widgets/base",
          "model_name": "LayoutModel",
          "state": {
            "_view_name": "LayoutView",
            "grid_template_rows": null,
            "right": null,
            "justify_content": null,
            "_view_module": "@jupyter-widgets/base",
            "overflow": null,
            "_model_module_version": "1.2.0",
            "_view_count": null,
            "flex_flow": null,
            "width": null,
            "min_width": null,
            "border": null,
            "align_items": null,
            "bottom": null,
            "_model_module": "@jupyter-widgets/base",
            "top": null,
            "grid_column": null,
            "overflow_y": null,
            "overflow_x": null,
            "grid_auto_flow": null,
            "grid_area": null,
            "grid_template_columns": null,
            "flex": null,
            "_model_name": "LayoutModel",
            "justify_items": null,
            "grid_row": null,
            "max_height": null,
            "align_content": null,
            "visibility": null,
            "align_self": null,
            "height": null,
            "min_height": null,
            "padding": null,
            "grid_auto_rows": null,
            "grid_gap": null,
            "max_width": null,
            "order": null,
            "_view_module_version": "1.2.0",
            "grid_template_areas": null,
            "object_position": null,
            "object_fit": null,
            "grid_auto_columns": null,
            "margin": null,
            "display": null,
            "left": null
          }
        },
        "38189988a5714966be25413228ae8005": {
          "model_module": "@jupyter-widgets/controls",
          "model_name": "DescriptionStyleModel",
          "state": {
            "_view_name": "StyleView",
            "_model_name": "DescriptionStyleModel",
            "description_width": "",
            "_view_module": "@jupyter-widgets/base",
            "_model_module_version": "1.5.0",
            "_view_count": null,
            "_view_module_version": "1.2.0",
            "_model_module": "@jupyter-widgets/controls"
          }
        },
        "a75fc04d79ca442c88153c8d44b5f7aa": {
          "model_module": "@jupyter-widgets/base",
          "model_name": "LayoutModel",
          "state": {
            "_view_name": "LayoutView",
            "grid_template_rows": null,
            "right": null,
            "justify_content": null,
            "_view_module": "@jupyter-widgets/base",
            "overflow": null,
            "_model_module_version": "1.2.0",
            "_view_count": null,
            "flex_flow": null,
            "width": null,
            "min_width": null,
            "border": null,
            "align_items": null,
            "bottom": null,
            "_model_module": "@jupyter-widgets/base",
            "top": null,
            "grid_column": null,
            "overflow_y": null,
            "overflow_x": null,
            "grid_auto_flow": null,
            "grid_area": null,
            "grid_template_columns": null,
            "flex": null,
            "_model_name": "LayoutModel",
            "justify_items": null,
            "grid_row": null,
            "max_height": null,
            "align_content": null,
            "visibility": null,
            "align_self": null,
            "height": null,
            "min_height": null,
            "padding": null,
            "grid_auto_rows": null,
            "grid_gap": null,
            "max_width": null,
            "order": null,
            "_view_module_version": "1.2.0",
            "grid_template_areas": null,
            "object_position": null,
            "object_fit": null,
            "grid_auto_columns": null,
            "margin": null,
            "display": null,
            "left": null
          }
        },
        "07cecf33c8d440948af0d45af0dea6e6": {
          "model_module": "@jupyter-widgets/controls",
          "model_name": "HBoxModel",
          "state": {
            "_view_name": "HBoxView",
            "_dom_classes": [],
            "_model_name": "HBoxModel",
            "_view_module": "@jupyter-widgets/controls",
            "_model_module_version": "1.5.0",
            "_view_count": null,
            "_view_module_version": "1.5.0",
            "box_style": "",
            "layout": "IPY_MODEL_a7374da8c661480ba516db03d9367487",
            "_model_module": "@jupyter-widgets/controls",
            "children": [
              "IPY_MODEL_1fc796333ab5471dbf60ba5ca2058dd0",
              "IPY_MODEL_764142edb5ef4e8ba5617547ab3890d5",
              "IPY_MODEL_d43466756a9e40239a0da93e02a1a39f"
            ]
          }
        },
        "a7374da8c661480ba516db03d9367487": {
          "model_module": "@jupyter-widgets/base",
          "model_name": "LayoutModel",
          "state": {
            "_view_name": "LayoutView",
            "grid_template_rows": null,
            "right": null,
            "justify_content": null,
            "_view_module": "@jupyter-widgets/base",
            "overflow": null,
            "_model_module_version": "1.2.0",
            "_view_count": null,
            "flex_flow": null,
            "width": null,
            "min_width": null,
            "border": null,
            "align_items": null,
            "bottom": null,
            "_model_module": "@jupyter-widgets/base",
            "top": null,
            "grid_column": null,
            "overflow_y": null,
            "overflow_x": null,
            "grid_auto_flow": null,
            "grid_area": null,
            "grid_template_columns": null,
            "flex": null,
            "_model_name": "LayoutModel",
            "justify_items": null,
            "grid_row": null,
            "max_height": null,
            "align_content": null,
            "visibility": null,
            "align_self": null,
            "height": null,
            "min_height": null,
            "padding": null,
            "grid_auto_rows": null,
            "grid_gap": null,
            "max_width": null,
            "order": null,
            "_view_module_version": "1.2.0",
            "grid_template_areas": null,
            "object_position": null,
            "object_fit": null,
            "grid_auto_columns": null,
            "margin": null,
            "display": null,
            "left": null
          }
        },
        "1fc796333ab5471dbf60ba5ca2058dd0": {
          "model_module": "@jupyter-widgets/controls",
          "model_name": "HTMLModel",
          "state": {
            "_view_name": "HTMLView",
            "style": "IPY_MODEL_95f508f7ef7d4f44b2461462b48018a2",
            "_dom_classes": [],
            "description": "",
            "_model_name": "HTMLModel",
            "placeholder": "​",
            "_view_module": "@jupyter-widgets/controls",
            "_model_module_version": "1.5.0",
            "value": "100%",
            "_view_count": null,
            "_view_module_version": "1.5.0",
            "description_tooltip": null,
            "_model_module": "@jupyter-widgets/controls",
            "layout": "IPY_MODEL_7fb2097bd234439faf177a30f519a505"
          }
        },
        "764142edb5ef4e8ba5617547ab3890d5": {
          "model_module": "@jupyter-widgets/controls",
          "model_name": "FloatProgressModel",
          "state": {
            "_view_name": "ProgressView",
            "style": "IPY_MODEL_f4209e75df284511adc144e7b5e85657",
            "_dom_classes": [],
            "description": "",
            "_model_name": "FloatProgressModel",
            "bar_style": "success",
            "max": 200,
            "_view_module": "@jupyter-widgets/controls",
            "_model_module_version": "1.5.0",
            "value": 200,
            "_view_count": null,
            "_view_module_version": "1.5.0",
            "orientation": "horizontal",
            "min": 0,
            "description_tooltip": null,
            "_model_module": "@jupyter-widgets/controls",
            "layout": "IPY_MODEL_c998a64d68264becaf3c3b650e8b3ee5"
          }
        },
        "d43466756a9e40239a0da93e02a1a39f": {
          "model_module": "@jupyter-widgets/controls",
          "model_name": "HTMLModel",
          "state": {
            "_view_name": "HTMLView",
            "style": "IPY_MODEL_52f5903e8ce940e4978c62be2f312c01",
            "_dom_classes": [],
            "description": "",
            "_model_name": "HTMLModel",
            "placeholder": "​",
            "_view_module": "@jupyter-widgets/controls",
            "_model_module_version": "1.5.0",
            "value": " 200/200 [01:46&lt;00:00,  1.13s/it]",
            "_view_count": null,
            "_view_module_version": "1.5.0",
            "description_tooltip": null,
            "_model_module": "@jupyter-widgets/controls",
            "layout": "IPY_MODEL_0946445a70da40fb9288250e5eca7991"
          }
        },
        "95f508f7ef7d4f44b2461462b48018a2": {
          "model_module": "@jupyter-widgets/controls",
          "model_name": "DescriptionStyleModel",
          "state": {
            "_view_name": "StyleView",
            "_model_name": "DescriptionStyleModel",
            "description_width": "",
            "_view_module": "@jupyter-widgets/base",
            "_model_module_version": "1.5.0",
            "_view_count": null,
            "_view_module_version": "1.2.0",
            "_model_module": "@jupyter-widgets/controls"
          }
        },
        "7fb2097bd234439faf177a30f519a505": {
          "model_module": "@jupyter-widgets/base",
          "model_name": "LayoutModel",
          "state": {
            "_view_name": "LayoutView",
            "grid_template_rows": null,
            "right": null,
            "justify_content": null,
            "_view_module": "@jupyter-widgets/base",
            "overflow": null,
            "_model_module_version": "1.2.0",
            "_view_count": null,
            "flex_flow": null,
            "width": null,
            "min_width": null,
            "border": null,
            "align_items": null,
            "bottom": null,
            "_model_module": "@jupyter-widgets/base",
            "top": null,
            "grid_column": null,
            "overflow_y": null,
            "overflow_x": null,
            "grid_auto_flow": null,
            "grid_area": null,
            "grid_template_columns": null,
            "flex": null,
            "_model_name": "LayoutModel",
            "justify_items": null,
            "grid_row": null,
            "max_height": null,
            "align_content": null,
            "visibility": null,
            "align_self": null,
            "height": null,
            "min_height": null,
            "padding": null,
            "grid_auto_rows": null,
            "grid_gap": null,
            "max_width": null,
            "order": null,
            "_view_module_version": "1.2.0",
            "grid_template_areas": null,
            "object_position": null,
            "object_fit": null,
            "grid_auto_columns": null,
            "margin": null,
            "display": null,
            "left": null
          }
        },
        "f4209e75df284511adc144e7b5e85657": {
          "model_module": "@jupyter-widgets/controls",
          "model_name": "ProgressStyleModel",
          "state": {
            "_view_name": "StyleView",
            "_model_name": "ProgressStyleModel",
            "description_width": "",
            "_view_module": "@jupyter-widgets/base",
            "_model_module_version": "1.5.0",
            "_view_count": null,
            "_view_module_version": "1.2.0",
            "bar_color": null,
            "_model_module": "@jupyter-widgets/controls"
          }
        },
        "c998a64d68264becaf3c3b650e8b3ee5": {
          "model_module": "@jupyter-widgets/base",
          "model_name": "LayoutModel",
          "state": {
            "_view_name": "LayoutView",
            "grid_template_rows": null,
            "right": null,
            "justify_content": null,
            "_view_module": "@jupyter-widgets/base",
            "overflow": null,
            "_model_module_version": "1.2.0",
            "_view_count": null,
            "flex_flow": null,
            "width": null,
            "min_width": null,
            "border": null,
            "align_items": null,
            "bottom": null,
            "_model_module": "@jupyter-widgets/base",
            "top": null,
            "grid_column": null,
            "overflow_y": null,
            "overflow_x": null,
            "grid_auto_flow": null,
            "grid_area": null,
            "grid_template_columns": null,
            "flex": null,
            "_model_name": "LayoutModel",
            "justify_items": null,
            "grid_row": null,
            "max_height": null,
            "align_content": null,
            "visibility": null,
            "align_self": null,
            "height": null,
            "min_height": null,
            "padding": null,
            "grid_auto_rows": null,
            "grid_gap": null,
            "max_width": null,
            "order": null,
            "_view_module_version": "1.2.0",
            "grid_template_areas": null,
            "object_position": null,
            "object_fit": null,
            "grid_auto_columns": null,
            "margin": null,
            "display": null,
            "left": null
          }
        },
        "52f5903e8ce940e4978c62be2f312c01": {
          "model_module": "@jupyter-widgets/controls",
          "model_name": "DescriptionStyleModel",
          "state": {
            "_view_name": "StyleView",
            "_model_name": "DescriptionStyleModel",
            "description_width": "",
            "_view_module": "@jupyter-widgets/base",
            "_model_module_version": "1.5.0",
            "_view_count": null,
            "_view_module_version": "1.2.0",
            "_model_module": "@jupyter-widgets/controls"
          }
        },
        "0946445a70da40fb9288250e5eca7991": {
          "model_module": "@jupyter-widgets/base",
          "model_name": "LayoutModel",
          "state": {
            "_view_name": "LayoutView",
            "grid_template_rows": null,
            "right": null,
            "justify_content": null,
            "_view_module": "@jupyter-widgets/base",
            "overflow": null,
            "_model_module_version": "1.2.0",
            "_view_count": null,
            "flex_flow": null,
            "width": null,
            "min_width": null,
            "border": null,
            "align_items": null,
            "bottom": null,
            "_model_module": "@jupyter-widgets/base",
            "top": null,
            "grid_column": null,
            "overflow_y": null,
            "overflow_x": null,
            "grid_auto_flow": null,
            "grid_area": null,
            "grid_template_columns": null,
            "flex": null,
            "_model_name": "LayoutModel",
            "justify_items": null,
            "grid_row": null,
            "max_height": null,
            "align_content": null,
            "visibility": null,
            "align_self": null,
            "height": null,
            "min_height": null,
            "padding": null,
            "grid_auto_rows": null,
            "grid_gap": null,
            "max_width": null,
            "order": null,
            "_view_module_version": "1.2.0",
            "grid_template_areas": null,
            "object_position": null,
            "object_fit": null,
            "grid_auto_columns": null,
            "margin": null,
            "display": null,
            "left": null
          }
        },
        "1582f3f439cc4746a4cb29daf4dd6560": {
          "model_module": "@jupyter-widgets/controls",
          "model_name": "HBoxModel",
          "state": {
            "_view_name": "HBoxView",
            "_dom_classes": [],
            "_model_name": "HBoxModel",
            "_view_module": "@jupyter-widgets/controls",
            "_model_module_version": "1.5.0",
            "_view_count": null,
            "_view_module_version": "1.5.0",
            "box_style": "",
            "layout": "IPY_MODEL_74f86909ecbe4cbca69d24744f0bc352",
            "_model_module": "@jupyter-widgets/controls",
            "children": [
              "IPY_MODEL_0c0d36138c4644828ba2bebcc0732df6",
              "IPY_MODEL_6c157a9d79e34bd2826834105a1607b1",
              "IPY_MODEL_0e51ed5d159d4a0b9dc5e9b251611bd4"
            ]
          }
        },
        "74f86909ecbe4cbca69d24744f0bc352": {
          "model_module": "@jupyter-widgets/base",
          "model_name": "LayoutModel",
          "state": {
            "_view_name": "LayoutView",
            "grid_template_rows": null,
            "right": null,
            "justify_content": null,
            "_view_module": "@jupyter-widgets/base",
            "overflow": null,
            "_model_module_version": "1.2.0",
            "_view_count": null,
            "flex_flow": null,
            "width": null,
            "min_width": null,
            "border": null,
            "align_items": null,
            "bottom": null,
            "_model_module": "@jupyter-widgets/base",
            "top": null,
            "grid_column": null,
            "overflow_y": null,
            "overflow_x": null,
            "grid_auto_flow": null,
            "grid_area": null,
            "grid_template_columns": null,
            "flex": null,
            "_model_name": "LayoutModel",
            "justify_items": null,
            "grid_row": null,
            "max_height": null,
            "align_content": null,
            "visibility": null,
            "align_self": null,
            "height": null,
            "min_height": null,
            "padding": null,
            "grid_auto_rows": null,
            "grid_gap": null,
            "max_width": null,
            "order": null,
            "_view_module_version": "1.2.0",
            "grid_template_areas": null,
            "object_position": null,
            "object_fit": null,
            "grid_auto_columns": null,
            "margin": null,
            "display": null,
            "left": null
          }
        },
        "0c0d36138c4644828ba2bebcc0732df6": {
          "model_module": "@jupyter-widgets/controls",
          "model_name": "HTMLModel",
          "state": {
            "_view_name": "HTMLView",
            "style": "IPY_MODEL_12e4a53812a94bb2a9c959fe8e164dd7",
            "_dom_classes": [],
            "description": "",
            "_model_name": "HTMLModel",
            "placeholder": "​",
            "_view_module": "@jupyter-widgets/controls",
            "_model_module_version": "1.5.0",
            "value": "100%",
            "_view_count": null,
            "_view_module_version": "1.5.0",
            "description_tooltip": null,
            "_model_module": "@jupyter-widgets/controls",
            "layout": "IPY_MODEL_48d08171f5f844fe86f4df2a3cc64697"
          }
        },
        "6c157a9d79e34bd2826834105a1607b1": {
          "model_module": "@jupyter-widgets/controls",
          "model_name": "FloatProgressModel",
          "state": {
            "_view_name": "ProgressView",
            "style": "IPY_MODEL_7bfa5e810f844adda65cd9309a2d36ff",
            "_dom_classes": [],
            "description": "",
            "_model_name": "FloatProgressModel",
            "bar_style": "success",
            "max": 200,
            "_view_module": "@jupyter-widgets/controls",
            "_model_module_version": "1.5.0",
            "value": 200,
            "_view_count": null,
            "_view_module_version": "1.5.0",
            "orientation": "horizontal",
            "min": 0,
            "description_tooltip": null,
            "_model_module": "@jupyter-widgets/controls",
            "layout": "IPY_MODEL_5430b48e69314fbab3d6c86b285fc4c4"
          }
        },
        "0e51ed5d159d4a0b9dc5e9b251611bd4": {
          "model_module": "@jupyter-widgets/controls",
          "model_name": "HTMLModel",
          "state": {
            "_view_name": "HTMLView",
            "style": "IPY_MODEL_96e4a7523fd04adb94a070891bbd8e0a",
            "_dom_classes": [],
            "description": "",
            "_model_name": "HTMLModel",
            "placeholder": "​",
            "_view_module": "@jupyter-widgets/controls",
            "_model_module_version": "1.5.0",
            "value": " 200/200 [01:59&lt;00:00,  1.14s/it]",
            "_view_count": null,
            "_view_module_version": "1.5.0",
            "description_tooltip": null,
            "_model_module": "@jupyter-widgets/controls",
            "layout": "IPY_MODEL_d21b73ae73a347c78df016b1e043cfd2"
          }
        },
        "12e4a53812a94bb2a9c959fe8e164dd7": {
          "model_module": "@jupyter-widgets/controls",
          "model_name": "DescriptionStyleModel",
          "state": {
            "_view_name": "StyleView",
            "_model_name": "DescriptionStyleModel",
            "description_width": "",
            "_view_module": "@jupyter-widgets/base",
            "_model_module_version": "1.5.0",
            "_view_count": null,
            "_view_module_version": "1.2.0",
            "_model_module": "@jupyter-widgets/controls"
          }
        },
        "48d08171f5f844fe86f4df2a3cc64697": {
          "model_module": "@jupyter-widgets/base",
          "model_name": "LayoutModel",
          "state": {
            "_view_name": "LayoutView",
            "grid_template_rows": null,
            "right": null,
            "justify_content": null,
            "_view_module": "@jupyter-widgets/base",
            "overflow": null,
            "_model_module_version": "1.2.0",
            "_view_count": null,
            "flex_flow": null,
            "width": null,
            "min_width": null,
            "border": null,
            "align_items": null,
            "bottom": null,
            "_model_module": "@jupyter-widgets/base",
            "top": null,
            "grid_column": null,
            "overflow_y": null,
            "overflow_x": null,
            "grid_auto_flow": null,
            "grid_area": null,
            "grid_template_columns": null,
            "flex": null,
            "_model_name": "LayoutModel",
            "justify_items": null,
            "grid_row": null,
            "max_height": null,
            "align_content": null,
            "visibility": null,
            "align_self": null,
            "height": null,
            "min_height": null,
            "padding": null,
            "grid_auto_rows": null,
            "grid_gap": null,
            "max_width": null,
            "order": null,
            "_view_module_version": "1.2.0",
            "grid_template_areas": null,
            "object_position": null,
            "object_fit": null,
            "grid_auto_columns": null,
            "margin": null,
            "display": null,
            "left": null
          }
        },
        "7bfa5e810f844adda65cd9309a2d36ff": {
          "model_module": "@jupyter-widgets/controls",
          "model_name": "ProgressStyleModel",
          "state": {
            "_view_name": "StyleView",
            "_model_name": "ProgressStyleModel",
            "description_width": "",
            "_view_module": "@jupyter-widgets/base",
            "_model_module_version": "1.5.0",
            "_view_count": null,
            "_view_module_version": "1.2.0",
            "bar_color": null,
            "_model_module": "@jupyter-widgets/controls"
          }
        },
        "5430b48e69314fbab3d6c86b285fc4c4": {
          "model_module": "@jupyter-widgets/base",
          "model_name": "LayoutModel",
          "state": {
            "_view_name": "LayoutView",
            "grid_template_rows": null,
            "right": null,
            "justify_content": null,
            "_view_module": "@jupyter-widgets/base",
            "overflow": null,
            "_model_module_version": "1.2.0",
            "_view_count": null,
            "flex_flow": null,
            "width": null,
            "min_width": null,
            "border": null,
            "align_items": null,
            "bottom": null,
            "_model_module": "@jupyter-widgets/base",
            "top": null,
            "grid_column": null,
            "overflow_y": null,
            "overflow_x": null,
            "grid_auto_flow": null,
            "grid_area": null,
            "grid_template_columns": null,
            "flex": null,
            "_model_name": "LayoutModel",
            "justify_items": null,
            "grid_row": null,
            "max_height": null,
            "align_content": null,
            "visibility": null,
            "align_self": null,
            "height": null,
            "min_height": null,
            "padding": null,
            "grid_auto_rows": null,
            "grid_gap": null,
            "max_width": null,
            "order": null,
            "_view_module_version": "1.2.0",
            "grid_template_areas": null,
            "object_position": null,
            "object_fit": null,
            "grid_auto_columns": null,
            "margin": null,
            "display": null,
            "left": null
          }
        },
        "96e4a7523fd04adb94a070891bbd8e0a": {
          "model_module": "@jupyter-widgets/controls",
          "model_name": "DescriptionStyleModel",
          "state": {
            "_view_name": "StyleView",
            "_model_name": "DescriptionStyleModel",
            "description_width": "",
            "_view_module": "@jupyter-widgets/base",
            "_model_module_version": "1.5.0",
            "_view_count": null,
            "_view_module_version": "1.2.0",
            "_model_module": "@jupyter-widgets/controls"
          }
        },
        "d21b73ae73a347c78df016b1e043cfd2": {
          "model_module": "@jupyter-widgets/base",
          "model_name": "LayoutModel",
          "state": {
            "_view_name": "LayoutView",
            "grid_template_rows": null,
            "right": null,
            "justify_content": null,
            "_view_module": "@jupyter-widgets/base",
            "overflow": null,
            "_model_module_version": "1.2.0",
            "_view_count": null,
            "flex_flow": null,
            "width": null,
            "min_width": null,
            "border": null,
            "align_items": null,
            "bottom": null,
            "_model_module": "@jupyter-widgets/base",
            "top": null,
            "grid_column": null,
            "overflow_y": null,
            "overflow_x": null,
            "grid_auto_flow": null,
            "grid_area": null,
            "grid_template_columns": null,
            "flex": null,
            "_model_name": "LayoutModel",
            "justify_items": null,
            "grid_row": null,
            "max_height": null,
            "align_content": null,
            "visibility": null,
            "align_self": null,
            "height": null,
            "min_height": null,
            "padding": null,
            "grid_auto_rows": null,
            "grid_gap": null,
            "max_width": null,
            "order": null,
            "_view_module_version": "1.2.0",
            "grid_template_areas": null,
            "object_position": null,
            "object_fit": null,
            "grid_auto_columns": null,
            "margin": null,
            "display": null,
            "left": null
          }
        },
        "2493ede511144aa8ae95289a0c4beb7d": {
          "model_module": "@jupyter-widgets/controls",
          "model_name": "HBoxModel",
          "state": {
            "_view_name": "HBoxView",
            "_dom_classes": [],
            "_model_name": "HBoxModel",
            "_view_module": "@jupyter-widgets/controls",
            "_model_module_version": "1.5.0",
            "_view_count": null,
            "_view_module_version": "1.5.0",
            "box_style": "",
            "layout": "IPY_MODEL_8f1152bc72da4d8eb426e0af0acc9c4a",
            "_model_module": "@jupyter-widgets/controls",
            "children": [
              "IPY_MODEL_2d084e17ea4b4b88baa2e77d47b6fcc1",
              "IPY_MODEL_5a4a4a12fa5e4d3c9e29a7926112af36",
              "IPY_MODEL_3ef46849eef6412cb98155ebc8b8345f"
            ]
          }
        },
        "8f1152bc72da4d8eb426e0af0acc9c4a": {
          "model_module": "@jupyter-widgets/base",
          "model_name": "LayoutModel",
          "state": {
            "_view_name": "LayoutView",
            "grid_template_rows": null,
            "right": null,
            "justify_content": null,
            "_view_module": "@jupyter-widgets/base",
            "overflow": null,
            "_model_module_version": "1.2.0",
            "_view_count": null,
            "flex_flow": null,
            "width": null,
            "min_width": null,
            "border": null,
            "align_items": null,
            "bottom": null,
            "_model_module": "@jupyter-widgets/base",
            "top": null,
            "grid_column": null,
            "overflow_y": null,
            "overflow_x": null,
            "grid_auto_flow": null,
            "grid_area": null,
            "grid_template_columns": null,
            "flex": null,
            "_model_name": "LayoutModel",
            "justify_items": null,
            "grid_row": null,
            "max_height": null,
            "align_content": null,
            "visibility": null,
            "align_self": null,
            "height": null,
            "min_height": null,
            "padding": null,
            "grid_auto_rows": null,
            "grid_gap": null,
            "max_width": null,
            "order": null,
            "_view_module_version": "1.2.0",
            "grid_template_areas": null,
            "object_position": null,
            "object_fit": null,
            "grid_auto_columns": null,
            "margin": null,
            "display": null,
            "left": null
          }
        },
        "2d084e17ea4b4b88baa2e77d47b6fcc1": {
          "model_module": "@jupyter-widgets/controls",
          "model_name": "HTMLModel",
          "state": {
            "_view_name": "HTMLView",
            "style": "IPY_MODEL_4410901cfaf3451a8250c67cb45402f6",
            "_dom_classes": [],
            "description": "",
            "_model_name": "HTMLModel",
            "placeholder": "​",
            "_view_module": "@jupyter-widgets/controls",
            "_model_module_version": "1.5.0",
            "value": "100%",
            "_view_count": null,
            "_view_module_version": "1.5.0",
            "description_tooltip": null,
            "_model_module": "@jupyter-widgets/controls",
            "layout": "IPY_MODEL_047073e06d274367923b2175d3eecdf2"
          }
        },
        "5a4a4a12fa5e4d3c9e29a7926112af36": {
          "model_module": "@jupyter-widgets/controls",
          "model_name": "FloatProgressModel",
          "state": {
            "_view_name": "ProgressView",
            "style": "IPY_MODEL_d6daf6cf44cc46298b81747aed9e8cbc",
            "_dom_classes": [],
            "description": "",
            "_model_name": "FloatProgressModel",
            "bar_style": "success",
            "max": 200,
            "_view_module": "@jupyter-widgets/controls",
            "_model_module_version": "1.5.0",
            "value": 200,
            "_view_count": null,
            "_view_module_version": "1.5.0",
            "orientation": "horizontal",
            "min": 0,
            "description_tooltip": null,
            "_model_module": "@jupyter-widgets/controls",
            "layout": "IPY_MODEL_8231c83d0dbb47d0b93c22d7132c6f4f"
          }
        },
        "3ef46849eef6412cb98155ebc8b8345f": {
          "model_module": "@jupyter-widgets/controls",
          "model_name": "HTMLModel",
          "state": {
            "_view_name": "HTMLView",
            "style": "IPY_MODEL_f2827bbec823492a97db239c568e6b7c",
            "_dom_classes": [],
            "description": "",
            "_model_name": "HTMLModel",
            "placeholder": "​",
            "_view_module": "@jupyter-widgets/controls",
            "_model_module_version": "1.5.0",
            "value": " 200/200 [01:44&lt;00:00,  1.07s/it]",
            "_view_count": null,
            "_view_module_version": "1.5.0",
            "description_tooltip": null,
            "_model_module": "@jupyter-widgets/controls",
            "layout": "IPY_MODEL_614f2135944a4ca5a6df2906a8445437"
          }
        },
        "4410901cfaf3451a8250c67cb45402f6": {
          "model_module": "@jupyter-widgets/controls",
          "model_name": "DescriptionStyleModel",
          "state": {
            "_view_name": "StyleView",
            "_model_name": "DescriptionStyleModel",
            "description_width": "",
            "_view_module": "@jupyter-widgets/base",
            "_model_module_version": "1.5.0",
            "_view_count": null,
            "_view_module_version": "1.2.0",
            "_model_module": "@jupyter-widgets/controls"
          }
        },
        "047073e06d274367923b2175d3eecdf2": {
          "model_module": "@jupyter-widgets/base",
          "model_name": "LayoutModel",
          "state": {
            "_view_name": "LayoutView",
            "grid_template_rows": null,
            "right": null,
            "justify_content": null,
            "_view_module": "@jupyter-widgets/base",
            "overflow": null,
            "_model_module_version": "1.2.0",
            "_view_count": null,
            "flex_flow": null,
            "width": null,
            "min_width": null,
            "border": null,
            "align_items": null,
            "bottom": null,
            "_model_module": "@jupyter-widgets/base",
            "top": null,
            "grid_column": null,
            "overflow_y": null,
            "overflow_x": null,
            "grid_auto_flow": null,
            "grid_area": null,
            "grid_template_columns": null,
            "flex": null,
            "_model_name": "LayoutModel",
            "justify_items": null,
            "grid_row": null,
            "max_height": null,
            "align_content": null,
            "visibility": null,
            "align_self": null,
            "height": null,
            "min_height": null,
            "padding": null,
            "grid_auto_rows": null,
            "grid_gap": null,
            "max_width": null,
            "order": null,
            "_view_module_version": "1.2.0",
            "grid_template_areas": null,
            "object_position": null,
            "object_fit": null,
            "grid_auto_columns": null,
            "margin": null,
            "display": null,
            "left": null
          }
        },
        "d6daf6cf44cc46298b81747aed9e8cbc": {
          "model_module": "@jupyter-widgets/controls",
          "model_name": "ProgressStyleModel",
          "state": {
            "_view_name": "StyleView",
            "_model_name": "ProgressStyleModel",
            "description_width": "",
            "_view_module": "@jupyter-widgets/base",
            "_model_module_version": "1.5.0",
            "_view_count": null,
            "_view_module_version": "1.2.0",
            "bar_color": null,
            "_model_module": "@jupyter-widgets/controls"
          }
        },
        "8231c83d0dbb47d0b93c22d7132c6f4f": {
          "model_module": "@jupyter-widgets/base",
          "model_name": "LayoutModel",
          "state": {
            "_view_name": "LayoutView",
            "grid_template_rows": null,
            "right": null,
            "justify_content": null,
            "_view_module": "@jupyter-widgets/base",
            "overflow": null,
            "_model_module_version": "1.2.0",
            "_view_count": null,
            "flex_flow": null,
            "width": null,
            "min_width": null,
            "border": null,
            "align_items": null,
            "bottom": null,
            "_model_module": "@jupyter-widgets/base",
            "top": null,
            "grid_column": null,
            "overflow_y": null,
            "overflow_x": null,
            "grid_auto_flow": null,
            "grid_area": null,
            "grid_template_columns": null,
            "flex": null,
            "_model_name": "LayoutModel",
            "justify_items": null,
            "grid_row": null,
            "max_height": null,
            "align_content": null,
            "visibility": null,
            "align_self": null,
            "height": null,
            "min_height": null,
            "padding": null,
            "grid_auto_rows": null,
            "grid_gap": null,
            "max_width": null,
            "order": null,
            "_view_module_version": "1.2.0",
            "grid_template_areas": null,
            "object_position": null,
            "object_fit": null,
            "grid_auto_columns": null,
            "margin": null,
            "display": null,
            "left": null
          }
        },
        "f2827bbec823492a97db239c568e6b7c": {
          "model_module": "@jupyter-widgets/controls",
          "model_name": "DescriptionStyleModel",
          "state": {
            "_view_name": "StyleView",
            "_model_name": "DescriptionStyleModel",
            "description_width": "",
            "_view_module": "@jupyter-widgets/base",
            "_model_module_version": "1.5.0",
            "_view_count": null,
            "_view_module_version": "1.2.0",
            "_model_module": "@jupyter-widgets/controls"
          }
        },
        "614f2135944a4ca5a6df2906a8445437": {
          "model_module": "@jupyter-widgets/base",
          "model_name": "LayoutModel",
          "state": {
            "_view_name": "LayoutView",
            "grid_template_rows": null,
            "right": null,
            "justify_content": null,
            "_view_module": "@jupyter-widgets/base",
            "overflow": null,
            "_model_module_version": "1.2.0",
            "_view_count": null,
            "flex_flow": null,
            "width": null,
            "min_width": null,
            "border": null,
            "align_items": null,
            "bottom": null,
            "_model_module": "@jupyter-widgets/base",
            "top": null,
            "grid_column": null,
            "overflow_y": null,
            "overflow_x": null,
            "grid_auto_flow": null,
            "grid_area": null,
            "grid_template_columns": null,
            "flex": null,
            "_model_name": "LayoutModel",
            "justify_items": null,
            "grid_row": null,
            "max_height": null,
            "align_content": null,
            "visibility": null,
            "align_self": null,
            "height": null,
            "min_height": null,
            "padding": null,
            "grid_auto_rows": null,
            "grid_gap": null,
            "max_width": null,
            "order": null,
            "_view_module_version": "1.2.0",
            "grid_template_areas": null,
            "object_position": null,
            "object_fit": null,
            "grid_auto_columns": null,
            "margin": null,
            "display": null,
            "left": null
          }
        },
        "cd1e4d88f2424d72ac2c74b5617ede75": {
          "model_module": "@jupyter-widgets/controls",
          "model_name": "HBoxModel",
          "state": {
            "_view_name": "HBoxView",
            "_dom_classes": [],
            "_model_name": "HBoxModel",
            "_view_module": "@jupyter-widgets/controls",
            "_model_module_version": "1.5.0",
            "_view_count": null,
            "_view_module_version": "1.5.0",
            "box_style": "",
            "layout": "IPY_MODEL_4b2ed782f25948978323cd3bd44051c5",
            "_model_module": "@jupyter-widgets/controls",
            "children": [
              "IPY_MODEL_d76a8d9a12d34970aebb27f6e1e43d56",
              "IPY_MODEL_69174c8bf1694d9db7aeab23be6dfe97",
              "IPY_MODEL_7d6bc4e27a1f468bbc742bb2401b9db4"
            ]
          }
        },
        "4b2ed782f25948978323cd3bd44051c5": {
          "model_module": "@jupyter-widgets/base",
          "model_name": "LayoutModel",
          "state": {
            "_view_name": "LayoutView",
            "grid_template_rows": null,
            "right": null,
            "justify_content": null,
            "_view_module": "@jupyter-widgets/base",
            "overflow": null,
            "_model_module_version": "1.2.0",
            "_view_count": null,
            "flex_flow": null,
            "width": null,
            "min_width": null,
            "border": null,
            "align_items": null,
            "bottom": null,
            "_model_module": "@jupyter-widgets/base",
            "top": null,
            "grid_column": null,
            "overflow_y": null,
            "overflow_x": null,
            "grid_auto_flow": null,
            "grid_area": null,
            "grid_template_columns": null,
            "flex": null,
            "_model_name": "LayoutModel",
            "justify_items": null,
            "grid_row": null,
            "max_height": null,
            "align_content": null,
            "visibility": null,
            "align_self": null,
            "height": null,
            "min_height": null,
            "padding": null,
            "grid_auto_rows": null,
            "grid_gap": null,
            "max_width": null,
            "order": null,
            "_view_module_version": "1.2.0",
            "grid_template_areas": null,
            "object_position": null,
            "object_fit": null,
            "grid_auto_columns": null,
            "margin": null,
            "display": null,
            "left": null
          }
        },
        "d76a8d9a12d34970aebb27f6e1e43d56": {
          "model_module": "@jupyter-widgets/controls",
          "model_name": "HTMLModel",
          "state": {
            "_view_name": "HTMLView",
            "style": "IPY_MODEL_d4f70fd1f2c44057a8a04d40b7b7ef1c",
            "_dom_classes": [],
            "description": "",
            "_model_name": "HTMLModel",
            "placeholder": "​",
            "_view_module": "@jupyter-widgets/controls",
            "_model_module_version": "1.5.0",
            "value": "100%",
            "_view_count": null,
            "_view_module_version": "1.5.0",
            "description_tooltip": null,
            "_model_module": "@jupyter-widgets/controls",
            "layout": "IPY_MODEL_d2ed528bea444fee97d0e6fa9d86f197"
          }
        },
        "69174c8bf1694d9db7aeab23be6dfe97": {
          "model_module": "@jupyter-widgets/controls",
          "model_name": "FloatProgressModel",
          "state": {
            "_view_name": "ProgressView",
            "style": "IPY_MODEL_5c4da143fd0544a6bf3e78739f178d25",
            "_dom_classes": [],
            "description": "",
            "_model_name": "FloatProgressModel",
            "bar_style": "success",
            "max": 200,
            "_view_module": "@jupyter-widgets/controls",
            "_model_module_version": "1.5.0",
            "value": 200,
            "_view_count": null,
            "_view_module_version": "1.5.0",
            "orientation": "horizontal",
            "min": 0,
            "description_tooltip": null,
            "_model_module": "@jupyter-widgets/controls",
            "layout": "IPY_MODEL_6da10ffbd1da4607b36f62a3d2e69fce"
          }
        },
        "7d6bc4e27a1f468bbc742bb2401b9db4": {
          "model_module": "@jupyter-widgets/controls",
          "model_name": "HTMLModel",
          "state": {
            "_view_name": "HTMLView",
            "style": "IPY_MODEL_436f129420d64bf2b1c0dd02765b3991",
            "_dom_classes": [],
            "description": "",
            "_model_name": "HTMLModel",
            "placeholder": "​",
            "_view_module": "@jupyter-widgets/controls",
            "_model_module_version": "1.5.0",
            "value": " 200/200 [01:45&lt;00:00,  1.12s/it]",
            "_view_count": null,
            "_view_module_version": "1.5.0",
            "description_tooltip": null,
            "_model_module": "@jupyter-widgets/controls",
            "layout": "IPY_MODEL_5fe5da432db14c498f6b25898940b34d"
          }
        },
        "d4f70fd1f2c44057a8a04d40b7b7ef1c": {
          "model_module": "@jupyter-widgets/controls",
          "model_name": "DescriptionStyleModel",
          "state": {
            "_view_name": "StyleView",
            "_model_name": "DescriptionStyleModel",
            "description_width": "",
            "_view_module": "@jupyter-widgets/base",
            "_model_module_version": "1.5.0",
            "_view_count": null,
            "_view_module_version": "1.2.0",
            "_model_module": "@jupyter-widgets/controls"
          }
        },
        "d2ed528bea444fee97d0e6fa9d86f197": {
          "model_module": "@jupyter-widgets/base",
          "model_name": "LayoutModel",
          "state": {
            "_view_name": "LayoutView",
            "grid_template_rows": null,
            "right": null,
            "justify_content": null,
            "_view_module": "@jupyter-widgets/base",
            "overflow": null,
            "_model_module_version": "1.2.0",
            "_view_count": null,
            "flex_flow": null,
            "width": null,
            "min_width": null,
            "border": null,
            "align_items": null,
            "bottom": null,
            "_model_module": "@jupyter-widgets/base",
            "top": null,
            "grid_column": null,
            "overflow_y": null,
            "overflow_x": null,
            "grid_auto_flow": null,
            "grid_area": null,
            "grid_template_columns": null,
            "flex": null,
            "_model_name": "LayoutModel",
            "justify_items": null,
            "grid_row": null,
            "max_height": null,
            "align_content": null,
            "visibility": null,
            "align_self": null,
            "height": null,
            "min_height": null,
            "padding": null,
            "grid_auto_rows": null,
            "grid_gap": null,
            "max_width": null,
            "order": null,
            "_view_module_version": "1.2.0",
            "grid_template_areas": null,
            "object_position": null,
            "object_fit": null,
            "grid_auto_columns": null,
            "margin": null,
            "display": null,
            "left": null
          }
        },
        "5c4da143fd0544a6bf3e78739f178d25": {
          "model_module": "@jupyter-widgets/controls",
          "model_name": "ProgressStyleModel",
          "state": {
            "_view_name": "StyleView",
            "_model_name": "ProgressStyleModel",
            "description_width": "",
            "_view_module": "@jupyter-widgets/base",
            "_model_module_version": "1.5.0",
            "_view_count": null,
            "_view_module_version": "1.2.0",
            "bar_color": null,
            "_model_module": "@jupyter-widgets/controls"
          }
        },
        "6da10ffbd1da4607b36f62a3d2e69fce": {
          "model_module": "@jupyter-widgets/base",
          "model_name": "LayoutModel",
          "state": {
            "_view_name": "LayoutView",
            "grid_template_rows": null,
            "right": null,
            "justify_content": null,
            "_view_module": "@jupyter-widgets/base",
            "overflow": null,
            "_model_module_version": "1.2.0",
            "_view_count": null,
            "flex_flow": null,
            "width": null,
            "min_width": null,
            "border": null,
            "align_items": null,
            "bottom": null,
            "_model_module": "@jupyter-widgets/base",
            "top": null,
            "grid_column": null,
            "overflow_y": null,
            "overflow_x": null,
            "grid_auto_flow": null,
            "grid_area": null,
            "grid_template_columns": null,
            "flex": null,
            "_model_name": "LayoutModel",
            "justify_items": null,
            "grid_row": null,
            "max_height": null,
            "align_content": null,
            "visibility": null,
            "align_self": null,
            "height": null,
            "min_height": null,
            "padding": null,
            "grid_auto_rows": null,
            "grid_gap": null,
            "max_width": null,
            "order": null,
            "_view_module_version": "1.2.0",
            "grid_template_areas": null,
            "object_position": null,
            "object_fit": null,
            "grid_auto_columns": null,
            "margin": null,
            "display": null,
            "left": null
          }
        },
        "436f129420d64bf2b1c0dd02765b3991": {
          "model_module": "@jupyter-widgets/controls",
          "model_name": "DescriptionStyleModel",
          "state": {
            "_view_name": "StyleView",
            "_model_name": "DescriptionStyleModel",
            "description_width": "",
            "_view_module": "@jupyter-widgets/base",
            "_model_module_version": "1.5.0",
            "_view_count": null,
            "_view_module_version": "1.2.0",
            "_model_module": "@jupyter-widgets/controls"
          }
        },
        "5fe5da432db14c498f6b25898940b34d": {
          "model_module": "@jupyter-widgets/base",
          "model_name": "LayoutModel",
          "state": {
            "_view_name": "LayoutView",
            "grid_template_rows": null,
            "right": null,
            "justify_content": null,
            "_view_module": "@jupyter-widgets/base",
            "overflow": null,
            "_model_module_version": "1.2.0",
            "_view_count": null,
            "flex_flow": null,
            "width": null,
            "min_width": null,
            "border": null,
            "align_items": null,
            "bottom": null,
            "_model_module": "@jupyter-widgets/base",
            "top": null,
            "grid_column": null,
            "overflow_y": null,
            "overflow_x": null,
            "grid_auto_flow": null,
            "grid_area": null,
            "grid_template_columns": null,
            "flex": null,
            "_model_name": "LayoutModel",
            "justify_items": null,
            "grid_row": null,
            "max_height": null,
            "align_content": null,
            "visibility": null,
            "align_self": null,
            "height": null,
            "min_height": null,
            "padding": null,
            "grid_auto_rows": null,
            "grid_gap": null,
            "max_width": null,
            "order": null,
            "_view_module_version": "1.2.0",
            "grid_template_areas": null,
            "object_position": null,
            "object_fit": null,
            "grid_auto_columns": null,
            "margin": null,
            "display": null,
            "left": null
          }
        },
        "b7cd19e39a9e43678c906c31d66d7e73": {
          "model_module": "@jupyter-widgets/controls",
          "model_name": "HBoxModel",
          "state": {
            "_view_name": "HBoxView",
            "_dom_classes": [],
            "_model_name": "HBoxModel",
            "_view_module": "@jupyter-widgets/controls",
            "_model_module_version": "1.5.0",
            "_view_count": null,
            "_view_module_version": "1.5.0",
            "box_style": "",
            "layout": "IPY_MODEL_d692c01d353f4179b1743e4d50df0de5",
            "_model_module": "@jupyter-widgets/controls",
            "children": [
              "IPY_MODEL_2e104d3bfadb4112a2b5146db98ea065",
              "IPY_MODEL_936c86bf1b4e45d484bc78cac7342288",
              "IPY_MODEL_f1dbb0deb87a463d8f1cac95b98d9a0a"
            ]
          }
        },
        "d692c01d353f4179b1743e4d50df0de5": {
          "model_module": "@jupyter-widgets/base",
          "model_name": "LayoutModel",
          "state": {
            "_view_name": "LayoutView",
            "grid_template_rows": null,
            "right": null,
            "justify_content": null,
            "_view_module": "@jupyter-widgets/base",
            "overflow": null,
            "_model_module_version": "1.2.0",
            "_view_count": null,
            "flex_flow": null,
            "width": null,
            "min_width": null,
            "border": null,
            "align_items": null,
            "bottom": null,
            "_model_module": "@jupyter-widgets/base",
            "top": null,
            "grid_column": null,
            "overflow_y": null,
            "overflow_x": null,
            "grid_auto_flow": null,
            "grid_area": null,
            "grid_template_columns": null,
            "flex": null,
            "_model_name": "LayoutModel",
            "justify_items": null,
            "grid_row": null,
            "max_height": null,
            "align_content": null,
            "visibility": null,
            "align_self": null,
            "height": null,
            "min_height": null,
            "padding": null,
            "grid_auto_rows": null,
            "grid_gap": null,
            "max_width": null,
            "order": null,
            "_view_module_version": "1.2.0",
            "grid_template_areas": null,
            "object_position": null,
            "object_fit": null,
            "grid_auto_columns": null,
            "margin": null,
            "display": null,
            "left": null
          }
        },
        "2e104d3bfadb4112a2b5146db98ea065": {
          "model_module": "@jupyter-widgets/controls",
          "model_name": "HTMLModel",
          "state": {
            "_view_name": "HTMLView",
            "style": "IPY_MODEL_42e9825d40f34b8d8d9cd0456e66d043",
            "_dom_classes": [],
            "description": "",
            "_model_name": "HTMLModel",
            "placeholder": "​",
            "_view_module": "@jupyter-widgets/controls",
            "_model_module_version": "1.5.0",
            "value": "100%",
            "_view_count": null,
            "_view_module_version": "1.5.0",
            "description_tooltip": null,
            "_model_module": "@jupyter-widgets/controls",
            "layout": "IPY_MODEL_f489bd33c48b4fa1875fd8b7a9466105"
          }
        },
        "936c86bf1b4e45d484bc78cac7342288": {
          "model_module": "@jupyter-widgets/controls",
          "model_name": "FloatProgressModel",
          "state": {
            "_view_name": "ProgressView",
            "style": "IPY_MODEL_f1a29930b2f64be2a9dc07f9034d335f",
            "_dom_classes": [],
            "description": "",
            "_model_name": "FloatProgressModel",
            "bar_style": "success",
            "max": 200,
            "_view_module": "@jupyter-widgets/controls",
            "_model_module_version": "1.5.0",
            "value": 200,
            "_view_count": null,
            "_view_module_version": "1.5.0",
            "orientation": "horizontal",
            "min": 0,
            "description_tooltip": null,
            "_model_module": "@jupyter-widgets/controls",
            "layout": "IPY_MODEL_e12cd69fd0e345a2b30186cc5e373cb3"
          }
        },
        "f1dbb0deb87a463d8f1cac95b98d9a0a": {
          "model_module": "@jupyter-widgets/controls",
          "model_name": "HTMLModel",
          "state": {
            "_view_name": "HTMLView",
            "style": "IPY_MODEL_256cc93730ce474f873c4132d382f0c8",
            "_dom_classes": [],
            "description": "",
            "_model_name": "HTMLModel",
            "placeholder": "​",
            "_view_module": "@jupyter-widgets/controls",
            "_model_module_version": "1.5.0",
            "value": " 200/200 [01:57&lt;00:00,  1.17s/it]",
            "_view_count": null,
            "_view_module_version": "1.5.0",
            "description_tooltip": null,
            "_model_module": "@jupyter-widgets/controls",
            "layout": "IPY_MODEL_8a4ebe3247774549829cebf26240ef81"
          }
        },
        "42e9825d40f34b8d8d9cd0456e66d043": {
          "model_module": "@jupyter-widgets/controls",
          "model_name": "DescriptionStyleModel",
          "state": {
            "_view_name": "StyleView",
            "_model_name": "DescriptionStyleModel",
            "description_width": "",
            "_view_module": "@jupyter-widgets/base",
            "_model_module_version": "1.5.0",
            "_view_count": null,
            "_view_module_version": "1.2.0",
            "_model_module": "@jupyter-widgets/controls"
          }
        },
        "f489bd33c48b4fa1875fd8b7a9466105": {
          "model_module": "@jupyter-widgets/base",
          "model_name": "LayoutModel",
          "state": {
            "_view_name": "LayoutView",
            "grid_template_rows": null,
            "right": null,
            "justify_content": null,
            "_view_module": "@jupyter-widgets/base",
            "overflow": null,
            "_model_module_version": "1.2.0",
            "_view_count": null,
            "flex_flow": null,
            "width": null,
            "min_width": null,
            "border": null,
            "align_items": null,
            "bottom": null,
            "_model_module": "@jupyter-widgets/base",
            "top": null,
            "grid_column": null,
            "overflow_y": null,
            "overflow_x": null,
            "grid_auto_flow": null,
            "grid_area": null,
            "grid_template_columns": null,
            "flex": null,
            "_model_name": "LayoutModel",
            "justify_items": null,
            "grid_row": null,
            "max_height": null,
            "align_content": null,
            "visibility": null,
            "align_self": null,
            "height": null,
            "min_height": null,
            "padding": null,
            "grid_auto_rows": null,
            "grid_gap": null,
            "max_width": null,
            "order": null,
            "_view_module_version": "1.2.0",
            "grid_template_areas": null,
            "object_position": null,
            "object_fit": null,
            "grid_auto_columns": null,
            "margin": null,
            "display": null,
            "left": null
          }
        },
        "f1a29930b2f64be2a9dc07f9034d335f": {
          "model_module": "@jupyter-widgets/controls",
          "model_name": "ProgressStyleModel",
          "state": {
            "_view_name": "StyleView",
            "_model_name": "ProgressStyleModel",
            "description_width": "",
            "_view_module": "@jupyter-widgets/base",
            "_model_module_version": "1.5.0",
            "_view_count": null,
            "_view_module_version": "1.2.0",
            "bar_color": null,
            "_model_module": "@jupyter-widgets/controls"
          }
        },
        "e12cd69fd0e345a2b30186cc5e373cb3": {
          "model_module": "@jupyter-widgets/base",
          "model_name": "LayoutModel",
          "state": {
            "_view_name": "LayoutView",
            "grid_template_rows": null,
            "right": null,
            "justify_content": null,
            "_view_module": "@jupyter-widgets/base",
            "overflow": null,
            "_model_module_version": "1.2.0",
            "_view_count": null,
            "flex_flow": null,
            "width": null,
            "min_width": null,
            "border": null,
            "align_items": null,
            "bottom": null,
            "_model_module": "@jupyter-widgets/base",
            "top": null,
            "grid_column": null,
            "overflow_y": null,
            "overflow_x": null,
            "grid_auto_flow": null,
            "grid_area": null,
            "grid_template_columns": null,
            "flex": null,
            "_model_name": "LayoutModel",
            "justify_items": null,
            "grid_row": null,
            "max_height": null,
            "align_content": null,
            "visibility": null,
            "align_self": null,
            "height": null,
            "min_height": null,
            "padding": null,
            "grid_auto_rows": null,
            "grid_gap": null,
            "max_width": null,
            "order": null,
            "_view_module_version": "1.2.0",
            "grid_template_areas": null,
            "object_position": null,
            "object_fit": null,
            "grid_auto_columns": null,
            "margin": null,
            "display": null,
            "left": null
          }
        },
        "256cc93730ce474f873c4132d382f0c8": {
          "model_module": "@jupyter-widgets/controls",
          "model_name": "DescriptionStyleModel",
          "state": {
            "_view_name": "StyleView",
            "_model_name": "DescriptionStyleModel",
            "description_width": "",
            "_view_module": "@jupyter-widgets/base",
            "_model_module_version": "1.5.0",
            "_view_count": null,
            "_view_module_version": "1.2.0",
            "_model_module": "@jupyter-widgets/controls"
          }
        },
        "8a4ebe3247774549829cebf26240ef81": {
          "model_module": "@jupyter-widgets/base",
          "model_name": "LayoutModel",
          "state": {
            "_view_name": "LayoutView",
            "grid_template_rows": null,
            "right": null,
            "justify_content": null,
            "_view_module": "@jupyter-widgets/base",
            "overflow": null,
            "_model_module_version": "1.2.0",
            "_view_count": null,
            "flex_flow": null,
            "width": null,
            "min_width": null,
            "border": null,
            "align_items": null,
            "bottom": null,
            "_model_module": "@jupyter-widgets/base",
            "top": null,
            "grid_column": null,
            "overflow_y": null,
            "overflow_x": null,
            "grid_auto_flow": null,
            "grid_area": null,
            "grid_template_columns": null,
            "flex": null,
            "_model_name": "LayoutModel",
            "justify_items": null,
            "grid_row": null,
            "max_height": null,
            "align_content": null,
            "visibility": null,
            "align_self": null,
            "height": null,
            "min_height": null,
            "padding": null,
            "grid_auto_rows": null,
            "grid_gap": null,
            "max_width": null,
            "order": null,
            "_view_module_version": "1.2.0",
            "grid_template_areas": null,
            "object_position": null,
            "object_fit": null,
            "grid_auto_columns": null,
            "margin": null,
            "display": null,
            "left": null
          }
        },
        "96ff17a8dbe74cc0aa4f140aec656427": {
          "model_module": "@jupyter-widgets/controls",
          "model_name": "HBoxModel",
          "state": {
            "_view_name": "HBoxView",
            "_dom_classes": [],
            "_model_name": "HBoxModel",
            "_view_module": "@jupyter-widgets/controls",
            "_model_module_version": "1.5.0",
            "_view_count": null,
            "_view_module_version": "1.5.0",
            "box_style": "",
            "layout": "IPY_MODEL_a9b96e392fce44b8b7cfc4e25644e543",
            "_model_module": "@jupyter-widgets/controls",
            "children": [
              "IPY_MODEL_f4cef73a3201491eb23ef1416a2fd392",
              "IPY_MODEL_2970683db80b4ebab445753a18d2ba18",
              "IPY_MODEL_40f4dd868b0944128edb31a8dc4fcbaf"
            ]
          }
        },
        "a9b96e392fce44b8b7cfc4e25644e543": {
          "model_module": "@jupyter-widgets/base",
          "model_name": "LayoutModel",
          "state": {
            "_view_name": "LayoutView",
            "grid_template_rows": null,
            "right": null,
            "justify_content": null,
            "_view_module": "@jupyter-widgets/base",
            "overflow": null,
            "_model_module_version": "1.2.0",
            "_view_count": null,
            "flex_flow": null,
            "width": null,
            "min_width": null,
            "border": null,
            "align_items": null,
            "bottom": null,
            "_model_module": "@jupyter-widgets/base",
            "top": null,
            "grid_column": null,
            "overflow_y": null,
            "overflow_x": null,
            "grid_auto_flow": null,
            "grid_area": null,
            "grid_template_columns": null,
            "flex": null,
            "_model_name": "LayoutModel",
            "justify_items": null,
            "grid_row": null,
            "max_height": null,
            "align_content": null,
            "visibility": null,
            "align_self": null,
            "height": null,
            "min_height": null,
            "padding": null,
            "grid_auto_rows": null,
            "grid_gap": null,
            "max_width": null,
            "order": null,
            "_view_module_version": "1.2.0",
            "grid_template_areas": null,
            "object_position": null,
            "object_fit": null,
            "grid_auto_columns": null,
            "margin": null,
            "display": null,
            "left": null
          }
        },
        "f4cef73a3201491eb23ef1416a2fd392": {
          "model_module": "@jupyter-widgets/controls",
          "model_name": "HTMLModel",
          "state": {
            "_view_name": "HTMLView",
            "style": "IPY_MODEL_4e63af15864148228e37abe27416e272",
            "_dom_classes": [],
            "description": "",
            "_model_name": "HTMLModel",
            "placeholder": "​",
            "_view_module": "@jupyter-widgets/controls",
            "_model_module_version": "1.5.0",
            "value": "100%",
            "_view_count": null,
            "_view_module_version": "1.5.0",
            "description_tooltip": null,
            "_model_module": "@jupyter-widgets/controls",
            "layout": "IPY_MODEL_c425462eabe142c9abfa5a597a780c18"
          }
        },
        "2970683db80b4ebab445753a18d2ba18": {
          "model_module": "@jupyter-widgets/controls",
          "model_name": "FloatProgressModel",
          "state": {
            "_view_name": "ProgressView",
            "style": "IPY_MODEL_cbd4eae8271944a7b40d390ea55b2670",
            "_dom_classes": [],
            "description": "",
            "_model_name": "FloatProgressModel",
            "bar_style": "success",
            "max": 200,
            "_view_module": "@jupyter-widgets/controls",
            "_model_module_version": "1.5.0",
            "value": 200,
            "_view_count": null,
            "_view_module_version": "1.5.0",
            "orientation": "horizontal",
            "min": 0,
            "description_tooltip": null,
            "_model_module": "@jupyter-widgets/controls",
            "layout": "IPY_MODEL_72ac03db4c724b1b87ec292d5f319ec1"
          }
        },
        "40f4dd868b0944128edb31a8dc4fcbaf": {
          "model_module": "@jupyter-widgets/controls",
          "model_name": "HTMLModel",
          "state": {
            "_view_name": "HTMLView",
            "style": "IPY_MODEL_1e2be88d729446eba934c291d608798f",
            "_dom_classes": [],
            "description": "",
            "_model_name": "HTMLModel",
            "placeholder": "​",
            "_view_module": "@jupyter-widgets/controls",
            "_model_module_version": "1.5.0",
            "value": " 200/200 [01:45&lt;00:00,  1.15s/it]",
            "_view_count": null,
            "_view_module_version": "1.5.0",
            "description_tooltip": null,
            "_model_module": "@jupyter-widgets/controls",
            "layout": "IPY_MODEL_c88035c525ce463d9e66d0783468f839"
          }
        },
        "4e63af15864148228e37abe27416e272": {
          "model_module": "@jupyter-widgets/controls",
          "model_name": "DescriptionStyleModel",
          "state": {
            "_view_name": "StyleView",
            "_model_name": "DescriptionStyleModel",
            "description_width": "",
            "_view_module": "@jupyter-widgets/base",
            "_model_module_version": "1.5.0",
            "_view_count": null,
            "_view_module_version": "1.2.0",
            "_model_module": "@jupyter-widgets/controls"
          }
        },
        "c425462eabe142c9abfa5a597a780c18": {
          "model_module": "@jupyter-widgets/base",
          "model_name": "LayoutModel",
          "state": {
            "_view_name": "LayoutView",
            "grid_template_rows": null,
            "right": null,
            "justify_content": null,
            "_view_module": "@jupyter-widgets/base",
            "overflow": null,
            "_model_module_version": "1.2.0",
            "_view_count": null,
            "flex_flow": null,
            "width": null,
            "min_width": null,
            "border": null,
            "align_items": null,
            "bottom": null,
            "_model_module": "@jupyter-widgets/base",
            "top": null,
            "grid_column": null,
            "overflow_y": null,
            "overflow_x": null,
            "grid_auto_flow": null,
            "grid_area": null,
            "grid_template_columns": null,
            "flex": null,
            "_model_name": "LayoutModel",
            "justify_items": null,
            "grid_row": null,
            "max_height": null,
            "align_content": null,
            "visibility": null,
            "align_self": null,
            "height": null,
            "min_height": null,
            "padding": null,
            "grid_auto_rows": null,
            "grid_gap": null,
            "max_width": null,
            "order": null,
            "_view_module_version": "1.2.0",
            "grid_template_areas": null,
            "object_position": null,
            "object_fit": null,
            "grid_auto_columns": null,
            "margin": null,
            "display": null,
            "left": null
          }
        },
        "cbd4eae8271944a7b40d390ea55b2670": {
          "model_module": "@jupyter-widgets/controls",
          "model_name": "ProgressStyleModel",
          "state": {
            "_view_name": "StyleView",
            "_model_name": "ProgressStyleModel",
            "description_width": "",
            "_view_module": "@jupyter-widgets/base",
            "_model_module_version": "1.5.0",
            "_view_count": null,
            "_view_module_version": "1.2.0",
            "bar_color": null,
            "_model_module": "@jupyter-widgets/controls"
          }
        },
        "72ac03db4c724b1b87ec292d5f319ec1": {
          "model_module": "@jupyter-widgets/base",
          "model_name": "LayoutModel",
          "state": {
            "_view_name": "LayoutView",
            "grid_template_rows": null,
            "right": null,
            "justify_content": null,
            "_view_module": "@jupyter-widgets/base",
            "overflow": null,
            "_model_module_version": "1.2.0",
            "_view_count": null,
            "flex_flow": null,
            "width": null,
            "min_width": null,
            "border": null,
            "align_items": null,
            "bottom": null,
            "_model_module": "@jupyter-widgets/base",
            "top": null,
            "grid_column": null,
            "overflow_y": null,
            "overflow_x": null,
            "grid_auto_flow": null,
            "grid_area": null,
            "grid_template_columns": null,
            "flex": null,
            "_model_name": "LayoutModel",
            "justify_items": null,
            "grid_row": null,
            "max_height": null,
            "align_content": null,
            "visibility": null,
            "align_self": null,
            "height": null,
            "min_height": null,
            "padding": null,
            "grid_auto_rows": null,
            "grid_gap": null,
            "max_width": null,
            "order": null,
            "_view_module_version": "1.2.0",
            "grid_template_areas": null,
            "object_position": null,
            "object_fit": null,
            "grid_auto_columns": null,
            "margin": null,
            "display": null,
            "left": null
          }
        },
        "1e2be88d729446eba934c291d608798f": {
          "model_module": "@jupyter-widgets/controls",
          "model_name": "DescriptionStyleModel",
          "state": {
            "_view_name": "StyleView",
            "_model_name": "DescriptionStyleModel",
            "description_width": "",
            "_view_module": "@jupyter-widgets/base",
            "_model_module_version": "1.5.0",
            "_view_count": null,
            "_view_module_version": "1.2.0",
            "_model_module": "@jupyter-widgets/controls"
          }
        },
        "c88035c525ce463d9e66d0783468f839": {
          "model_module": "@jupyter-widgets/base",
          "model_name": "LayoutModel",
          "state": {
            "_view_name": "LayoutView",
            "grid_template_rows": null,
            "right": null,
            "justify_content": null,
            "_view_module": "@jupyter-widgets/base",
            "overflow": null,
            "_model_module_version": "1.2.0",
            "_view_count": null,
            "flex_flow": null,
            "width": null,
            "min_width": null,
            "border": null,
            "align_items": null,
            "bottom": null,
            "_model_module": "@jupyter-widgets/base",
            "top": null,
            "grid_column": null,
            "overflow_y": null,
            "overflow_x": null,
            "grid_auto_flow": null,
            "grid_area": null,
            "grid_template_columns": null,
            "flex": null,
            "_model_name": "LayoutModel",
            "justify_items": null,
            "grid_row": null,
            "max_height": null,
            "align_content": null,
            "visibility": null,
            "align_self": null,
            "height": null,
            "min_height": null,
            "padding": null,
            "grid_auto_rows": null,
            "grid_gap": null,
            "max_width": null,
            "order": null,
            "_view_module_version": "1.2.0",
            "grid_template_areas": null,
            "object_position": null,
            "object_fit": null,
            "grid_auto_columns": null,
            "margin": null,
            "display": null,
            "left": null
          }
        },
        "3862e8cdf5114f0a99819b7d887e1197": {
          "model_module": "@jupyter-widgets/controls",
          "model_name": "HBoxModel",
          "state": {
            "_view_name": "HBoxView",
            "_dom_classes": [],
            "_model_name": "HBoxModel",
            "_view_module": "@jupyter-widgets/controls",
            "_model_module_version": "1.5.0",
            "_view_count": null,
            "_view_module_version": "1.5.0",
            "box_style": "",
            "layout": "IPY_MODEL_c7c39d8b2eb446efa4bc3cb56c8777f5",
            "_model_module": "@jupyter-widgets/controls",
            "children": [
              "IPY_MODEL_72227785c6f542c2bcbd1e8a505be551",
              "IPY_MODEL_b88927bbf0274f41aeb9f663c374706d",
              "IPY_MODEL_d7d0e58ab793440fa60f202097cf87dc"
            ]
          }
        },
        "c7c39d8b2eb446efa4bc3cb56c8777f5": {
          "model_module": "@jupyter-widgets/base",
          "model_name": "LayoutModel",
          "state": {
            "_view_name": "LayoutView",
            "grid_template_rows": null,
            "right": null,
            "justify_content": null,
            "_view_module": "@jupyter-widgets/base",
            "overflow": null,
            "_model_module_version": "1.2.0",
            "_view_count": null,
            "flex_flow": null,
            "width": null,
            "min_width": null,
            "border": null,
            "align_items": null,
            "bottom": null,
            "_model_module": "@jupyter-widgets/base",
            "top": null,
            "grid_column": null,
            "overflow_y": null,
            "overflow_x": null,
            "grid_auto_flow": null,
            "grid_area": null,
            "grid_template_columns": null,
            "flex": null,
            "_model_name": "LayoutModel",
            "justify_items": null,
            "grid_row": null,
            "max_height": null,
            "align_content": null,
            "visibility": null,
            "align_self": null,
            "height": null,
            "min_height": null,
            "padding": null,
            "grid_auto_rows": null,
            "grid_gap": null,
            "max_width": null,
            "order": null,
            "_view_module_version": "1.2.0",
            "grid_template_areas": null,
            "object_position": null,
            "object_fit": null,
            "grid_auto_columns": null,
            "margin": null,
            "display": null,
            "left": null
          }
        },
        "72227785c6f542c2bcbd1e8a505be551": {
          "model_module": "@jupyter-widgets/controls",
          "model_name": "HTMLModel",
          "state": {
            "_view_name": "HTMLView",
            "style": "IPY_MODEL_8185af28bf3e40fc86fbf9d1603a8b86",
            "_dom_classes": [],
            "description": "",
            "_model_name": "HTMLModel",
            "placeholder": "​",
            "_view_module": "@jupyter-widgets/controls",
            "_model_module_version": "1.5.0",
            "value": "100%",
            "_view_count": null,
            "_view_module_version": "1.5.0",
            "description_tooltip": null,
            "_model_module": "@jupyter-widgets/controls",
            "layout": "IPY_MODEL_48868217964f48278a45cd27d3de82b6"
          }
        },
        "b88927bbf0274f41aeb9f663c374706d": {
          "model_module": "@jupyter-widgets/controls",
          "model_name": "FloatProgressModel",
          "state": {
            "_view_name": "ProgressView",
            "style": "IPY_MODEL_3fff03f21c544b8a8f1067b6747b516b",
            "_dom_classes": [],
            "description": "",
            "_model_name": "FloatProgressModel",
            "bar_style": "success",
            "max": 200,
            "_view_module": "@jupyter-widgets/controls",
            "_model_module_version": "1.5.0",
            "value": 200,
            "_view_count": null,
            "_view_module_version": "1.5.0",
            "orientation": "horizontal",
            "min": 0,
            "description_tooltip": null,
            "_model_module": "@jupyter-widgets/controls",
            "layout": "IPY_MODEL_c077cfc7c5df4fa293f3595eaab74812"
          }
        },
        "d7d0e58ab793440fa60f202097cf87dc": {
          "model_module": "@jupyter-widgets/controls",
          "model_name": "HTMLModel",
          "state": {
            "_view_name": "HTMLView",
            "style": "IPY_MODEL_a380b3da307c44eea99a9b5a72c1d1de",
            "_dom_classes": [],
            "description": "",
            "_model_name": "HTMLModel",
            "placeholder": "​",
            "_view_module": "@jupyter-widgets/controls",
            "_model_module_version": "1.5.0",
            "value": " 200/200 [01:59&lt;00:00,  1.18s/it]",
            "_view_count": null,
            "_view_module_version": "1.5.0",
            "description_tooltip": null,
            "_model_module": "@jupyter-widgets/controls",
            "layout": "IPY_MODEL_727ad6ae656b4506a0e1064c78c530b6"
          }
        },
        "8185af28bf3e40fc86fbf9d1603a8b86": {
          "model_module": "@jupyter-widgets/controls",
          "model_name": "DescriptionStyleModel",
          "state": {
            "_view_name": "StyleView",
            "_model_name": "DescriptionStyleModel",
            "description_width": "",
            "_view_module": "@jupyter-widgets/base",
            "_model_module_version": "1.5.0",
            "_view_count": null,
            "_view_module_version": "1.2.0",
            "_model_module": "@jupyter-widgets/controls"
          }
        },
        "48868217964f48278a45cd27d3de82b6": {
          "model_module": "@jupyter-widgets/base",
          "model_name": "LayoutModel",
          "state": {
            "_view_name": "LayoutView",
            "grid_template_rows": null,
            "right": null,
            "justify_content": null,
            "_view_module": "@jupyter-widgets/base",
            "overflow": null,
            "_model_module_version": "1.2.0",
            "_view_count": null,
            "flex_flow": null,
            "width": null,
            "min_width": null,
            "border": null,
            "align_items": null,
            "bottom": null,
            "_model_module": "@jupyter-widgets/base",
            "top": null,
            "grid_column": null,
            "overflow_y": null,
            "overflow_x": null,
            "grid_auto_flow": null,
            "grid_area": null,
            "grid_template_columns": null,
            "flex": null,
            "_model_name": "LayoutModel",
            "justify_items": null,
            "grid_row": null,
            "max_height": null,
            "align_content": null,
            "visibility": null,
            "align_self": null,
            "height": null,
            "min_height": null,
            "padding": null,
            "grid_auto_rows": null,
            "grid_gap": null,
            "max_width": null,
            "order": null,
            "_view_module_version": "1.2.0",
            "grid_template_areas": null,
            "object_position": null,
            "object_fit": null,
            "grid_auto_columns": null,
            "margin": null,
            "display": null,
            "left": null
          }
        },
        "3fff03f21c544b8a8f1067b6747b516b": {
          "model_module": "@jupyter-widgets/controls",
          "model_name": "ProgressStyleModel",
          "state": {
            "_view_name": "StyleView",
            "_model_name": "ProgressStyleModel",
            "description_width": "",
            "_view_module": "@jupyter-widgets/base",
            "_model_module_version": "1.5.0",
            "_view_count": null,
            "_view_module_version": "1.2.0",
            "bar_color": null,
            "_model_module": "@jupyter-widgets/controls"
          }
        },
        "c077cfc7c5df4fa293f3595eaab74812": {
          "model_module": "@jupyter-widgets/base",
          "model_name": "LayoutModel",
          "state": {
            "_view_name": "LayoutView",
            "grid_template_rows": null,
            "right": null,
            "justify_content": null,
            "_view_module": "@jupyter-widgets/base",
            "overflow": null,
            "_model_module_version": "1.2.0",
            "_view_count": null,
            "flex_flow": null,
            "width": null,
            "min_width": null,
            "border": null,
            "align_items": null,
            "bottom": null,
            "_model_module": "@jupyter-widgets/base",
            "top": null,
            "grid_column": null,
            "overflow_y": null,
            "overflow_x": null,
            "grid_auto_flow": null,
            "grid_area": null,
            "grid_template_columns": null,
            "flex": null,
            "_model_name": "LayoutModel",
            "justify_items": null,
            "grid_row": null,
            "max_height": null,
            "align_content": null,
            "visibility": null,
            "align_self": null,
            "height": null,
            "min_height": null,
            "padding": null,
            "grid_auto_rows": null,
            "grid_gap": null,
            "max_width": null,
            "order": null,
            "_view_module_version": "1.2.0",
            "grid_template_areas": null,
            "object_position": null,
            "object_fit": null,
            "grid_auto_columns": null,
            "margin": null,
            "display": null,
            "left": null
          }
        },
        "a380b3da307c44eea99a9b5a72c1d1de": {
          "model_module": "@jupyter-widgets/controls",
          "model_name": "DescriptionStyleModel",
          "state": {
            "_view_name": "StyleView",
            "_model_name": "DescriptionStyleModel",
            "description_width": "",
            "_view_module": "@jupyter-widgets/base",
            "_model_module_version": "1.5.0",
            "_view_count": null,
            "_view_module_version": "1.2.0",
            "_model_module": "@jupyter-widgets/controls"
          }
        },
        "727ad6ae656b4506a0e1064c78c530b6": {
          "model_module": "@jupyter-widgets/base",
          "model_name": "LayoutModel",
          "state": {
            "_view_name": "LayoutView",
            "grid_template_rows": null,
            "right": null,
            "justify_content": null,
            "_view_module": "@jupyter-widgets/base",
            "overflow": null,
            "_model_module_version": "1.2.0",
            "_view_count": null,
            "flex_flow": null,
            "width": null,
            "min_width": null,
            "border": null,
            "align_items": null,
            "bottom": null,
            "_model_module": "@jupyter-widgets/base",
            "top": null,
            "grid_column": null,
            "overflow_y": null,
            "overflow_x": null,
            "grid_auto_flow": null,
            "grid_area": null,
            "grid_template_columns": null,
            "flex": null,
            "_model_name": "LayoutModel",
            "justify_items": null,
            "grid_row": null,
            "max_height": null,
            "align_content": null,
            "visibility": null,
            "align_self": null,
            "height": null,
            "min_height": null,
            "padding": null,
            "grid_auto_rows": null,
            "grid_gap": null,
            "max_width": null,
            "order": null,
            "_view_module_version": "1.2.0",
            "grid_template_areas": null,
            "object_position": null,
            "object_fit": null,
            "grid_auto_columns": null,
            "margin": null,
            "display": null,
            "left": null
          }
        },
        "e2c7d4ef33c9411bbc82ee63680b6a55": {
          "model_module": "@jupyter-widgets/controls",
          "model_name": "HBoxModel",
          "state": {
            "_view_name": "HBoxView",
            "_dom_classes": [],
            "_model_name": "HBoxModel",
            "_view_module": "@jupyter-widgets/controls",
            "_model_module_version": "1.5.0",
            "_view_count": null,
            "_view_module_version": "1.5.0",
            "box_style": "",
            "layout": "IPY_MODEL_728520779614414ca68d1a55101bd717",
            "_model_module": "@jupyter-widgets/controls",
            "children": [
              "IPY_MODEL_eaec48cd172b482a8dc5bd99fa22fead",
              "IPY_MODEL_4a22f34f57a94fd7853b0c4498cfc675",
              "IPY_MODEL_78831ab8ce004fddbcaff42f9049dfb6"
            ]
          }
        },
        "728520779614414ca68d1a55101bd717": {
          "model_module": "@jupyter-widgets/base",
          "model_name": "LayoutModel",
          "state": {
            "_view_name": "LayoutView",
            "grid_template_rows": null,
            "right": null,
            "justify_content": null,
            "_view_module": "@jupyter-widgets/base",
            "overflow": null,
            "_model_module_version": "1.2.0",
            "_view_count": null,
            "flex_flow": null,
            "width": null,
            "min_width": null,
            "border": null,
            "align_items": null,
            "bottom": null,
            "_model_module": "@jupyter-widgets/base",
            "top": null,
            "grid_column": null,
            "overflow_y": null,
            "overflow_x": null,
            "grid_auto_flow": null,
            "grid_area": null,
            "grid_template_columns": null,
            "flex": null,
            "_model_name": "LayoutModel",
            "justify_items": null,
            "grid_row": null,
            "max_height": null,
            "align_content": null,
            "visibility": null,
            "align_self": null,
            "height": null,
            "min_height": null,
            "padding": null,
            "grid_auto_rows": null,
            "grid_gap": null,
            "max_width": null,
            "order": null,
            "_view_module_version": "1.2.0",
            "grid_template_areas": null,
            "object_position": null,
            "object_fit": null,
            "grid_auto_columns": null,
            "margin": null,
            "display": null,
            "left": null
          }
        },
        "eaec48cd172b482a8dc5bd99fa22fead": {
          "model_module": "@jupyter-widgets/controls",
          "model_name": "HTMLModel",
          "state": {
            "_view_name": "HTMLView",
            "style": "IPY_MODEL_e3caddf745784066af0bdc67f059623a",
            "_dom_classes": [],
            "description": "",
            "_model_name": "HTMLModel",
            "placeholder": "​",
            "_view_module": "@jupyter-widgets/controls",
            "_model_module_version": "1.5.0",
            "value": "100%",
            "_view_count": null,
            "_view_module_version": "1.5.0",
            "description_tooltip": null,
            "_model_module": "@jupyter-widgets/controls",
            "layout": "IPY_MODEL_fb1a19c8020a48a4b470f51128f11d56"
          }
        },
        "4a22f34f57a94fd7853b0c4498cfc675": {
          "model_module": "@jupyter-widgets/controls",
          "model_name": "FloatProgressModel",
          "state": {
            "_view_name": "ProgressView",
            "style": "IPY_MODEL_206e26e7fcc24b08b3f2611d4980a144",
            "_dom_classes": [],
            "description": "",
            "_model_name": "FloatProgressModel",
            "bar_style": "success",
            "max": 200,
            "_view_module": "@jupyter-widgets/controls",
            "_model_module_version": "1.5.0",
            "value": 200,
            "_view_count": null,
            "_view_module_version": "1.5.0",
            "orientation": "horizontal",
            "min": 0,
            "description_tooltip": null,
            "_model_module": "@jupyter-widgets/controls",
            "layout": "IPY_MODEL_9d5040abe1d14e2ab1ccec69381e242a"
          }
        },
        "78831ab8ce004fddbcaff42f9049dfb6": {
          "model_module": "@jupyter-widgets/controls",
          "model_name": "HTMLModel",
          "state": {
            "_view_name": "HTMLView",
            "style": "IPY_MODEL_d8ffcc42b0f546a8ab7a186b291c0d44",
            "_dom_classes": [],
            "description": "",
            "_model_name": "HTMLModel",
            "placeholder": "​",
            "_view_module": "@jupyter-widgets/controls",
            "_model_module_version": "1.5.0",
            "value": " 200/200 [01:45&lt;00:00,  1.11s/it]",
            "_view_count": null,
            "_view_module_version": "1.5.0",
            "description_tooltip": null,
            "_model_module": "@jupyter-widgets/controls",
            "layout": "IPY_MODEL_c6d8159e0e484852b827e8fbe4f9623a"
          }
        },
        "e3caddf745784066af0bdc67f059623a": {
          "model_module": "@jupyter-widgets/controls",
          "model_name": "DescriptionStyleModel",
          "state": {
            "_view_name": "StyleView",
            "_model_name": "DescriptionStyleModel",
            "description_width": "",
            "_view_module": "@jupyter-widgets/base",
            "_model_module_version": "1.5.0",
            "_view_count": null,
            "_view_module_version": "1.2.0",
            "_model_module": "@jupyter-widgets/controls"
          }
        },
        "fb1a19c8020a48a4b470f51128f11d56": {
          "model_module": "@jupyter-widgets/base",
          "model_name": "LayoutModel",
          "state": {
            "_view_name": "LayoutView",
            "grid_template_rows": null,
            "right": null,
            "justify_content": null,
            "_view_module": "@jupyter-widgets/base",
            "overflow": null,
            "_model_module_version": "1.2.0",
            "_view_count": null,
            "flex_flow": null,
            "width": null,
            "min_width": null,
            "border": null,
            "align_items": null,
            "bottom": null,
            "_model_module": "@jupyter-widgets/base",
            "top": null,
            "grid_column": null,
            "overflow_y": null,
            "overflow_x": null,
            "grid_auto_flow": null,
            "grid_area": null,
            "grid_template_columns": null,
            "flex": null,
            "_model_name": "LayoutModel",
            "justify_items": null,
            "grid_row": null,
            "max_height": null,
            "align_content": null,
            "visibility": null,
            "align_self": null,
            "height": null,
            "min_height": null,
            "padding": null,
            "grid_auto_rows": null,
            "grid_gap": null,
            "max_width": null,
            "order": null,
            "_view_module_version": "1.2.0",
            "grid_template_areas": null,
            "object_position": null,
            "object_fit": null,
            "grid_auto_columns": null,
            "margin": null,
            "display": null,
            "left": null
          }
        },
        "206e26e7fcc24b08b3f2611d4980a144": {
          "model_module": "@jupyter-widgets/controls",
          "model_name": "ProgressStyleModel",
          "state": {
            "_view_name": "StyleView",
            "_model_name": "ProgressStyleModel",
            "description_width": "",
            "_view_module": "@jupyter-widgets/base",
            "_model_module_version": "1.5.0",
            "_view_count": null,
            "_view_module_version": "1.2.0",
            "bar_color": null,
            "_model_module": "@jupyter-widgets/controls"
          }
        },
        "9d5040abe1d14e2ab1ccec69381e242a": {
          "model_module": "@jupyter-widgets/base",
          "model_name": "LayoutModel",
          "state": {
            "_view_name": "LayoutView",
            "grid_template_rows": null,
            "right": null,
            "justify_content": null,
            "_view_module": "@jupyter-widgets/base",
            "overflow": null,
            "_model_module_version": "1.2.0",
            "_view_count": null,
            "flex_flow": null,
            "width": null,
            "min_width": null,
            "border": null,
            "align_items": null,
            "bottom": null,
            "_model_module": "@jupyter-widgets/base",
            "top": null,
            "grid_column": null,
            "overflow_y": null,
            "overflow_x": null,
            "grid_auto_flow": null,
            "grid_area": null,
            "grid_template_columns": null,
            "flex": null,
            "_model_name": "LayoutModel",
            "justify_items": null,
            "grid_row": null,
            "max_height": null,
            "align_content": null,
            "visibility": null,
            "align_self": null,
            "height": null,
            "min_height": null,
            "padding": null,
            "grid_auto_rows": null,
            "grid_gap": null,
            "max_width": null,
            "order": null,
            "_view_module_version": "1.2.0",
            "grid_template_areas": null,
            "object_position": null,
            "object_fit": null,
            "grid_auto_columns": null,
            "margin": null,
            "display": null,
            "left": null
          }
        },
        "d8ffcc42b0f546a8ab7a186b291c0d44": {
          "model_module": "@jupyter-widgets/controls",
          "model_name": "DescriptionStyleModel",
          "state": {
            "_view_name": "StyleView",
            "_model_name": "DescriptionStyleModel",
            "description_width": "",
            "_view_module": "@jupyter-widgets/base",
            "_model_module_version": "1.5.0",
            "_view_count": null,
            "_view_module_version": "1.2.0",
            "_model_module": "@jupyter-widgets/controls"
          }
        },
        "c6d8159e0e484852b827e8fbe4f9623a": {
          "model_module": "@jupyter-widgets/base",
          "model_name": "LayoutModel",
          "state": {
            "_view_name": "LayoutView",
            "grid_template_rows": null,
            "right": null,
            "justify_content": null,
            "_view_module": "@jupyter-widgets/base",
            "overflow": null,
            "_model_module_version": "1.2.0",
            "_view_count": null,
            "flex_flow": null,
            "width": null,
            "min_width": null,
            "border": null,
            "align_items": null,
            "bottom": null,
            "_model_module": "@jupyter-widgets/base",
            "top": null,
            "grid_column": null,
            "overflow_y": null,
            "overflow_x": null,
            "grid_auto_flow": null,
            "grid_area": null,
            "grid_template_columns": null,
            "flex": null,
            "_model_name": "LayoutModel",
            "justify_items": null,
            "grid_row": null,
            "max_height": null,
            "align_content": null,
            "visibility": null,
            "align_self": null,
            "height": null,
            "min_height": null,
            "padding": null,
            "grid_auto_rows": null,
            "grid_gap": null,
            "max_width": null,
            "order": null,
            "_view_module_version": "1.2.0",
            "grid_template_areas": null,
            "object_position": null,
            "object_fit": null,
            "grid_auto_columns": null,
            "margin": null,
            "display": null,
            "left": null
          }
        },
        "ec8fc8b2a67d4450a3fff7330da0e866": {
          "model_module": "@jupyter-widgets/controls",
          "model_name": "HBoxModel",
          "state": {
            "_view_name": "HBoxView",
            "_dom_classes": [],
            "_model_name": "HBoxModel",
            "_view_module": "@jupyter-widgets/controls",
            "_model_module_version": "1.5.0",
            "_view_count": null,
            "_view_module_version": "1.5.0",
            "box_style": "",
            "layout": "IPY_MODEL_87e6b2a0b1604cb4abcba1e4142f5ba6",
            "_model_module": "@jupyter-widgets/controls",
            "children": [
              "IPY_MODEL_875c4b49b2b14b97a81d1232c2ed4bde",
              "IPY_MODEL_62430ff83eac4fa68e8807279b20317c",
              "IPY_MODEL_984a08bab8414f338c8ea5807c51459e"
            ]
          }
        },
        "87e6b2a0b1604cb4abcba1e4142f5ba6": {
          "model_module": "@jupyter-widgets/base",
          "model_name": "LayoutModel",
          "state": {
            "_view_name": "LayoutView",
            "grid_template_rows": null,
            "right": null,
            "justify_content": null,
            "_view_module": "@jupyter-widgets/base",
            "overflow": null,
            "_model_module_version": "1.2.0",
            "_view_count": null,
            "flex_flow": null,
            "width": null,
            "min_width": null,
            "border": null,
            "align_items": null,
            "bottom": null,
            "_model_module": "@jupyter-widgets/base",
            "top": null,
            "grid_column": null,
            "overflow_y": null,
            "overflow_x": null,
            "grid_auto_flow": null,
            "grid_area": null,
            "grid_template_columns": null,
            "flex": null,
            "_model_name": "LayoutModel",
            "justify_items": null,
            "grid_row": null,
            "max_height": null,
            "align_content": null,
            "visibility": null,
            "align_self": null,
            "height": null,
            "min_height": null,
            "padding": null,
            "grid_auto_rows": null,
            "grid_gap": null,
            "max_width": null,
            "order": null,
            "_view_module_version": "1.2.0",
            "grid_template_areas": null,
            "object_position": null,
            "object_fit": null,
            "grid_auto_columns": null,
            "margin": null,
            "display": null,
            "left": null
          }
        },
        "875c4b49b2b14b97a81d1232c2ed4bde": {
          "model_module": "@jupyter-widgets/controls",
          "model_name": "HTMLModel",
          "state": {
            "_view_name": "HTMLView",
            "style": "IPY_MODEL_f9af6c1b013441fa998e9b7285f19d5c",
            "_dom_classes": [],
            "description": "",
            "_model_name": "HTMLModel",
            "placeholder": "​",
            "_view_module": "@jupyter-widgets/controls",
            "_model_module_version": "1.5.0",
            "value": "100%",
            "_view_count": null,
            "_view_module_version": "1.5.0",
            "description_tooltip": null,
            "_model_module": "@jupyter-widgets/controls",
            "layout": "IPY_MODEL_556ed030e74c4eeaa703b348bc5e658d"
          }
        },
        "62430ff83eac4fa68e8807279b20317c": {
          "model_module": "@jupyter-widgets/controls",
          "model_name": "FloatProgressModel",
          "state": {
            "_view_name": "ProgressView",
            "style": "IPY_MODEL_2abc1393eec847c1b542a520d95909bc",
            "_dom_classes": [],
            "description": "",
            "_model_name": "FloatProgressModel",
            "bar_style": "success",
            "max": 200,
            "_view_module": "@jupyter-widgets/controls",
            "_model_module_version": "1.5.0",
            "value": 200,
            "_view_count": null,
            "_view_module_version": "1.5.0",
            "orientation": "horizontal",
            "min": 0,
            "description_tooltip": null,
            "_model_module": "@jupyter-widgets/controls",
            "layout": "IPY_MODEL_673d0c19f9684966ab8b3872ebef1145"
          }
        },
        "984a08bab8414f338c8ea5807c51459e": {
          "model_module": "@jupyter-widgets/controls",
          "model_name": "HTMLModel",
          "state": {
            "_view_name": "HTMLView",
            "style": "IPY_MODEL_62657caa19b94ec382073e532c2f40bc",
            "_dom_classes": [],
            "description": "",
            "_model_name": "HTMLModel",
            "placeholder": "​",
            "_view_module": "@jupyter-widgets/controls",
            "_model_module_version": "1.5.0",
            "value": " 200/200 [01:45&lt;00:00,  1.07s/it]",
            "_view_count": null,
            "_view_module_version": "1.5.0",
            "description_tooltip": null,
            "_model_module": "@jupyter-widgets/controls",
            "layout": "IPY_MODEL_7765f31fce1a4392af376b1e5074a9be"
          }
        },
        "f9af6c1b013441fa998e9b7285f19d5c": {
          "model_module": "@jupyter-widgets/controls",
          "model_name": "DescriptionStyleModel",
          "state": {
            "_view_name": "StyleView",
            "_model_name": "DescriptionStyleModel",
            "description_width": "",
            "_view_module": "@jupyter-widgets/base",
            "_model_module_version": "1.5.0",
            "_view_count": null,
            "_view_module_version": "1.2.0",
            "_model_module": "@jupyter-widgets/controls"
          }
        },
        "556ed030e74c4eeaa703b348bc5e658d": {
          "model_module": "@jupyter-widgets/base",
          "model_name": "LayoutModel",
          "state": {
            "_view_name": "LayoutView",
            "grid_template_rows": null,
            "right": null,
            "justify_content": null,
            "_view_module": "@jupyter-widgets/base",
            "overflow": null,
            "_model_module_version": "1.2.0",
            "_view_count": null,
            "flex_flow": null,
            "width": null,
            "min_width": null,
            "border": null,
            "align_items": null,
            "bottom": null,
            "_model_module": "@jupyter-widgets/base",
            "top": null,
            "grid_column": null,
            "overflow_y": null,
            "overflow_x": null,
            "grid_auto_flow": null,
            "grid_area": null,
            "grid_template_columns": null,
            "flex": null,
            "_model_name": "LayoutModel",
            "justify_items": null,
            "grid_row": null,
            "max_height": null,
            "align_content": null,
            "visibility": null,
            "align_self": null,
            "height": null,
            "min_height": null,
            "padding": null,
            "grid_auto_rows": null,
            "grid_gap": null,
            "max_width": null,
            "order": null,
            "_view_module_version": "1.2.0",
            "grid_template_areas": null,
            "object_position": null,
            "object_fit": null,
            "grid_auto_columns": null,
            "margin": null,
            "display": null,
            "left": null
          }
        },
        "2abc1393eec847c1b542a520d95909bc": {
          "model_module": "@jupyter-widgets/controls",
          "model_name": "ProgressStyleModel",
          "state": {
            "_view_name": "StyleView",
            "_model_name": "ProgressStyleModel",
            "description_width": "",
            "_view_module": "@jupyter-widgets/base",
            "_model_module_version": "1.5.0",
            "_view_count": null,
            "_view_module_version": "1.2.0",
            "bar_color": null,
            "_model_module": "@jupyter-widgets/controls"
          }
        },
        "673d0c19f9684966ab8b3872ebef1145": {
          "model_module": "@jupyter-widgets/base",
          "model_name": "LayoutModel",
          "state": {
            "_view_name": "LayoutView",
            "grid_template_rows": null,
            "right": null,
            "justify_content": null,
            "_view_module": "@jupyter-widgets/base",
            "overflow": null,
            "_model_module_version": "1.2.0",
            "_view_count": null,
            "flex_flow": null,
            "width": null,
            "min_width": null,
            "border": null,
            "align_items": null,
            "bottom": null,
            "_model_module": "@jupyter-widgets/base",
            "top": null,
            "grid_column": null,
            "overflow_y": null,
            "overflow_x": null,
            "grid_auto_flow": null,
            "grid_area": null,
            "grid_template_columns": null,
            "flex": null,
            "_model_name": "LayoutModel",
            "justify_items": null,
            "grid_row": null,
            "max_height": null,
            "align_content": null,
            "visibility": null,
            "align_self": null,
            "height": null,
            "min_height": null,
            "padding": null,
            "grid_auto_rows": null,
            "grid_gap": null,
            "max_width": null,
            "order": null,
            "_view_module_version": "1.2.0",
            "grid_template_areas": null,
            "object_position": null,
            "object_fit": null,
            "grid_auto_columns": null,
            "margin": null,
            "display": null,
            "left": null
          }
        },
        "62657caa19b94ec382073e532c2f40bc": {
          "model_module": "@jupyter-widgets/controls",
          "model_name": "DescriptionStyleModel",
          "state": {
            "_view_name": "StyleView",
            "_model_name": "DescriptionStyleModel",
            "description_width": "",
            "_view_module": "@jupyter-widgets/base",
            "_model_module_version": "1.5.0",
            "_view_count": null,
            "_view_module_version": "1.2.0",
            "_model_module": "@jupyter-widgets/controls"
          }
        },
        "7765f31fce1a4392af376b1e5074a9be": {
          "model_module": "@jupyter-widgets/base",
          "model_name": "LayoutModel",
          "state": {
            "_view_name": "LayoutView",
            "grid_template_rows": null,
            "right": null,
            "justify_content": null,
            "_view_module": "@jupyter-widgets/base",
            "overflow": null,
            "_model_module_version": "1.2.0",
            "_view_count": null,
            "flex_flow": null,
            "width": null,
            "min_width": null,
            "border": null,
            "align_items": null,
            "bottom": null,
            "_model_module": "@jupyter-widgets/base",
            "top": null,
            "grid_column": null,
            "overflow_y": null,
            "overflow_x": null,
            "grid_auto_flow": null,
            "grid_area": null,
            "grid_template_columns": null,
            "flex": null,
            "_model_name": "LayoutModel",
            "justify_items": null,
            "grid_row": null,
            "max_height": null,
            "align_content": null,
            "visibility": null,
            "align_self": null,
            "height": null,
            "min_height": null,
            "padding": null,
            "grid_auto_rows": null,
            "grid_gap": null,
            "max_width": null,
            "order": null,
            "_view_module_version": "1.2.0",
            "grid_template_areas": null,
            "object_position": null,
            "object_fit": null,
            "grid_auto_columns": null,
            "margin": null,
            "display": null,
            "left": null
          }
        },
        "1ca89e96c26745628ca2965aedc86ac4": {
          "model_module": "@jupyter-widgets/controls",
          "model_name": "HBoxModel",
          "state": {
            "_view_name": "HBoxView",
            "_dom_classes": [],
            "_model_name": "HBoxModel",
            "_view_module": "@jupyter-widgets/controls",
            "_model_module_version": "1.5.0",
            "_view_count": null,
            "_view_module_version": "1.5.0",
            "box_style": "",
            "layout": "IPY_MODEL_2d0b3dcdbd134754a7730e0148d349c9",
            "_model_module": "@jupyter-widgets/controls",
            "children": [
              "IPY_MODEL_dbc4b59bdaba4511ae4437951debf76e",
              "IPY_MODEL_26cab8cbd0ae4deb8b75ac2896c8bdba",
              "IPY_MODEL_4b0cf61b76964fb4bb2578c0613d1231"
            ]
          }
        },
        "2d0b3dcdbd134754a7730e0148d349c9": {
          "model_module": "@jupyter-widgets/base",
          "model_name": "LayoutModel",
          "state": {
            "_view_name": "LayoutView",
            "grid_template_rows": null,
            "right": null,
            "justify_content": null,
            "_view_module": "@jupyter-widgets/base",
            "overflow": null,
            "_model_module_version": "1.2.0",
            "_view_count": null,
            "flex_flow": null,
            "width": null,
            "min_width": null,
            "border": null,
            "align_items": null,
            "bottom": null,
            "_model_module": "@jupyter-widgets/base",
            "top": null,
            "grid_column": null,
            "overflow_y": null,
            "overflow_x": null,
            "grid_auto_flow": null,
            "grid_area": null,
            "grid_template_columns": null,
            "flex": null,
            "_model_name": "LayoutModel",
            "justify_items": null,
            "grid_row": null,
            "max_height": null,
            "align_content": null,
            "visibility": null,
            "align_self": null,
            "height": null,
            "min_height": null,
            "padding": null,
            "grid_auto_rows": null,
            "grid_gap": null,
            "max_width": null,
            "order": null,
            "_view_module_version": "1.2.0",
            "grid_template_areas": null,
            "object_position": null,
            "object_fit": null,
            "grid_auto_columns": null,
            "margin": null,
            "display": null,
            "left": null
          }
        },
        "dbc4b59bdaba4511ae4437951debf76e": {
          "model_module": "@jupyter-widgets/controls",
          "model_name": "HTMLModel",
          "state": {
            "_view_name": "HTMLView",
            "style": "IPY_MODEL_66869ec61db548c6acf91cda42007a95",
            "_dom_classes": [],
            "description": "",
            "_model_name": "HTMLModel",
            "placeholder": "​",
            "_view_module": "@jupyter-widgets/controls",
            "_model_module_version": "1.5.0",
            "value": "100%",
            "_view_count": null,
            "_view_module_version": "1.5.0",
            "description_tooltip": null,
            "_model_module": "@jupyter-widgets/controls",
            "layout": "IPY_MODEL_0385bb80172a4c3eaebc98c380dc8a8b"
          }
        },
        "26cab8cbd0ae4deb8b75ac2896c8bdba": {
          "model_module": "@jupyter-widgets/controls",
          "model_name": "FloatProgressModel",
          "state": {
            "_view_name": "ProgressView",
            "style": "IPY_MODEL_36e39c94140e48d9a50e430906514872",
            "_dom_classes": [],
            "description": "",
            "_model_name": "FloatProgressModel",
            "bar_style": "success",
            "max": 200,
            "_view_module": "@jupyter-widgets/controls",
            "_model_module_version": "1.5.0",
            "value": 200,
            "_view_count": null,
            "_view_module_version": "1.5.0",
            "orientation": "horizontal",
            "min": 0,
            "description_tooltip": null,
            "_model_module": "@jupyter-widgets/controls",
            "layout": "IPY_MODEL_ca79f793eecb45daa84b5ca24d9f2d19"
          }
        },
        "4b0cf61b76964fb4bb2578c0613d1231": {
          "model_module": "@jupyter-widgets/controls",
          "model_name": "HTMLModel",
          "state": {
            "_view_name": "HTMLView",
            "style": "IPY_MODEL_ef143a60320b466e818f4e6f67ee2d71",
            "_dom_classes": [],
            "description": "",
            "_model_name": "HTMLModel",
            "placeholder": "​",
            "_view_module": "@jupyter-widgets/controls",
            "_model_module_version": "1.5.0",
            "value": " 200/200 [01:46&lt;00:00,  1.04s/it]",
            "_view_count": null,
            "_view_module_version": "1.5.0",
            "description_tooltip": null,
            "_model_module": "@jupyter-widgets/controls",
            "layout": "IPY_MODEL_a893a0a99ced46bf85749140870f0777"
          }
        },
        "66869ec61db548c6acf91cda42007a95": {
          "model_module": "@jupyter-widgets/controls",
          "model_name": "DescriptionStyleModel",
          "state": {
            "_view_name": "StyleView",
            "_model_name": "DescriptionStyleModel",
            "description_width": "",
            "_view_module": "@jupyter-widgets/base",
            "_model_module_version": "1.5.0",
            "_view_count": null,
            "_view_module_version": "1.2.0",
            "_model_module": "@jupyter-widgets/controls"
          }
        },
        "0385bb80172a4c3eaebc98c380dc8a8b": {
          "model_module": "@jupyter-widgets/base",
          "model_name": "LayoutModel",
          "state": {
            "_view_name": "LayoutView",
            "grid_template_rows": null,
            "right": null,
            "justify_content": null,
            "_view_module": "@jupyter-widgets/base",
            "overflow": null,
            "_model_module_version": "1.2.0",
            "_view_count": null,
            "flex_flow": null,
            "width": null,
            "min_width": null,
            "border": null,
            "align_items": null,
            "bottom": null,
            "_model_module": "@jupyter-widgets/base",
            "top": null,
            "grid_column": null,
            "overflow_y": null,
            "overflow_x": null,
            "grid_auto_flow": null,
            "grid_area": null,
            "grid_template_columns": null,
            "flex": null,
            "_model_name": "LayoutModel",
            "justify_items": null,
            "grid_row": null,
            "max_height": null,
            "align_content": null,
            "visibility": null,
            "align_self": null,
            "height": null,
            "min_height": null,
            "padding": null,
            "grid_auto_rows": null,
            "grid_gap": null,
            "max_width": null,
            "order": null,
            "_view_module_version": "1.2.0",
            "grid_template_areas": null,
            "object_position": null,
            "object_fit": null,
            "grid_auto_columns": null,
            "margin": null,
            "display": null,
            "left": null
          }
        },
        "36e39c94140e48d9a50e430906514872": {
          "model_module": "@jupyter-widgets/controls",
          "model_name": "ProgressStyleModel",
          "state": {
            "_view_name": "StyleView",
            "_model_name": "ProgressStyleModel",
            "description_width": "",
            "_view_module": "@jupyter-widgets/base",
            "_model_module_version": "1.5.0",
            "_view_count": null,
            "_view_module_version": "1.2.0",
            "bar_color": null,
            "_model_module": "@jupyter-widgets/controls"
          }
        },
        "ca79f793eecb45daa84b5ca24d9f2d19": {
          "model_module": "@jupyter-widgets/base",
          "model_name": "LayoutModel",
          "state": {
            "_view_name": "LayoutView",
            "grid_template_rows": null,
            "right": null,
            "justify_content": null,
            "_view_module": "@jupyter-widgets/base",
            "overflow": null,
            "_model_module_version": "1.2.0",
            "_view_count": null,
            "flex_flow": null,
            "width": null,
            "min_width": null,
            "border": null,
            "align_items": null,
            "bottom": null,
            "_model_module": "@jupyter-widgets/base",
            "top": null,
            "grid_column": null,
            "overflow_y": null,
            "overflow_x": null,
            "grid_auto_flow": null,
            "grid_area": null,
            "grid_template_columns": null,
            "flex": null,
            "_model_name": "LayoutModel",
            "justify_items": null,
            "grid_row": null,
            "max_height": null,
            "align_content": null,
            "visibility": null,
            "align_self": null,
            "height": null,
            "min_height": null,
            "padding": null,
            "grid_auto_rows": null,
            "grid_gap": null,
            "max_width": null,
            "order": null,
            "_view_module_version": "1.2.0",
            "grid_template_areas": null,
            "object_position": null,
            "object_fit": null,
            "grid_auto_columns": null,
            "margin": null,
            "display": null,
            "left": null
          }
        },
        "ef143a60320b466e818f4e6f67ee2d71": {
          "model_module": "@jupyter-widgets/controls",
          "model_name": "DescriptionStyleModel",
          "state": {
            "_view_name": "StyleView",
            "_model_name": "DescriptionStyleModel",
            "description_width": "",
            "_view_module": "@jupyter-widgets/base",
            "_model_module_version": "1.5.0",
            "_view_count": null,
            "_view_module_version": "1.2.0",
            "_model_module": "@jupyter-widgets/controls"
          }
        },
        "a893a0a99ced46bf85749140870f0777": {
          "model_module": "@jupyter-widgets/base",
          "model_name": "LayoutModel",
          "state": {
            "_view_name": "LayoutView",
            "grid_template_rows": null,
            "right": null,
            "justify_content": null,
            "_view_module": "@jupyter-widgets/base",
            "overflow": null,
            "_model_module_version": "1.2.0",
            "_view_count": null,
            "flex_flow": null,
            "width": null,
            "min_width": null,
            "border": null,
            "align_items": null,
            "bottom": null,
            "_model_module": "@jupyter-widgets/base",
            "top": null,
            "grid_column": null,
            "overflow_y": null,
            "overflow_x": null,
            "grid_auto_flow": null,
            "grid_area": null,
            "grid_template_columns": null,
            "flex": null,
            "_model_name": "LayoutModel",
            "justify_items": null,
            "grid_row": null,
            "max_height": null,
            "align_content": null,
            "visibility": null,
            "align_self": null,
            "height": null,
            "min_height": null,
            "padding": null,
            "grid_auto_rows": null,
            "grid_gap": null,
            "max_width": null,
            "order": null,
            "_view_module_version": "1.2.0",
            "grid_template_areas": null,
            "object_position": null,
            "object_fit": null,
            "grid_auto_columns": null,
            "margin": null,
            "display": null,
            "left": null
          }
        },
        "26d1c333718445f3bf38ff14b398bba0": {
          "model_module": "@jupyter-widgets/controls",
          "model_name": "HBoxModel",
          "state": {
            "_view_name": "HBoxView",
            "_dom_classes": [],
            "_model_name": "HBoxModel",
            "_view_module": "@jupyter-widgets/controls",
            "_model_module_version": "1.5.0",
            "_view_count": null,
            "_view_module_version": "1.5.0",
            "box_style": "",
            "layout": "IPY_MODEL_aad99e6c70fd409a838dd4fea75a6ba7",
            "_model_module": "@jupyter-widgets/controls",
            "children": [
              "IPY_MODEL_e5197c6c7fe14c8c8d8892021bb42013",
              "IPY_MODEL_1c8caafa3d5844d497a97755389579eb",
              "IPY_MODEL_7a3c72070691492f89d2010f36bc7ca7"
            ]
          }
        },
        "aad99e6c70fd409a838dd4fea75a6ba7": {
          "model_module": "@jupyter-widgets/base",
          "model_name": "LayoutModel",
          "state": {
            "_view_name": "LayoutView",
            "grid_template_rows": null,
            "right": null,
            "justify_content": null,
            "_view_module": "@jupyter-widgets/base",
            "overflow": null,
            "_model_module_version": "1.2.0",
            "_view_count": null,
            "flex_flow": null,
            "width": null,
            "min_width": null,
            "border": null,
            "align_items": null,
            "bottom": null,
            "_model_module": "@jupyter-widgets/base",
            "top": null,
            "grid_column": null,
            "overflow_y": null,
            "overflow_x": null,
            "grid_auto_flow": null,
            "grid_area": null,
            "grid_template_columns": null,
            "flex": null,
            "_model_name": "LayoutModel",
            "justify_items": null,
            "grid_row": null,
            "max_height": null,
            "align_content": null,
            "visibility": null,
            "align_self": null,
            "height": null,
            "min_height": null,
            "padding": null,
            "grid_auto_rows": null,
            "grid_gap": null,
            "max_width": null,
            "order": null,
            "_view_module_version": "1.2.0",
            "grid_template_areas": null,
            "object_position": null,
            "object_fit": null,
            "grid_auto_columns": null,
            "margin": null,
            "display": null,
            "left": null
          }
        },
        "e5197c6c7fe14c8c8d8892021bb42013": {
          "model_module": "@jupyter-widgets/controls",
          "model_name": "HTMLModel",
          "state": {
            "_view_name": "HTMLView",
            "style": "IPY_MODEL_e845fc53214c4d96a03cc5f9957cc39d",
            "_dom_classes": [],
            "description": "",
            "_model_name": "HTMLModel",
            "placeholder": "​",
            "_view_module": "@jupyter-widgets/controls",
            "_model_module_version": "1.5.0",
            "value": "100%",
            "_view_count": null,
            "_view_module_version": "1.5.0",
            "description_tooltip": null,
            "_model_module": "@jupyter-widgets/controls",
            "layout": "IPY_MODEL_bf96a94035c84af6a5042fa148cb5a88"
          }
        },
        "1c8caafa3d5844d497a97755389579eb": {
          "model_module": "@jupyter-widgets/controls",
          "model_name": "FloatProgressModel",
          "state": {
            "_view_name": "ProgressView",
            "style": "IPY_MODEL_d4ed1d123c604cf6a9787bafe76c50eb",
            "_dom_classes": [],
            "description": "",
            "_model_name": "FloatProgressModel",
            "bar_style": "success",
            "max": 200,
            "_view_module": "@jupyter-widgets/controls",
            "_model_module_version": "1.5.0",
            "value": 200,
            "_view_count": null,
            "_view_module_version": "1.5.0",
            "orientation": "horizontal",
            "min": 0,
            "description_tooltip": null,
            "_model_module": "@jupyter-widgets/controls",
            "layout": "IPY_MODEL_e8f79569ac4c4e9794b46dffc6a38530"
          }
        },
        "7a3c72070691492f89d2010f36bc7ca7": {
          "model_module": "@jupyter-widgets/controls",
          "model_name": "HTMLModel",
          "state": {
            "_view_name": "HTMLView",
            "style": "IPY_MODEL_22fcd3d8a5b847109447c437f1fe2b3e",
            "_dom_classes": [],
            "description": "",
            "_model_name": "HTMLModel",
            "placeholder": "​",
            "_view_module": "@jupyter-widgets/controls",
            "_model_module_version": "1.5.0",
            "value": " 200/200 [01:37&lt;00:00,  1.11it/s]",
            "_view_count": null,
            "_view_module_version": "1.5.0",
            "description_tooltip": null,
            "_model_module": "@jupyter-widgets/controls",
            "layout": "IPY_MODEL_acad490edc864a408086c9ea98c506ea"
          }
        },
        "e845fc53214c4d96a03cc5f9957cc39d": {
          "model_module": "@jupyter-widgets/controls",
          "model_name": "DescriptionStyleModel",
          "state": {
            "_view_name": "StyleView",
            "_model_name": "DescriptionStyleModel",
            "description_width": "",
            "_view_module": "@jupyter-widgets/base",
            "_model_module_version": "1.5.0",
            "_view_count": null,
            "_view_module_version": "1.2.0",
            "_model_module": "@jupyter-widgets/controls"
          }
        },
        "bf96a94035c84af6a5042fa148cb5a88": {
          "model_module": "@jupyter-widgets/base",
          "model_name": "LayoutModel",
          "state": {
            "_view_name": "LayoutView",
            "grid_template_rows": null,
            "right": null,
            "justify_content": null,
            "_view_module": "@jupyter-widgets/base",
            "overflow": null,
            "_model_module_version": "1.2.0",
            "_view_count": null,
            "flex_flow": null,
            "width": null,
            "min_width": null,
            "border": null,
            "align_items": null,
            "bottom": null,
            "_model_module": "@jupyter-widgets/base",
            "top": null,
            "grid_column": null,
            "overflow_y": null,
            "overflow_x": null,
            "grid_auto_flow": null,
            "grid_area": null,
            "grid_template_columns": null,
            "flex": null,
            "_model_name": "LayoutModel",
            "justify_items": null,
            "grid_row": null,
            "max_height": null,
            "align_content": null,
            "visibility": null,
            "align_self": null,
            "height": null,
            "min_height": null,
            "padding": null,
            "grid_auto_rows": null,
            "grid_gap": null,
            "max_width": null,
            "order": null,
            "_view_module_version": "1.2.0",
            "grid_template_areas": null,
            "object_position": null,
            "object_fit": null,
            "grid_auto_columns": null,
            "margin": null,
            "display": null,
            "left": null
          }
        },
        "d4ed1d123c604cf6a9787bafe76c50eb": {
          "model_module": "@jupyter-widgets/controls",
          "model_name": "ProgressStyleModel",
          "state": {
            "_view_name": "StyleView",
            "_model_name": "ProgressStyleModel",
            "description_width": "",
            "_view_module": "@jupyter-widgets/base",
            "_model_module_version": "1.5.0",
            "_view_count": null,
            "_view_module_version": "1.2.0",
            "bar_color": null,
            "_model_module": "@jupyter-widgets/controls"
          }
        },
        "e8f79569ac4c4e9794b46dffc6a38530": {
          "model_module": "@jupyter-widgets/base",
          "model_name": "LayoutModel",
          "state": {
            "_view_name": "LayoutView",
            "grid_template_rows": null,
            "right": null,
            "justify_content": null,
            "_view_module": "@jupyter-widgets/base",
            "overflow": null,
            "_model_module_version": "1.2.0",
            "_view_count": null,
            "flex_flow": null,
            "width": null,
            "min_width": null,
            "border": null,
            "align_items": null,
            "bottom": null,
            "_model_module": "@jupyter-widgets/base",
            "top": null,
            "grid_column": null,
            "overflow_y": null,
            "overflow_x": null,
            "grid_auto_flow": null,
            "grid_area": null,
            "grid_template_columns": null,
            "flex": null,
            "_model_name": "LayoutModel",
            "justify_items": null,
            "grid_row": null,
            "max_height": null,
            "align_content": null,
            "visibility": null,
            "align_self": null,
            "height": null,
            "min_height": null,
            "padding": null,
            "grid_auto_rows": null,
            "grid_gap": null,
            "max_width": null,
            "order": null,
            "_view_module_version": "1.2.0",
            "grid_template_areas": null,
            "object_position": null,
            "object_fit": null,
            "grid_auto_columns": null,
            "margin": null,
            "display": null,
            "left": null
          }
        },
        "22fcd3d8a5b847109447c437f1fe2b3e": {
          "model_module": "@jupyter-widgets/controls",
          "model_name": "DescriptionStyleModel",
          "state": {
            "_view_name": "StyleView",
            "_model_name": "DescriptionStyleModel",
            "description_width": "",
            "_view_module": "@jupyter-widgets/base",
            "_model_module_version": "1.5.0",
            "_view_count": null,
            "_view_module_version": "1.2.0",
            "_model_module": "@jupyter-widgets/controls"
          }
        },
        "acad490edc864a408086c9ea98c506ea": {
          "model_module": "@jupyter-widgets/base",
          "model_name": "LayoutModel",
          "state": {
            "_view_name": "LayoutView",
            "grid_template_rows": null,
            "right": null,
            "justify_content": null,
            "_view_module": "@jupyter-widgets/base",
            "overflow": null,
            "_model_module_version": "1.2.0",
            "_view_count": null,
            "flex_flow": null,
            "width": null,
            "min_width": null,
            "border": null,
            "align_items": null,
            "bottom": null,
            "_model_module": "@jupyter-widgets/base",
            "top": null,
            "grid_column": null,
            "overflow_y": null,
            "overflow_x": null,
            "grid_auto_flow": null,
            "grid_area": null,
            "grid_template_columns": null,
            "flex": null,
            "_model_name": "LayoutModel",
            "justify_items": null,
            "grid_row": null,
            "max_height": null,
            "align_content": null,
            "visibility": null,
            "align_self": null,
            "height": null,
            "min_height": null,
            "padding": null,
            "grid_auto_rows": null,
            "grid_gap": null,
            "max_width": null,
            "order": null,
            "_view_module_version": "1.2.0",
            "grid_template_areas": null,
            "object_position": null,
            "object_fit": null,
            "grid_auto_columns": null,
            "margin": null,
            "display": null,
            "left": null
          }
        },
        "5e7e4db6652446f68a2c400e99557ee3": {
          "model_module": "@jupyter-widgets/controls",
          "model_name": "HBoxModel",
          "state": {
            "_view_name": "HBoxView",
            "_dom_classes": [],
            "_model_name": "HBoxModel",
            "_view_module": "@jupyter-widgets/controls",
            "_model_module_version": "1.5.0",
            "_view_count": null,
            "_view_module_version": "1.5.0",
            "box_style": "",
            "layout": "IPY_MODEL_9236b4c24e0549f0bf117b56e9e654da",
            "_model_module": "@jupyter-widgets/controls",
            "children": [
              "IPY_MODEL_0269c3217e704be8b7c32d808a452611",
              "IPY_MODEL_d10b493976304261998402ee0f42d6a8",
              "IPY_MODEL_c3259245dafa4305b66d855509224b36"
            ]
          }
        },
        "9236b4c24e0549f0bf117b56e9e654da": {
          "model_module": "@jupyter-widgets/base",
          "model_name": "LayoutModel",
          "state": {
            "_view_name": "LayoutView",
            "grid_template_rows": null,
            "right": null,
            "justify_content": null,
            "_view_module": "@jupyter-widgets/base",
            "overflow": null,
            "_model_module_version": "1.2.0",
            "_view_count": null,
            "flex_flow": null,
            "width": null,
            "min_width": null,
            "border": null,
            "align_items": null,
            "bottom": null,
            "_model_module": "@jupyter-widgets/base",
            "top": null,
            "grid_column": null,
            "overflow_y": null,
            "overflow_x": null,
            "grid_auto_flow": null,
            "grid_area": null,
            "grid_template_columns": null,
            "flex": null,
            "_model_name": "LayoutModel",
            "justify_items": null,
            "grid_row": null,
            "max_height": null,
            "align_content": null,
            "visibility": null,
            "align_self": null,
            "height": null,
            "min_height": null,
            "padding": null,
            "grid_auto_rows": null,
            "grid_gap": null,
            "max_width": null,
            "order": null,
            "_view_module_version": "1.2.0",
            "grid_template_areas": null,
            "object_position": null,
            "object_fit": null,
            "grid_auto_columns": null,
            "margin": null,
            "display": null,
            "left": null
          }
        },
        "0269c3217e704be8b7c32d808a452611": {
          "model_module": "@jupyter-widgets/controls",
          "model_name": "HTMLModel",
          "state": {
            "_view_name": "HTMLView",
            "style": "IPY_MODEL_8dc482b3cfb142d682b35b43e1d40911",
            "_dom_classes": [],
            "description": "",
            "_model_name": "HTMLModel",
            "placeholder": "​",
            "_view_module": "@jupyter-widgets/controls",
            "_model_module_version": "1.5.0",
            "value": "100%",
            "_view_count": null,
            "_view_module_version": "1.5.0",
            "description_tooltip": null,
            "_model_module": "@jupyter-widgets/controls",
            "layout": "IPY_MODEL_0a401a41eeb842e6b41ac224c84bedc1"
          }
        },
        "d10b493976304261998402ee0f42d6a8": {
          "model_module": "@jupyter-widgets/controls",
          "model_name": "FloatProgressModel",
          "state": {
            "_view_name": "ProgressView",
            "style": "IPY_MODEL_5fdea2930cdc4b4d8a90a9b3bbaa093e",
            "_dom_classes": [],
            "description": "",
            "_model_name": "FloatProgressModel",
            "bar_style": "success",
            "max": 200,
            "_view_module": "@jupyter-widgets/controls",
            "_model_module_version": "1.5.0",
            "value": 200,
            "_view_count": null,
            "_view_module_version": "1.5.0",
            "orientation": "horizontal",
            "min": 0,
            "description_tooltip": null,
            "_model_module": "@jupyter-widgets/controls",
            "layout": "IPY_MODEL_6222e1c7d7544b5ebc5334f0448169d6"
          }
        },
        "c3259245dafa4305b66d855509224b36": {
          "model_module": "@jupyter-widgets/controls",
          "model_name": "HTMLModel",
          "state": {
            "_view_name": "HTMLView",
            "style": "IPY_MODEL_5528dbdb5df342af817f7eaee6b25238",
            "_dom_classes": [],
            "description": "",
            "_model_name": "HTMLModel",
            "placeholder": "​",
            "_view_module": "@jupyter-widgets/controls",
            "_model_module_version": "1.5.0",
            "value": " 200/200 [01:38&lt;00:00,  1.09it/s]",
            "_view_count": null,
            "_view_module_version": "1.5.0",
            "description_tooltip": null,
            "_model_module": "@jupyter-widgets/controls",
            "layout": "IPY_MODEL_4331b219260c4bb59457f5d780be7573"
          }
        },
        "8dc482b3cfb142d682b35b43e1d40911": {
          "model_module": "@jupyter-widgets/controls",
          "model_name": "DescriptionStyleModel",
          "state": {
            "_view_name": "StyleView",
            "_model_name": "DescriptionStyleModel",
            "description_width": "",
            "_view_module": "@jupyter-widgets/base",
            "_model_module_version": "1.5.0",
            "_view_count": null,
            "_view_module_version": "1.2.0",
            "_model_module": "@jupyter-widgets/controls"
          }
        },
        "0a401a41eeb842e6b41ac224c84bedc1": {
          "model_module": "@jupyter-widgets/base",
          "model_name": "LayoutModel",
          "state": {
            "_view_name": "LayoutView",
            "grid_template_rows": null,
            "right": null,
            "justify_content": null,
            "_view_module": "@jupyter-widgets/base",
            "overflow": null,
            "_model_module_version": "1.2.0",
            "_view_count": null,
            "flex_flow": null,
            "width": null,
            "min_width": null,
            "border": null,
            "align_items": null,
            "bottom": null,
            "_model_module": "@jupyter-widgets/base",
            "top": null,
            "grid_column": null,
            "overflow_y": null,
            "overflow_x": null,
            "grid_auto_flow": null,
            "grid_area": null,
            "grid_template_columns": null,
            "flex": null,
            "_model_name": "LayoutModel",
            "justify_items": null,
            "grid_row": null,
            "max_height": null,
            "align_content": null,
            "visibility": null,
            "align_self": null,
            "height": null,
            "min_height": null,
            "padding": null,
            "grid_auto_rows": null,
            "grid_gap": null,
            "max_width": null,
            "order": null,
            "_view_module_version": "1.2.0",
            "grid_template_areas": null,
            "object_position": null,
            "object_fit": null,
            "grid_auto_columns": null,
            "margin": null,
            "display": null,
            "left": null
          }
        },
        "5fdea2930cdc4b4d8a90a9b3bbaa093e": {
          "model_module": "@jupyter-widgets/controls",
          "model_name": "ProgressStyleModel",
          "state": {
            "_view_name": "StyleView",
            "_model_name": "ProgressStyleModel",
            "description_width": "",
            "_view_module": "@jupyter-widgets/base",
            "_model_module_version": "1.5.0",
            "_view_count": null,
            "_view_module_version": "1.2.0",
            "bar_color": null,
            "_model_module": "@jupyter-widgets/controls"
          }
        },
        "6222e1c7d7544b5ebc5334f0448169d6": {
          "model_module": "@jupyter-widgets/base",
          "model_name": "LayoutModel",
          "state": {
            "_view_name": "LayoutView",
            "grid_template_rows": null,
            "right": null,
            "justify_content": null,
            "_view_module": "@jupyter-widgets/base",
            "overflow": null,
            "_model_module_version": "1.2.0",
            "_view_count": null,
            "flex_flow": null,
            "width": null,
            "min_width": null,
            "border": null,
            "align_items": null,
            "bottom": null,
            "_model_module": "@jupyter-widgets/base",
            "top": null,
            "grid_column": null,
            "overflow_y": null,
            "overflow_x": null,
            "grid_auto_flow": null,
            "grid_area": null,
            "grid_template_columns": null,
            "flex": null,
            "_model_name": "LayoutModel",
            "justify_items": null,
            "grid_row": null,
            "max_height": null,
            "align_content": null,
            "visibility": null,
            "align_self": null,
            "height": null,
            "min_height": null,
            "padding": null,
            "grid_auto_rows": null,
            "grid_gap": null,
            "max_width": null,
            "order": null,
            "_view_module_version": "1.2.0",
            "grid_template_areas": null,
            "object_position": null,
            "object_fit": null,
            "grid_auto_columns": null,
            "margin": null,
            "display": null,
            "left": null
          }
        },
        "5528dbdb5df342af817f7eaee6b25238": {
          "model_module": "@jupyter-widgets/controls",
          "model_name": "DescriptionStyleModel",
          "state": {
            "_view_name": "StyleView",
            "_model_name": "DescriptionStyleModel",
            "description_width": "",
            "_view_module": "@jupyter-widgets/base",
            "_model_module_version": "1.5.0",
            "_view_count": null,
            "_view_module_version": "1.2.0",
            "_model_module": "@jupyter-widgets/controls"
          }
        },
        "4331b219260c4bb59457f5d780be7573": {
          "model_module": "@jupyter-widgets/base",
          "model_name": "LayoutModel",
          "state": {
            "_view_name": "LayoutView",
            "grid_template_rows": null,
            "right": null,
            "justify_content": null,
            "_view_module": "@jupyter-widgets/base",
            "overflow": null,
            "_model_module_version": "1.2.0",
            "_view_count": null,
            "flex_flow": null,
            "width": null,
            "min_width": null,
            "border": null,
            "align_items": null,
            "bottom": null,
            "_model_module": "@jupyter-widgets/base",
            "top": null,
            "grid_column": null,
            "overflow_y": null,
            "overflow_x": null,
            "grid_auto_flow": null,
            "grid_area": null,
            "grid_template_columns": null,
            "flex": null,
            "_model_name": "LayoutModel",
            "justify_items": null,
            "grid_row": null,
            "max_height": null,
            "align_content": null,
            "visibility": null,
            "align_self": null,
            "height": null,
            "min_height": null,
            "padding": null,
            "grid_auto_rows": null,
            "grid_gap": null,
            "max_width": null,
            "order": null,
            "_view_module_version": "1.2.0",
            "grid_template_areas": null,
            "object_position": null,
            "object_fit": null,
            "grid_auto_columns": null,
            "margin": null,
            "display": null,
            "left": null
          }
        },
        "d96e0f51551242be947367739d6b13ea": {
          "model_module": "@jupyter-widgets/controls",
          "model_name": "HBoxModel",
          "state": {
            "_view_name": "HBoxView",
            "_dom_classes": [],
            "_model_name": "HBoxModel",
            "_view_module": "@jupyter-widgets/controls",
            "_model_module_version": "1.5.0",
            "_view_count": null,
            "_view_module_version": "1.5.0",
            "box_style": "",
            "layout": "IPY_MODEL_e54e255676c44427ab064f3a11fba843",
            "_model_module": "@jupyter-widgets/controls",
            "children": [
              "IPY_MODEL_f07c4fd5efcd44b7af21527fbb45fe86",
              "IPY_MODEL_be8d1a4ae57f4ddd86b0f510c8d539b3",
              "IPY_MODEL_3f81243590ed49d3bebedd15a7a475ef"
            ]
          }
        },
        "e54e255676c44427ab064f3a11fba843": {
          "model_module": "@jupyter-widgets/base",
          "model_name": "LayoutModel",
          "state": {
            "_view_name": "LayoutView",
            "grid_template_rows": null,
            "right": null,
            "justify_content": null,
            "_view_module": "@jupyter-widgets/base",
            "overflow": null,
            "_model_module_version": "1.2.0",
            "_view_count": null,
            "flex_flow": null,
            "width": null,
            "min_width": null,
            "border": null,
            "align_items": null,
            "bottom": null,
            "_model_module": "@jupyter-widgets/base",
            "top": null,
            "grid_column": null,
            "overflow_y": null,
            "overflow_x": null,
            "grid_auto_flow": null,
            "grid_area": null,
            "grid_template_columns": null,
            "flex": null,
            "_model_name": "LayoutModel",
            "justify_items": null,
            "grid_row": null,
            "max_height": null,
            "align_content": null,
            "visibility": null,
            "align_self": null,
            "height": null,
            "min_height": null,
            "padding": null,
            "grid_auto_rows": null,
            "grid_gap": null,
            "max_width": null,
            "order": null,
            "_view_module_version": "1.2.0",
            "grid_template_areas": null,
            "object_position": null,
            "object_fit": null,
            "grid_auto_columns": null,
            "margin": null,
            "display": null,
            "left": null
          }
        },
        "f07c4fd5efcd44b7af21527fbb45fe86": {
          "model_module": "@jupyter-widgets/controls",
          "model_name": "HTMLModel",
          "state": {
            "_view_name": "HTMLView",
            "style": "IPY_MODEL_0bafc11a705e429bb1aaa12b487860ce",
            "_dom_classes": [],
            "description": "",
            "_model_name": "HTMLModel",
            "placeholder": "​",
            "_view_module": "@jupyter-widgets/controls",
            "_model_module_version": "1.5.0",
            "value": "100%",
            "_view_count": null,
            "_view_module_version": "1.5.0",
            "description_tooltip": null,
            "_model_module": "@jupyter-widgets/controls",
            "layout": "IPY_MODEL_d9b05a3428924149bb3e95491c833827"
          }
        },
        "be8d1a4ae57f4ddd86b0f510c8d539b3": {
          "model_module": "@jupyter-widgets/controls",
          "model_name": "FloatProgressModel",
          "state": {
            "_view_name": "ProgressView",
            "style": "IPY_MODEL_c473ae9474c34df89628cf676bc8a5e2",
            "_dom_classes": [],
            "description": "",
            "_model_name": "FloatProgressModel",
            "bar_style": "success",
            "max": 200,
            "_view_module": "@jupyter-widgets/controls",
            "_model_module_version": "1.5.0",
            "value": 200,
            "_view_count": null,
            "_view_module_version": "1.5.0",
            "orientation": "horizontal",
            "min": 0,
            "description_tooltip": null,
            "_model_module": "@jupyter-widgets/controls",
            "layout": "IPY_MODEL_b4661e7eb16f42c99f31b81d8175a0cc"
          }
        },
        "3f81243590ed49d3bebedd15a7a475ef": {
          "model_module": "@jupyter-widgets/controls",
          "model_name": "HTMLModel",
          "state": {
            "_view_name": "HTMLView",
            "style": "IPY_MODEL_f5ef985c85a845cea388c5c8b2f37122",
            "_dom_classes": [],
            "description": "",
            "_model_name": "HTMLModel",
            "placeholder": "​",
            "_view_module": "@jupyter-widgets/controls",
            "_model_module_version": "1.5.0",
            "value": " 200/200 [01:36&lt;00:00,  1.11it/s]",
            "_view_count": null,
            "_view_module_version": "1.5.0",
            "description_tooltip": null,
            "_model_module": "@jupyter-widgets/controls",
            "layout": "IPY_MODEL_18cfd2fd0d2448778a13193cd5a6cccb"
          }
        },
        "0bafc11a705e429bb1aaa12b487860ce": {
          "model_module": "@jupyter-widgets/controls",
          "model_name": "DescriptionStyleModel",
          "state": {
            "_view_name": "StyleView",
            "_model_name": "DescriptionStyleModel",
            "description_width": "",
            "_view_module": "@jupyter-widgets/base",
            "_model_module_version": "1.5.0",
            "_view_count": null,
            "_view_module_version": "1.2.0",
            "_model_module": "@jupyter-widgets/controls"
          }
        },
        "d9b05a3428924149bb3e95491c833827": {
          "model_module": "@jupyter-widgets/base",
          "model_name": "LayoutModel",
          "state": {
            "_view_name": "LayoutView",
            "grid_template_rows": null,
            "right": null,
            "justify_content": null,
            "_view_module": "@jupyter-widgets/base",
            "overflow": null,
            "_model_module_version": "1.2.0",
            "_view_count": null,
            "flex_flow": null,
            "width": null,
            "min_width": null,
            "border": null,
            "align_items": null,
            "bottom": null,
            "_model_module": "@jupyter-widgets/base",
            "top": null,
            "grid_column": null,
            "overflow_y": null,
            "overflow_x": null,
            "grid_auto_flow": null,
            "grid_area": null,
            "grid_template_columns": null,
            "flex": null,
            "_model_name": "LayoutModel",
            "justify_items": null,
            "grid_row": null,
            "max_height": null,
            "align_content": null,
            "visibility": null,
            "align_self": null,
            "height": null,
            "min_height": null,
            "padding": null,
            "grid_auto_rows": null,
            "grid_gap": null,
            "max_width": null,
            "order": null,
            "_view_module_version": "1.2.0",
            "grid_template_areas": null,
            "object_position": null,
            "object_fit": null,
            "grid_auto_columns": null,
            "margin": null,
            "display": null,
            "left": null
          }
        },
        "c473ae9474c34df89628cf676bc8a5e2": {
          "model_module": "@jupyter-widgets/controls",
          "model_name": "ProgressStyleModel",
          "state": {
            "_view_name": "StyleView",
            "_model_name": "ProgressStyleModel",
            "description_width": "",
            "_view_module": "@jupyter-widgets/base",
            "_model_module_version": "1.5.0",
            "_view_count": null,
            "_view_module_version": "1.2.0",
            "bar_color": null,
            "_model_module": "@jupyter-widgets/controls"
          }
        },
        "b4661e7eb16f42c99f31b81d8175a0cc": {
          "model_module": "@jupyter-widgets/base",
          "model_name": "LayoutModel",
          "state": {
            "_view_name": "LayoutView",
            "grid_template_rows": null,
            "right": null,
            "justify_content": null,
            "_view_module": "@jupyter-widgets/base",
            "overflow": null,
            "_model_module_version": "1.2.0",
            "_view_count": null,
            "flex_flow": null,
            "width": null,
            "min_width": null,
            "border": null,
            "align_items": null,
            "bottom": null,
            "_model_module": "@jupyter-widgets/base",
            "top": null,
            "grid_column": null,
            "overflow_y": null,
            "overflow_x": null,
            "grid_auto_flow": null,
            "grid_area": null,
            "grid_template_columns": null,
            "flex": null,
            "_model_name": "LayoutModel",
            "justify_items": null,
            "grid_row": null,
            "max_height": null,
            "align_content": null,
            "visibility": null,
            "align_self": null,
            "height": null,
            "min_height": null,
            "padding": null,
            "grid_auto_rows": null,
            "grid_gap": null,
            "max_width": null,
            "order": null,
            "_view_module_version": "1.2.0",
            "grid_template_areas": null,
            "object_position": null,
            "object_fit": null,
            "grid_auto_columns": null,
            "margin": null,
            "display": null,
            "left": null
          }
        },
        "f5ef985c85a845cea388c5c8b2f37122": {
          "model_module": "@jupyter-widgets/controls",
          "model_name": "DescriptionStyleModel",
          "state": {
            "_view_name": "StyleView",
            "_model_name": "DescriptionStyleModel",
            "description_width": "",
            "_view_module": "@jupyter-widgets/base",
            "_model_module_version": "1.5.0",
            "_view_count": null,
            "_view_module_version": "1.2.0",
            "_model_module": "@jupyter-widgets/controls"
          }
        },
        "18cfd2fd0d2448778a13193cd5a6cccb": {
          "model_module": "@jupyter-widgets/base",
          "model_name": "LayoutModel",
          "state": {
            "_view_name": "LayoutView",
            "grid_template_rows": null,
            "right": null,
            "justify_content": null,
            "_view_module": "@jupyter-widgets/base",
            "overflow": null,
            "_model_module_version": "1.2.0",
            "_view_count": null,
            "flex_flow": null,
            "width": null,
            "min_width": null,
            "border": null,
            "align_items": null,
            "bottom": null,
            "_model_module": "@jupyter-widgets/base",
            "top": null,
            "grid_column": null,
            "overflow_y": null,
            "overflow_x": null,
            "grid_auto_flow": null,
            "grid_area": null,
            "grid_template_columns": null,
            "flex": null,
            "_model_name": "LayoutModel",
            "justify_items": null,
            "grid_row": null,
            "max_height": null,
            "align_content": null,
            "visibility": null,
            "align_self": null,
            "height": null,
            "min_height": null,
            "padding": null,
            "grid_auto_rows": null,
            "grid_gap": null,
            "max_width": null,
            "order": null,
            "_view_module_version": "1.2.0",
            "grid_template_areas": null,
            "object_position": null,
            "object_fit": null,
            "grid_auto_columns": null,
            "margin": null,
            "display": null,
            "left": null
          }
        },
        "672ee2b1461641fa84b6f12d140eaf74": {
          "model_module": "@jupyter-widgets/controls",
          "model_name": "HBoxModel",
          "state": {
            "_view_name": "HBoxView",
            "_dom_classes": [],
            "_model_name": "HBoxModel",
            "_view_module": "@jupyter-widgets/controls",
            "_model_module_version": "1.5.0",
            "_view_count": null,
            "_view_module_version": "1.5.0",
            "box_style": "",
            "layout": "IPY_MODEL_69ac921a41a244d99dd15476b2f83fa3",
            "_model_module": "@jupyter-widgets/controls",
            "children": [
              "IPY_MODEL_03f3909cc00a4bc58935e8f79bbea3b2",
              "IPY_MODEL_7f8a088a53c74507afa070d7f154acd3",
              "IPY_MODEL_debdf254d88d477ea57d170787e01073"
            ]
          }
        },
        "69ac921a41a244d99dd15476b2f83fa3": {
          "model_module": "@jupyter-widgets/base",
          "model_name": "LayoutModel",
          "state": {
            "_view_name": "LayoutView",
            "grid_template_rows": null,
            "right": null,
            "justify_content": null,
            "_view_module": "@jupyter-widgets/base",
            "overflow": null,
            "_model_module_version": "1.2.0",
            "_view_count": null,
            "flex_flow": null,
            "width": null,
            "min_width": null,
            "border": null,
            "align_items": null,
            "bottom": null,
            "_model_module": "@jupyter-widgets/base",
            "top": null,
            "grid_column": null,
            "overflow_y": null,
            "overflow_x": null,
            "grid_auto_flow": null,
            "grid_area": null,
            "grid_template_columns": null,
            "flex": null,
            "_model_name": "LayoutModel",
            "justify_items": null,
            "grid_row": null,
            "max_height": null,
            "align_content": null,
            "visibility": null,
            "align_self": null,
            "height": null,
            "min_height": null,
            "padding": null,
            "grid_auto_rows": null,
            "grid_gap": null,
            "max_width": null,
            "order": null,
            "_view_module_version": "1.2.0",
            "grid_template_areas": null,
            "object_position": null,
            "object_fit": null,
            "grid_auto_columns": null,
            "margin": null,
            "display": null,
            "left": null
          }
        },
        "03f3909cc00a4bc58935e8f79bbea3b2": {
          "model_module": "@jupyter-widgets/controls",
          "model_name": "HTMLModel",
          "state": {
            "_view_name": "HTMLView",
            "style": "IPY_MODEL_ca291ad87c8b49fca770ccd1a2c7f530",
            "_dom_classes": [],
            "description": "",
            "_model_name": "HTMLModel",
            "placeholder": "​",
            "_view_module": "@jupyter-widgets/controls",
            "_model_module_version": "1.5.0",
            "value": "100%",
            "_view_count": null,
            "_view_module_version": "1.5.0",
            "description_tooltip": null,
            "_model_module": "@jupyter-widgets/controls",
            "layout": "IPY_MODEL_fbcd9941ced349de95ccc4ccbfe947d6"
          }
        },
        "7f8a088a53c74507afa070d7f154acd3": {
          "model_module": "@jupyter-widgets/controls",
          "model_name": "FloatProgressModel",
          "state": {
            "_view_name": "ProgressView",
            "style": "IPY_MODEL_5cc702cddb7048df8cb5633a6365e402",
            "_dom_classes": [],
            "description": "",
            "_model_name": "FloatProgressModel",
            "bar_style": "success",
            "max": 200,
            "_view_module": "@jupyter-widgets/controls",
            "_model_module_version": "1.5.0",
            "value": 200,
            "_view_count": null,
            "_view_module_version": "1.5.0",
            "orientation": "horizontal",
            "min": 0,
            "description_tooltip": null,
            "_model_module": "@jupyter-widgets/controls",
            "layout": "IPY_MODEL_5a9019cfe0bc424aa1cbf5e735ccfb52"
          }
        },
        "debdf254d88d477ea57d170787e01073": {
          "model_module": "@jupyter-widgets/controls",
          "model_name": "HTMLModel",
          "state": {
            "_view_name": "HTMLView",
            "style": "IPY_MODEL_2c37dad9d2ae42a6a8837c27aa082cad",
            "_dom_classes": [],
            "description": "",
            "_model_name": "HTMLModel",
            "placeholder": "​",
            "_view_module": "@jupyter-widgets/controls",
            "_model_module_version": "1.5.0",
            "value": " 200/200 [01:35&lt;00:00,  1.10it/s]",
            "_view_count": null,
            "_view_module_version": "1.5.0",
            "description_tooltip": null,
            "_model_module": "@jupyter-widgets/controls",
            "layout": "IPY_MODEL_6bfe0ae3e4b544f8896b2ed97c8ea0fd"
          }
        },
        "ca291ad87c8b49fca770ccd1a2c7f530": {
          "model_module": "@jupyter-widgets/controls",
          "model_name": "DescriptionStyleModel",
          "state": {
            "_view_name": "StyleView",
            "_model_name": "DescriptionStyleModel",
            "description_width": "",
            "_view_module": "@jupyter-widgets/base",
            "_model_module_version": "1.5.0",
            "_view_count": null,
            "_view_module_version": "1.2.0",
            "_model_module": "@jupyter-widgets/controls"
          }
        },
        "fbcd9941ced349de95ccc4ccbfe947d6": {
          "model_module": "@jupyter-widgets/base",
          "model_name": "LayoutModel",
          "state": {
            "_view_name": "LayoutView",
            "grid_template_rows": null,
            "right": null,
            "justify_content": null,
            "_view_module": "@jupyter-widgets/base",
            "overflow": null,
            "_model_module_version": "1.2.0",
            "_view_count": null,
            "flex_flow": null,
            "width": null,
            "min_width": null,
            "border": null,
            "align_items": null,
            "bottom": null,
            "_model_module": "@jupyter-widgets/base",
            "top": null,
            "grid_column": null,
            "overflow_y": null,
            "overflow_x": null,
            "grid_auto_flow": null,
            "grid_area": null,
            "grid_template_columns": null,
            "flex": null,
            "_model_name": "LayoutModel",
            "justify_items": null,
            "grid_row": null,
            "max_height": null,
            "align_content": null,
            "visibility": null,
            "align_self": null,
            "height": null,
            "min_height": null,
            "padding": null,
            "grid_auto_rows": null,
            "grid_gap": null,
            "max_width": null,
            "order": null,
            "_view_module_version": "1.2.0",
            "grid_template_areas": null,
            "object_position": null,
            "object_fit": null,
            "grid_auto_columns": null,
            "margin": null,
            "display": null,
            "left": null
          }
        },
        "5cc702cddb7048df8cb5633a6365e402": {
          "model_module": "@jupyter-widgets/controls",
          "model_name": "ProgressStyleModel",
          "state": {
            "_view_name": "StyleView",
            "_model_name": "ProgressStyleModel",
            "description_width": "",
            "_view_module": "@jupyter-widgets/base",
            "_model_module_version": "1.5.0",
            "_view_count": null,
            "_view_module_version": "1.2.0",
            "bar_color": null,
            "_model_module": "@jupyter-widgets/controls"
          }
        },
        "5a9019cfe0bc424aa1cbf5e735ccfb52": {
          "model_module": "@jupyter-widgets/base",
          "model_name": "LayoutModel",
          "state": {
            "_view_name": "LayoutView",
            "grid_template_rows": null,
            "right": null,
            "justify_content": null,
            "_view_module": "@jupyter-widgets/base",
            "overflow": null,
            "_model_module_version": "1.2.0",
            "_view_count": null,
            "flex_flow": null,
            "width": null,
            "min_width": null,
            "border": null,
            "align_items": null,
            "bottom": null,
            "_model_module": "@jupyter-widgets/base",
            "top": null,
            "grid_column": null,
            "overflow_y": null,
            "overflow_x": null,
            "grid_auto_flow": null,
            "grid_area": null,
            "grid_template_columns": null,
            "flex": null,
            "_model_name": "LayoutModel",
            "justify_items": null,
            "grid_row": null,
            "max_height": null,
            "align_content": null,
            "visibility": null,
            "align_self": null,
            "height": null,
            "min_height": null,
            "padding": null,
            "grid_auto_rows": null,
            "grid_gap": null,
            "max_width": null,
            "order": null,
            "_view_module_version": "1.2.0",
            "grid_template_areas": null,
            "object_position": null,
            "object_fit": null,
            "grid_auto_columns": null,
            "margin": null,
            "display": null,
            "left": null
          }
        },
        "2c37dad9d2ae42a6a8837c27aa082cad": {
          "model_module": "@jupyter-widgets/controls",
          "model_name": "DescriptionStyleModel",
          "state": {
            "_view_name": "StyleView",
            "_model_name": "DescriptionStyleModel",
            "description_width": "",
            "_view_module": "@jupyter-widgets/base",
            "_model_module_version": "1.5.0",
            "_view_count": null,
            "_view_module_version": "1.2.0",
            "_model_module": "@jupyter-widgets/controls"
          }
        },
        "6bfe0ae3e4b544f8896b2ed97c8ea0fd": {
          "model_module": "@jupyter-widgets/base",
          "model_name": "LayoutModel",
          "state": {
            "_view_name": "LayoutView",
            "grid_template_rows": null,
            "right": null,
            "justify_content": null,
            "_view_module": "@jupyter-widgets/base",
            "overflow": null,
            "_model_module_version": "1.2.0",
            "_view_count": null,
            "flex_flow": null,
            "width": null,
            "min_width": null,
            "border": null,
            "align_items": null,
            "bottom": null,
            "_model_module": "@jupyter-widgets/base",
            "top": null,
            "grid_column": null,
            "overflow_y": null,
            "overflow_x": null,
            "grid_auto_flow": null,
            "grid_area": null,
            "grid_template_columns": null,
            "flex": null,
            "_model_name": "LayoutModel",
            "justify_items": null,
            "grid_row": null,
            "max_height": null,
            "align_content": null,
            "visibility": null,
            "align_self": null,
            "height": null,
            "min_height": null,
            "padding": null,
            "grid_auto_rows": null,
            "grid_gap": null,
            "max_width": null,
            "order": null,
            "_view_module_version": "1.2.0",
            "grid_template_areas": null,
            "object_position": null,
            "object_fit": null,
            "grid_auto_columns": null,
            "margin": null,
            "display": null,
            "left": null
          }
        },
        "17f743b77e914bd6b2275b4786aa8016": {
          "model_module": "@jupyter-widgets/controls",
          "model_name": "HBoxModel",
          "state": {
            "_view_name": "HBoxView",
            "_dom_classes": [],
            "_model_name": "HBoxModel",
            "_view_module": "@jupyter-widgets/controls",
            "_model_module_version": "1.5.0",
            "_view_count": null,
            "_view_module_version": "1.5.0",
            "box_style": "",
            "layout": "IPY_MODEL_f8380cbbfbfe41c59a291ecc55c7224a",
            "_model_module": "@jupyter-widgets/controls",
            "children": [
              "IPY_MODEL_17635343d80e46029ab6e3ab774258f5",
              "IPY_MODEL_033921fa05634fbe983bc8acd7c26d8f",
              "IPY_MODEL_7909dde7cdaa4ddfb4f3f6b9fff78a5c"
            ]
          }
        },
        "f8380cbbfbfe41c59a291ecc55c7224a": {
          "model_module": "@jupyter-widgets/base",
          "model_name": "LayoutModel",
          "state": {
            "_view_name": "LayoutView",
            "grid_template_rows": null,
            "right": null,
            "justify_content": null,
            "_view_module": "@jupyter-widgets/base",
            "overflow": null,
            "_model_module_version": "1.2.0",
            "_view_count": null,
            "flex_flow": null,
            "width": null,
            "min_width": null,
            "border": null,
            "align_items": null,
            "bottom": null,
            "_model_module": "@jupyter-widgets/base",
            "top": null,
            "grid_column": null,
            "overflow_y": null,
            "overflow_x": null,
            "grid_auto_flow": null,
            "grid_area": null,
            "grid_template_columns": null,
            "flex": null,
            "_model_name": "LayoutModel",
            "justify_items": null,
            "grid_row": null,
            "max_height": null,
            "align_content": null,
            "visibility": null,
            "align_self": null,
            "height": null,
            "min_height": null,
            "padding": null,
            "grid_auto_rows": null,
            "grid_gap": null,
            "max_width": null,
            "order": null,
            "_view_module_version": "1.2.0",
            "grid_template_areas": null,
            "object_position": null,
            "object_fit": null,
            "grid_auto_columns": null,
            "margin": null,
            "display": null,
            "left": null
          }
        },
        "17635343d80e46029ab6e3ab774258f5": {
          "model_module": "@jupyter-widgets/controls",
          "model_name": "HTMLModel",
          "state": {
            "_view_name": "HTMLView",
            "style": "IPY_MODEL_ec4a9aa45cd6409c96072cdd1ff26da4",
            "_dom_classes": [],
            "description": "",
            "_model_name": "HTMLModel",
            "placeholder": "​",
            "_view_module": "@jupyter-widgets/controls",
            "_model_module_version": "1.5.0",
            "value": "100%",
            "_view_count": null,
            "_view_module_version": "1.5.0",
            "description_tooltip": null,
            "_model_module": "@jupyter-widgets/controls",
            "layout": "IPY_MODEL_d8d926f5951f457eb866ee05677ac802"
          }
        },
        "033921fa05634fbe983bc8acd7c26d8f": {
          "model_module": "@jupyter-widgets/controls",
          "model_name": "FloatProgressModel",
          "state": {
            "_view_name": "ProgressView",
            "style": "IPY_MODEL_82c1ab20e60443a6942a25c6d50a93c4",
            "_dom_classes": [],
            "description": "",
            "_model_name": "FloatProgressModel",
            "bar_style": "success",
            "max": 137,
            "_view_module": "@jupyter-widgets/controls",
            "_model_module_version": "1.5.0",
            "value": 137,
            "_view_count": null,
            "_view_module_version": "1.5.0",
            "orientation": "horizontal",
            "min": 0,
            "description_tooltip": null,
            "_model_module": "@jupyter-widgets/controls",
            "layout": "IPY_MODEL_def03cb9505844b89ccb8ab391d4a1de"
          }
        },
        "7909dde7cdaa4ddfb4f3f6b9fff78a5c": {
          "model_module": "@jupyter-widgets/controls",
          "model_name": "HTMLModel",
          "state": {
            "_view_name": "HTMLView",
            "style": "IPY_MODEL_594ddb7c33f44e3d922d6969a7e553af",
            "_dom_classes": [],
            "description": "",
            "_model_name": "HTMLModel",
            "placeholder": "​",
            "_view_module": "@jupyter-widgets/controls",
            "_model_module_version": "1.5.0",
            "value": " 137/137 [00:54&lt;00:00,  1.59it/s]",
            "_view_count": null,
            "_view_module_version": "1.5.0",
            "description_tooltip": null,
            "_model_module": "@jupyter-widgets/controls",
            "layout": "IPY_MODEL_e5ded0981ce84fe9ba69f491e21e2998"
          }
        },
        "ec4a9aa45cd6409c96072cdd1ff26da4": {
          "model_module": "@jupyter-widgets/controls",
          "model_name": "DescriptionStyleModel",
          "state": {
            "_view_name": "StyleView",
            "_model_name": "DescriptionStyleModel",
            "description_width": "",
            "_view_module": "@jupyter-widgets/base",
            "_model_module_version": "1.5.0",
            "_view_count": null,
            "_view_module_version": "1.2.0",
            "_model_module": "@jupyter-widgets/controls"
          }
        },
        "d8d926f5951f457eb866ee05677ac802": {
          "model_module": "@jupyter-widgets/base",
          "model_name": "LayoutModel",
          "state": {
            "_view_name": "LayoutView",
            "grid_template_rows": null,
            "right": null,
            "justify_content": null,
            "_view_module": "@jupyter-widgets/base",
            "overflow": null,
            "_model_module_version": "1.2.0",
            "_view_count": null,
            "flex_flow": null,
            "width": null,
            "min_width": null,
            "border": null,
            "align_items": null,
            "bottom": null,
            "_model_module": "@jupyter-widgets/base",
            "top": null,
            "grid_column": null,
            "overflow_y": null,
            "overflow_x": null,
            "grid_auto_flow": null,
            "grid_area": null,
            "grid_template_columns": null,
            "flex": null,
            "_model_name": "LayoutModel",
            "justify_items": null,
            "grid_row": null,
            "max_height": null,
            "align_content": null,
            "visibility": null,
            "align_self": null,
            "height": null,
            "min_height": null,
            "padding": null,
            "grid_auto_rows": null,
            "grid_gap": null,
            "max_width": null,
            "order": null,
            "_view_module_version": "1.2.0",
            "grid_template_areas": null,
            "object_position": null,
            "object_fit": null,
            "grid_auto_columns": null,
            "margin": null,
            "display": null,
            "left": null
          }
        },
        "82c1ab20e60443a6942a25c6d50a93c4": {
          "model_module": "@jupyter-widgets/controls",
          "model_name": "ProgressStyleModel",
          "state": {
            "_view_name": "StyleView",
            "_model_name": "ProgressStyleModel",
            "description_width": "",
            "_view_module": "@jupyter-widgets/base",
            "_model_module_version": "1.5.0",
            "_view_count": null,
            "_view_module_version": "1.2.0",
            "bar_color": null,
            "_model_module": "@jupyter-widgets/controls"
          }
        },
        "def03cb9505844b89ccb8ab391d4a1de": {
          "model_module": "@jupyter-widgets/base",
          "model_name": "LayoutModel",
          "state": {
            "_view_name": "LayoutView",
            "grid_template_rows": null,
            "right": null,
            "justify_content": null,
            "_view_module": "@jupyter-widgets/base",
            "overflow": null,
            "_model_module_version": "1.2.0",
            "_view_count": null,
            "flex_flow": null,
            "width": null,
            "min_width": null,
            "border": null,
            "align_items": null,
            "bottom": null,
            "_model_module": "@jupyter-widgets/base",
            "top": null,
            "grid_column": null,
            "overflow_y": null,
            "overflow_x": null,
            "grid_auto_flow": null,
            "grid_area": null,
            "grid_template_columns": null,
            "flex": null,
            "_model_name": "LayoutModel",
            "justify_items": null,
            "grid_row": null,
            "max_height": null,
            "align_content": null,
            "visibility": null,
            "align_self": null,
            "height": null,
            "min_height": null,
            "padding": null,
            "grid_auto_rows": null,
            "grid_gap": null,
            "max_width": null,
            "order": null,
            "_view_module_version": "1.2.0",
            "grid_template_areas": null,
            "object_position": null,
            "object_fit": null,
            "grid_auto_columns": null,
            "margin": null,
            "display": null,
            "left": null
          }
        },
        "594ddb7c33f44e3d922d6969a7e553af": {
          "model_module": "@jupyter-widgets/controls",
          "model_name": "DescriptionStyleModel",
          "state": {
            "_view_name": "StyleView",
            "_model_name": "DescriptionStyleModel",
            "description_width": "",
            "_view_module": "@jupyter-widgets/base",
            "_model_module_version": "1.5.0",
            "_view_count": null,
            "_view_module_version": "1.2.0",
            "_model_module": "@jupyter-widgets/controls"
          }
        },
        "e5ded0981ce84fe9ba69f491e21e2998": {
          "model_module": "@jupyter-widgets/base",
          "model_name": "LayoutModel",
          "state": {
            "_view_name": "LayoutView",
            "grid_template_rows": null,
            "right": null,
            "justify_content": null,
            "_view_module": "@jupyter-widgets/base",
            "overflow": null,
            "_model_module_version": "1.2.0",
            "_view_count": null,
            "flex_flow": null,
            "width": null,
            "min_width": null,
            "border": null,
            "align_items": null,
            "bottom": null,
            "_model_module": "@jupyter-widgets/base",
            "top": null,
            "grid_column": null,
            "overflow_y": null,
            "overflow_x": null,
            "grid_auto_flow": null,
            "grid_area": null,
            "grid_template_columns": null,
            "flex": null,
            "_model_name": "LayoutModel",
            "justify_items": null,
            "grid_row": null,
            "max_height": null,
            "align_content": null,
            "visibility": null,
            "align_self": null,
            "height": null,
            "min_height": null,
            "padding": null,
            "grid_auto_rows": null,
            "grid_gap": null,
            "max_width": null,
            "order": null,
            "_view_module_version": "1.2.0",
            "grid_template_areas": null,
            "object_position": null,
            "object_fit": null,
            "grid_auto_columns": null,
            "margin": null,
            "display": null,
            "left": null
          }
        }
      }
    }
  },
  "cells": [
    {
      "cell_type": "markdown",
      "metadata": {
        "id": "view-in-github",
        "colab_type": "text"
      },
      "source": [
        "<a href=\"https://colab.research.google.com/github/darqheartX/newProject/blob/branch_one/Radiant_Earth_Spot_the_Crop.ipynb\" target=\"_parent\"><img src=\"https://colab.research.google.com/assets/colab-badge.svg\" alt=\"Open In Colab\"/></a>"
      ]
    },
    {
      "cell_type": "markdown",
      "metadata": {
        "id": "1a2ae7b9-4da2-472b-860d-5acb063242b0"
      },
      "source": [
        "<img src='https://radiant-assets.s3-us-west-2.amazonaws.com/PrimaryRadiantMLHubLogo.png' alt='Radiant MLHub Logo' width='300'/>\n",
        "\n",
        "# A Baseline Model for the Radiant Earth Spot the Crop Challenge\n",
        "\n",
        "This notebook walks you through the steps to load the data and build a baseline model using Random Forests for `Radiant Earth Spot the Crop Challenge`."
      ],
      "id": "1a2ae7b9-4da2-472b-860d-5acb063242b0"
    },
    {
      "cell_type": "markdown",
      "metadata": {
        "id": "5894a1e0-23f6-4f8d-940b-1317fba1e762"
      },
      "source": [
        "## Radiant MLHub API\n",
        "\n",
        "\n",
        "The Radiant MLHub API gives access to open Earth imagery training data for machine learning applications. You can learn more about the repository at the [Radiant MLHub site](https://mlhub.earth) and about the organization behind it at the [Radiant Earth Foundation site](https://radiant.earth).\n",
        "\n",
        "Full documentation for the API is available at [docs.mlhub.earth](docs.mlhub.earth).\n",
        "\n",
        "Each item in our collection is explained in json format compliant with [STAC](https://stacspec.org/) [label extension](https://github.com/radiantearth/stac-spec/tree/master/extensions/label) definition."
      ],
      "id": "5894a1e0-23f6-4f8d-940b-1317fba1e762"
    },
    {
      "cell_type": "markdown",
      "metadata": {
        "id": "973f1d8d-12cd-4661-9cf5-c50ecb9b2ab6"
      },
      "source": [
        "## Dependencies\n",
        "\n",
        "All the dependencies for this notebook are included in the `requirements.txt` file included in this folder.\n"
      ],
      "id": "973f1d8d-12cd-4661-9cf5-c50ecb9b2ab6"
    },
    {
      "cell_type": "markdown",
      "metadata": {
        "id": "210d52cd-d81e-446b-8a87-2b0a6cac3bae"
      },
      "source": [
        "**You must replace the `YOUR_API_KEY_HERE` text with your API key which you can obtain by creating a free account on the [MLHub Dashboard](https://dashboard.mlhub.earth/) within the `API Keys` tab at the top of the page.**"
      ],
      "id": "210d52cd-d81e-446b-8a87-2b0a6cac3bae"
    },
    {
      "cell_type": "code",
      "metadata": {
        "id": "mBLranA2TYUL",
        "colab": {
          "base_uri": "https://localhost:8080/"
        },
        "outputId": "ea263e65-2b7d-4bbc-ef6e-24c3d85462f8"
      },
      "source": [
        "from google.colab import drive\n",
        "drive.mount('/content/drive')"
      ],
      "id": "mBLranA2TYUL",
      "execution_count": 1,
      "outputs": [
        {
          "output_type": "stream",
          "text": [
            "Mounted at /content/drive\n"
          ],
          "name": "stdout"
        }
      ]
    },
    {
      "cell_type": "code",
      "metadata": {
        "id": "sHJzQE2fMugU"
      },
      "source": [
        "!pip install rasterio"
      ],
      "id": "sHJzQE2fMugU",
      "execution_count": null,
      "outputs": []
    },
    {
      "cell_type": "code",
      "metadata": {
        "id": "7QOjs9aGMl3y"
      },
      "source": [
        "!pip install radiant-mlhub"
      ],
      "id": "7QOjs9aGMl3y",
      "execution_count": null,
      "outputs": []
    },
    {
      "cell_type": "code",
      "metadata": {
        "id": "a5ec7942-db89-4039-9065-555c6a5775aa"
      },
      "source": [
        "from radiant_mlhub import Collection\n",
        "import tarfile\n",
        "import os\n",
        "from pathlib import Path\n",
        "import json\n",
        "\n",
        "import datetime\n",
        "import rasterio\n",
        "import numpy as np\n",
        "import pandas as pd\n",
        "\n",
        "from sklearn.ensemble import RandomForestClassifier\n",
        "from sklearn.metrics import log_loss\n",
        "from sklearn.model_selection import StratifiedShuffleSplit"
      ],
      "id": "a5ec7942-db89-4039-9065-555c6a5775aa",
      "execution_count": 1,
      "outputs": []
    },
    {
      "cell_type": "markdown",
      "metadata": {
        "id": "ae21a662-b755-4456-b722-d242c154143c"
      },
      "source": [
        "## Downloading and Loading the Data\n",
        "\n",
        "In this part, we will download the data from Radiant MLHub and load the properties of each item in the dataset into a DataFrame\n"
      ],
      "id": "ae21a662-b755-4456-b722-d242c154143c"
    },
    {
      "cell_type": "code",
      "metadata": {
        "colab": {
          "base_uri": "https://localhost:8080/",
          "height": 217,
          "referenced_widgets": [
            "012161eadd634047861c747cd441a0d6",
            "92f122685a55469baed18aaa7978a8e7",
            "75f01bfc1a264a0eb24b9a0d388453a9",
            "2bfa8f3299574eecaf07d308c5279d74",
            "562c587fc5ce439797e3b4f8a377b4c6",
            "16a9de02d2fd41958c5bc66c4ede656b",
            "49ea04bd1b69404a9565bea9fc3bb18c",
            "d274e0bdc4214db48a0212bc95eb6305",
            "a5c9919a88154b5da5a70686d4172839",
            "7e52ff92c56d485492ff9c13a8ef4071",
            "20712cfe8a054767a1332c4c64c2a131",
            "f346ef7d8ee64e33bd298db90ddd2e9f",
            "281c146328e74dafa5ba9e6d086b8df1",
            "8fd54c74708e4eeba334bf9208a90261",
            "7c56f9901ef4458db3226967791ba50c",
            "96302c7ef3804e969327b8e2f3431203",
            "7fd2cdf54b97436cae6f2d70a098e545",
            "a4d33b4112af451191de15e0a29e2fa1",
            "aa7111b98c1347368940d2abf3f3cd42",
            "84670f685f8e44758533dbb9201ef5d2",
            "d21b992c391b4128ac990ae8b5f66455",
            "e7e34aabb9ad49d08b94ae7970c5c6c3",
            "30512962455f481495d28631bfbb9021",
            "ffe50b09994e488586f0f9beb721cd5e",
            "bba8386223a6480182e21133504681a2",
            "679b8d6fa5504b39be632eeca2b75671",
            "256fa3d09bc34ae1875e022e85a59250",
            "6e763ed161c74e6884a3f923f7822f61",
            "82f16b79bcbd438ba07a4dda4c44f68f",
            "755a8e608d3649d9ac6b3e65236269ea",
            "19caf1f9eda84807b0299ca1870fb98a",
            "c027f714d73e4ed58a4097b2a7de3795",
            "532b8912ab8f497e9548007f28d3e53a",
            "401e1a5ad7bc4c5985a1459f88b461e4",
            "d79351da1d8949bcbc7e8426b3b579ee",
            "153861d555fa42d3908585c5828b28e9",
            "8c8ce3b1b2d742ad8479a09fe48121e4",
            "9f41b785e9674255a96ea404c284de4c",
            "e9b24f21705c4ee4a737082ae032fda5",
            "8ce6f370bf814cf5b496101016099c58",
            "eb8e0c61434441d8b72127e5e2079fa2",
            "d58a122affaf4b3db625b14c8e1fc6a0",
            "c2c470a275d6489ab334d6d64219c9a9",
            "7f2145cb5dbe45cca8c164d4258bfe08"
          ]
        },
        "id": "466b7593-e197-4e00-a392-4ef34f0f4e28",
        "outputId": "4131c748-c3e1-4383-8cc2-359a8b6b7db4"
      },
      "source": [
        "os.environ['MLHUB_API_KEY'] = 'f83bfa09f61af148f68190b6e8d4839ef1358256dac814960922cd9c43d89e8e'\n",
        "\n",
        "collections = [\n",
        "    'ref_south_africa_crops_competition_v1_train_labels',\n",
        "    'ref_south_africa_crops_competition_v1_train_source_s1', \n",
        "    'ref_south_africa_crops_competition_v1_test_labels',\n",
        "    'ref_south_africa_crops_competition_v1_test_source_s1', \n",
        "#     'ref_south_africa_crops_competition_v1_test_source_s2' # Uncomment this out if you want to download the Sentinel-2 Data (not needed for the Hackathon)\n",
        "#     'ref_south_africa_crops_competition_v1_train_source_s2', # Uncomment this out if you want to download the Sentinel-2 Data (not needed for the Hackathon)\n",
        "]\n",
        "\n",
        "def download(collection_id):\n",
        "    print(f'Downloading {collection_id}...')\n",
        "    collection = Collection.fetch(collection_id)\n",
        "    path = collection.download('.')\n",
        "    path = collection_id + '.tar.gz'\n",
        "    tar = tarfile.open(path, \"r:gz\")\n",
        "    tar.extractall()\n",
        "    tar.close()\n",
        "    os.remove(path)\n",
        "    \n",
        "def resolve_path(base, path):\n",
        "    return Path(os.path.join(base, path)).resolve()\n",
        "    \n",
        "def load_df(collection_id):\n",
        "    collection = json.load(open(f'{collection_id}/collection.json', 'r'))\n",
        "    rows = []\n",
        "    item_links = []\n",
        "    for link in collection['links']:\n",
        "        if link['rel'] != 'item':\n",
        "            continue\n",
        "        item_links.append(link['href'])\n",
        "        \n",
        "    for item_link in item_links:\n",
        "        item_path = f'{collection_id}/{item_link}'\n",
        "        current_path = os.path.dirname(item_path)\n",
        "        item = json.load(open(item_path, 'r'))\n",
        "        tile_id = item['id'].split('_')[-1]\n",
        "        for asset_key, asset in item['assets'].items():\n",
        "            rows.append([\n",
        "                tile_id,\n",
        "                None,\n",
        "                None,\n",
        "                asset_key,\n",
        "                str(resolve_path(current_path, asset['href']))\n",
        "            ])\n",
        "            \n",
        "        for link in item['links']:\n",
        "            if link['rel'] != 'source':\n",
        "                continue\n",
        "            link_path = resolve_path(current_path, link['href'])\n",
        "            source_path = os.path.dirname(link_path)\n",
        "            try:\n",
        "                source_item = json.load(open(link_path, 'r'))\n",
        "            except FileNotFoundError:\n",
        "                continue\n",
        "            datetime = source_item['properties']['datetime']\n",
        "            satellite_platform = source_item['collection'].split('_')[-1]\n",
        "            for asset_key, asset in source_item['assets'].items():\n",
        "                rows.append([\n",
        "                    tile_id,\n",
        "                    datetime,\n",
        "                    satellite_platform,\n",
        "                    asset_key,\n",
        "                    str(resolve_path(source_path, asset['href']))\n",
        "                ])\n",
        "    return pd.DataFrame(rows, columns=['tile_id', 'datetime', 'satellite_platform', 'asset', 'file_path'])\n",
        "\n",
        "for c in collections:\n",
        "    download(c)\n",
        "\n",
        "competition_train_df = load_df('ref_south_africa_crops_competition_v1_train_labels')\n",
        "competition_test_df = load_df('ref_south_africa_crops_competition_v1_test_labels')"
      ],
      "id": "466b7593-e197-4e00-a392-4ef34f0f4e28",
      "execution_count": 5,
      "outputs": [
        {
          "output_type": "stream",
          "text": [
            "Downloading ref_south_africa_crops_competition_v1_train_labels...\n"
          ],
          "name": "stdout"
        },
        {
          "output_type": "display_data",
          "data": {
            "application/vnd.jupyter.widget-view+json": {
              "model_id": "012161eadd634047861c747cd441a0d6",
              "version_minor": 0,
              "version_major": 2
            },
            "text/plain": [
              "  0%|          | 0/31.4 [00:00<?, ?M/s]"
            ]
          },
          "metadata": {
            "tags": []
          }
        },
        {
          "output_type": "stream",
          "text": [
            "Downloading ref_south_africa_crops_competition_v1_train_source_s1...\n"
          ],
          "name": "stdout"
        },
        {
          "output_type": "display_data",
          "data": {
            "application/vnd.jupyter.widget-view+json": {
              "model_id": "f346ef7d8ee64e33bd298db90ddd2e9f",
              "version_minor": 0,
              "version_major": 2
            },
            "text/plain": [
              "  0%|          | 0/5987.8 [00:00<?, ?M/s]"
            ]
          },
          "metadata": {
            "tags": []
          }
        },
        {
          "output_type": "stream",
          "text": [
            "Downloading ref_south_africa_crops_competition_v1_test_labels...\n"
          ],
          "name": "stdout"
        },
        {
          "output_type": "display_data",
          "data": {
            "application/vnd.jupyter.widget-view+json": {
              "model_id": "30512962455f481495d28631bfbb9021",
              "version_minor": 0,
              "version_major": 2
            },
            "text/plain": [
              "  0%|          | 0/10.9 [00:00<?, ?M/s]"
            ]
          },
          "metadata": {
            "tags": []
          }
        },
        {
          "output_type": "stream",
          "text": [
            "Downloading ref_south_africa_crops_competition_v1_test_source_s1...\n"
          ],
          "name": "stdout"
        },
        {
          "output_type": "display_data",
          "data": {
            "application/vnd.jupyter.widget-view+json": {
              "model_id": "401e1a5ad7bc4c5985a1459f88b461e4",
              "version_minor": 0,
              "version_major": 2
            },
            "text/plain": [
              "  0%|          | 0/2566.1 [00:00<?, ?M/s]"
            ]
          },
          "metadata": {
            "tags": []
          }
        }
      ]
    },
    {
      "cell_type": "code",
      "metadata": {
        "id": "1Os7giIWVGJz"
      },
      "source": [
        "competition_train_df.to_csv('/content/drive/MyDrive/zindi/radiant_ml/data/train.csv', index=False)\n",
        "competition_test_df.to_csv('/content/drive/MyDrive/zindi/radiant_ml/data/test.csv', index=False)"
      ],
      "id": "1Os7giIWVGJz",
      "execution_count": null,
      "outputs": []
    },
    {
      "cell_type": "code",
      "metadata": {
        "id": "4Zk323AOXnKJ"
      },
      "source": [
        "competition_train_df=pd.read_csv('/content/drive/MyDrive/zindi/radiant_ml/data/train.csv')\n",
        "competition_test_df=pd.read_csv('/content/drive/MyDrive/zindi/radiant_ml/data/test.csv')"
      ],
      "id": "4Zk323AOXnKJ",
      "execution_count": 2,
      "outputs": []
    },
    {
      "cell_type": "code",
      "metadata": {
        "id": "772258c7-c5a0-4e8c-bf37-98cbb4d88dd8"
      },
      "source": [
        "competition_train_df"
      ],
      "id": "772258c7-c5a0-4e8c-bf37-98cbb4d88dd8",
      "execution_count": null,
      "outputs": []
    },
    {
      "cell_type": "code",
      "metadata": {
        "colab": {
          "base_uri": "https://localhost:8080/"
        },
        "id": "6bd68551-758a-482f-b022-f6ce59bc27e0",
        "outputId": "b3e0d2e0-2f15-46ab-c955-56753a96fc46"
      },
      "source": [
        "# This DataFrame lists all types of assets including documentation of the data. \n",
        "# In the following, we will use the Sentinel-1 bands (VV and VH) as well as labels. \n",
        "competition_train_df['asset'].unique()"
      ],
      "id": "6bd68551-758a-482f-b022-f6ce59bc27e0",
      "execution_count": 4,
      "outputs": [
        {
          "output_type": "execute_result",
          "data": {
            "text/plain": [
              "array(['documentation', 'field_ids', 'field_info_train', 'labels',\n",
              "       'raster_values', 'VH', 'VV'], dtype=object)"
            ]
          },
          "metadata": {
            "tags": []
          },
          "execution_count": 4
        }
      ]
    },
    {
      "cell_type": "code",
      "metadata": {
        "colab": {
          "base_uri": "https://localhost:8080/"
        },
        "id": "fdddc229-eb18-424e-8bce-0b1a0ac7cbc4",
        "outputId": "6a3c7c87-7810-4e84-f1e6-53423af0e377"
      },
      "source": [
        "tile_ids_train = competition_train_df['tile_id'].unique()\n",
        "tile_ids_train, len(tile_ids_train)"
      ],
      "id": "fdddc229-eb18-424e-8bce-0b1a0ac7cbc4",
      "execution_count": 3,
      "outputs": [
        {
          "output_type": "execute_result",
          "data": {
            "text/plain": [
              "(array([2587, 1302, 1130, ...,   99, 1379, 2198]), 2650)"
            ]
          },
          "metadata": {
            "tags": []
          },
          "execution_count": 3
        }
      ]
    },
    {
      "cell_type": "code",
      "metadata": {
        "id": "a223bbd2-7b7f-4191-b04d-866297706413"
      },
      "source": [
        "# For simplicty of this baseline model, we will use only 5 observations throughout the growing season\n",
        "# You can choose to use all of them, select a few of them at specifc intervals, or \n",
        "# load as many as you want and interpolate between them to have a regular temporal frequency.\n",
        "n_obs = 17"
      ],
      "id": "a223bbd2-7b7f-4191-b04d-866297706413",
      "execution_count": 4,
      "outputs": []
    },
    {
      "cell_type": "markdown",
      "metadata": {
        "id": "DaCCI_iQ7WDb"
      },
      "source": [
        "# 1"
      ],
      "id": "DaCCI_iQ7WDb"
    },
    {
      "cell_type": "code",
      "metadata": {
        "id": "3ba16fdd-0d81-4661-aab9-e95d6156f329",
        "colab": {
          "base_uri": "https://localhost:8080/",
          "height": 49,
          "referenced_widgets": [
            "c800ed6d9b5d4d0aaf130e9183966101",
            "3c9cb7fa6926486ab729f91b979ee034",
            "7e15173dc31f4eb3869eacd976497081",
            "bddb6dd04aa841339f09304caec674ae",
            "3b92383dc0cd4d03a4af2b376a71970c",
            "173f87b5aedb4662b76ad099e76fae0b",
            "8a71f54ef14f4052bb7a67175f285fda",
            "24101d86d64448f29b3adc9c81c1154e",
            "1b85bf479a4e49108431dccbe436f51a",
            "0758f530d35a4f4b99e207ed19ee6158",
            "2bc61ff2147e4b4a89c9ee135dc42544"
          ]
        },
        "outputId": "ec33f0ce-c4e3-4867-c30d-43470a09a53e"
      },
      "source": [
        "import tqdm\n",
        "\n",
        "X = np.empty((0, 2 * (n_obs-1)))\n",
        "y = np.empty((0, 1))\n",
        "field_ids = np.empty((0, 1))\n",
        "\n",
        "for tile_id in tqdm.notebook.tqdm(tile_ids_train[:150]):\n",
        "    if tile_id != '1951': # avoid using this specific tile for the Hackathon as it might have a missing file\n",
        "        \n",
        "        tile_df = competition_train_df[competition_train_df['tile_id']==tile_id]\n",
        "\n",
        "        label_src = rasterio.open(tile_df[tile_df['asset']=='labels']['file_path'].values[0])\n",
        "        label_array = label_src.read(1)\n",
        "        y = np.append(y, label_array.flatten())\n",
        "\n",
        "        field_id_src = rasterio.open(tile_df[tile_df['asset']=='field_ids']['file_path'].values[0])\n",
        "        field_id_array = field_id_src.read(1)\n",
        "        field_ids = np.append(field_ids, field_id_array.flatten())\n",
        "\n",
        "        tile_date_times = tile_df[tile_df['satellite_platform']=='s1']['datetime'].unique()\n",
        "\n",
        "        X_tile = np.empty((256 * 256, 28))\n",
        "        for date_time in tile_date_times[ : 2 * n_obs : n_obs]:\n",
        "\n",
        "            vv_src = rasterio.open(tile_df[(tile_df['datetime']==date_time) & (tile_df['asset']=='VV')]['file_path'].values[0])\n",
        "            vv_array = np.expand_dims(vv_src.read(1).flatten(), axis=1)\n",
        "\n",
        "            vh_src = rasterio.open(tile_df[(tile_df['datetime']==date_time) & (tile_df['asset']=='VH')]['file_path'].values[0])\n",
        "            vh_array = np.expand_dims(vh_src.read(1).flatten(), axis=1)\n",
        "\n",
        "            X_tile = np.append(X_tile, vv_array, axis = 1)\n",
        "            X_tile = np.append(X_tile, vh_array, axis = 1)\n",
        "\n",
        "        X = np.append(X, X_tile, axis=0)"
      ],
      "id": "3ba16fdd-0d81-4661-aab9-e95d6156f329",
      "execution_count": 5,
      "outputs": [
        {
          "output_type": "display_data",
          "data": {
            "application/vnd.jupyter.widget-view+json": {
              "model_id": "c800ed6d9b5d4d0aaf130e9183966101",
              "version_minor": 0,
              "version_major": 2
            },
            "text/plain": [
              "  0%|          | 0/150 [00:00<?, ?it/s]"
            ]
          },
          "metadata": {
            "tags": []
          }
        }
      ]
    },
    {
      "cell_type": "code",
      "metadata": {
        "id": "a5FBtPrieG8e"
      },
      "source": [
        "data1 = pd.DataFrame(X)\n",
        "data1['label'] = y.astype(int)\n",
        "data1['field_id'] = field_ids\n",
        "data1 = data1[data1.field_id != 0]\n",
        "\n",
        "data_grouped = data1.groupby('field_id').mean().reset_index()\n",
        "data_grouped.to_csv('/content/drive/MyDrive/zindi/radiant_ml/data/Xdata1.csv', index=False)\n",
        "data_grouped"
      ],
      "id": "a5FBtPrieG8e",
      "execution_count": 7,
      "outputs": []
    },
    {
      "cell_type": "markdown",
      "metadata": {
        "id": "nBUKnnOD7IQN"
      },
      "source": [
        "# 2"
      ],
      "id": "nBUKnnOD7IQN"
    },
    {
      "cell_type": "code",
      "metadata": {
        "id": "dsKqSmzaalSf",
        "colab": {
          "base_uri": "https://localhost:8080/",
          "height": 49,
          "referenced_widgets": [
            "9c888e5c0e1244a0a28ed69a7a8d220f",
            "904839719c654ce58c4e4671e65475b2",
            "13869c6557b1474bae4dc1c274c91921",
            "e3d05c8a10f0400297212eebc9b221af",
            "b61918db840f433c8179d790af2163c6",
            "1a92a519fdc34fa4afc6c4cd73242135",
            "10616f90800142b68cd0339f61ec2592",
            "6e9ed2bebd8146669e318b770bc45609",
            "32bb208fd5d0428f875a466f2efec3a4",
            "2a57cea083f94e828acd6b2a412a97cb",
            "76053e53c787497a82579ec52b3c438b"
          ]
        },
        "outputId": "45d9319e-24bb-4b14-e6e2-bf8c4b4cc1a4"
      },
      "source": [
        "import tqdm\n",
        "\n",
        "X = np.empty((0, 2 * (n_obs-1)))\n",
        "y = np.empty((0, 1))\n",
        "field_ids = np.empty((0, 1))\n",
        "\n",
        "\n",
        "for tile_id in tqdm.notebook.tqdm(tile_ids_train[150:300]):\n",
        "    if tile_id != '1951': # avoid using this specific tile for the Hackathon as it might have a missing file\n",
        "        \n",
        "        tile_df = competition_train_df[competition_train_df['tile_id']==tile_id]\n",
        "\n",
        "        label_src = rasterio.open(tile_df[tile_df['asset']=='labels']['file_path'].values[0])\n",
        "        label_array = label_src.read(1)\n",
        "        y = np.append(y, label_array.flatten())\n",
        "\n",
        "        field_id_src = rasterio.open(tile_df[tile_df['asset']=='field_ids']['file_path'].values[0])\n",
        "        field_id_array = field_id_src.read(1)\n",
        "        field_ids = np.append(field_ids, field_id_array.flatten())\n",
        "\n",
        "        tile_date_times = tile_df[tile_df['satellite_platform']=='s1']['datetime'].unique()\n",
        "\n",
        "        X_tile = np.empty((256 * 256, 28))\n",
        "        for date_time in tile_date_times[ : 2 * n_obs : n_obs]:\n",
        "\n",
        "            vv_src = rasterio.open(tile_df[(tile_df['datetime']==date_time) & (tile_df['asset']=='VV')]['file_path'].values[0])\n",
        "            vv_array = np.expand_dims(vv_src.read(1).flatten(), axis=1)\n",
        "\n",
        "            vh_src = rasterio.open(tile_df[(tile_df['datetime']==date_time) & (tile_df['asset']=='VH')]['file_path'].values[0])\n",
        "            vh_array = np.expand_dims(vh_src.read(1).flatten(), axis=1)\n",
        "\n",
        "            X_tile = np.append(X_tile, vv_array, axis = 1)\n",
        "            X_tile = np.append(X_tile, vh_array, axis = 1)\n",
        "\n",
        "        X = np.append(X, X_tile, axis=0)"
      ],
      "id": "dsKqSmzaalSf",
      "execution_count": 6,
      "outputs": [
        {
          "output_type": "display_data",
          "data": {
            "application/vnd.jupyter.widget-view+json": {
              "model_id": "9c888e5c0e1244a0a28ed69a7a8d220f",
              "version_minor": 0,
              "version_major": 2
            },
            "text/plain": [
              "  0%|          | 0/150 [00:00<?, ?it/s]"
            ]
          },
          "metadata": {
            "tags": []
          }
        }
      ]
    },
    {
      "cell_type": "code",
      "metadata": {
        "id": "9AU6p9pCechu"
      },
      "source": [
        "data2 = pd.DataFrame(X)\n",
        "data2['label'] = y.astype(int)\n",
        "data2['field_id'] = field_ids\n",
        "data2 = data2[data2.field_id != 0]\n",
        "\n",
        "data_grouped = data2.groupby('field_id').mean().reset_index()\n",
        "data_grouped.to_csv('/content/drive/MyDrive/zindi/radiant_ml/data/Xdata2.csv', index=False)\n",
        "data_grouped"
      ],
      "id": "9AU6p9pCechu",
      "execution_count": 8,
      "outputs": []
    },
    {
      "cell_type": "markdown",
      "metadata": {
        "id": "dy-zeq9G6669"
      },
      "source": [
        "# 3"
      ],
      "id": "dy-zeq9G6669"
    },
    {
      "cell_type": "code",
      "metadata": {
        "id": "7LL1JSrNalPi",
        "colab": {
          "base_uri": "https://localhost:8080/",
          "height": 49,
          "referenced_widgets": [
            "efe3200d60b448b298cfce9e788cfaeb",
            "9faee47cf1344e908b8a86718f2ffc64",
            "57455fb20d1e4ef7b48a041e54c7f816",
            "5f1546e7ac7f43fea87103b2f2b27b56",
            "6850574c41154a169faf9f38b55fd7a5",
            "508d67185bbd4e608433455b65f495e0",
            "9c2ad1b7883246a5a53e462eff84d3ba",
            "38d45cbe2ad94319a7867bae1474f470",
            "400759ba8d5f45ca96f3eac4faaf0ede",
            "27caa433f2de498a8ffff907ee24cc80",
            "e455c3b2a8fb4f5d96cfb4c465d6e003"
          ]
        },
        "outputId": "fe441c20-7ee0-4def-d279-b649f50ed56c"
      },
      "source": [
        "import tqdm\n",
        "\n",
        "X = np.empty((0, 2 * (n_obs-1)))\n",
        "y = np.empty((0, 1))\n",
        "field_ids = np.empty((0, 1))\n",
        "\n",
        "\n",
        "for tile_id in tqdm.notebook.tqdm(tile_ids_train[300:450]):\n",
        "    if tile_id != '1951': # avoid using this specific tile for the Hackathon as it might have a missing file\n",
        "        \n",
        "        tile_df = competition_train_df[competition_train_df['tile_id']==tile_id]\n",
        "\n",
        "        label_src = rasterio.open(tile_df[tile_df['asset']=='labels']['file_path'].values[0])\n",
        "        label_array = label_src.read(1)\n",
        "        y = np.append(y, label_array.flatten())\n",
        "\n",
        "        field_id_src = rasterio.open(tile_df[tile_df['asset']=='field_ids']['file_path'].values[0])\n",
        "        field_id_array = field_id_src.read(1)\n",
        "        field_ids = np.append(field_ids, field_id_array.flatten())\n",
        "\n",
        "        tile_date_times = tile_df[tile_df['satellite_platform']=='s1']['datetime'].unique()\n",
        "\n",
        "        X_tile = np.empty((256 * 256, 28))\n",
        "        for date_time in tile_date_times[ : 2 * n_obs : n_obs]:\n",
        "\n",
        "            vv_src = rasterio.open(tile_df[(tile_df['datetime']==date_time) & (tile_df['asset']=='VV')]['file_path'].values[0])\n",
        "            vv_array = np.expand_dims(vv_src.read(1).flatten(), axis=1)\n",
        "\n",
        "            vh_src = rasterio.open(tile_df[(tile_df['datetime']==date_time) & (tile_df['asset']=='VH')]['file_path'].values[0])\n",
        "            vh_array = np.expand_dims(vh_src.read(1).flatten(), axis=1)\n",
        "\n",
        "            X_tile = np.append(X_tile, vv_array, axis = 1)\n",
        "            X_tile = np.append(X_tile, vh_array, axis = 1)\n",
        "\n",
        "        X = np.append(X, X_tile, axis=0)"
      ],
      "id": "7LL1JSrNalPi",
      "execution_count": 5,
      "outputs": [
        {
          "output_type": "display_data",
          "data": {
            "application/vnd.jupyter.widget-view+json": {
              "model_id": "efe3200d60b448b298cfce9e788cfaeb",
              "version_minor": 0,
              "version_major": 2
            },
            "text/plain": [
              "  0%|          | 0/150 [00:00<?, ?it/s]"
            ]
          },
          "metadata": {
            "tags": []
          }
        }
      ]
    },
    {
      "cell_type": "code",
      "metadata": {
        "id": "YWhX0txIejOG"
      },
      "source": [
        "data3 = pd.DataFrame(X)\n",
        "data3['label'] = y.astype(int)\n",
        "data3['field_id'] = field_ids\n",
        "data3 = data3[data3.field_id != 0]\n",
        "\n",
        "data_grouped = data3.groupby('field_id').mean().reset_index()\n",
        "data_grouped.to_csv('/content/drive/MyDrive/zindi/radiant_ml/data/Xdata3.csv', index=False)\n",
        "data_grouped"
      ],
      "id": "YWhX0txIejOG",
      "execution_count": null,
      "outputs": []
    },
    {
      "cell_type": "markdown",
      "metadata": {
        "id": "fW1DVjSv643G"
      },
      "source": [
        "# 4"
      ],
      "id": "fW1DVjSv643G"
    },
    {
      "cell_type": "code",
      "metadata": {
        "id": "Gh0O7MMfak2y",
        "colab": {
          "base_uri": "https://localhost:8080/",
          "height": 49,
          "referenced_widgets": [
            "2403f4da7b65434b9318ced24fba36d4",
            "e4ba9675e72f476291b7782aa0a9777b",
            "fe403313ef664e78917bb64b7f0850a0",
            "c299e7cb7a9b4a18a5ecf7f34a9993b4",
            "2d365dd973c7462ba8d3a0517c136ca1",
            "e6cd1e0999454157af29f10326ad6a89",
            "ca59666c52774ca9a1d55e239803a945",
            "247f59d3d62a47d29754a0f6ba2480b7",
            "646d148dce804957bb5819cb86fe2c15",
            "9af74299f00142349d509c75652614ad",
            "37233ca3cb6546b48ea8cf57300280d2"
          ]
        },
        "outputId": "160113e5-32d8-4ec5-faaa-139adb560ac4"
      },
      "source": [
        "import tqdm\n",
        "\n",
        "X = np.empty((0, 2 * (n_obs-1)))\n",
        "y = np.empty((0, 1))\n",
        "field_ids = np.empty((0, 1))\n",
        "\n",
        "\n",
        "for tile_id in tqdm.notebook.tqdm(tile_ids_train[450:650]):\n",
        "    if tile_id != '1951': # avoid using this specific tile for the Hackathon as it might have a missing file\n",
        "        \n",
        "        tile_df = competition_train_df[competition_train_df['tile_id']==tile_id]\n",
        "\n",
        "        label_src = rasterio.open(tile_df[tile_df['asset']=='labels']['file_path'].values[0])\n",
        "        label_array = label_src.read(1)\n",
        "        y = np.append(y, label_array.flatten())\n",
        "\n",
        "        field_id_src = rasterio.open(tile_df[tile_df['asset']=='field_ids']['file_path'].values[0])\n",
        "        field_id_array = field_id_src.read(1)\n",
        "        field_ids = np.append(field_ids, field_id_array.flatten())\n",
        "\n",
        "        tile_date_times = tile_df[tile_df['satellite_platform']=='s1']['datetime'].unique()\n",
        "\n",
        "        X_tile = np.empty((256 * 256, 28))\n",
        "        for date_time in tile_date_times[ : 2 * n_obs : n_obs]:\n",
        "\n",
        "            vv_src = rasterio.open(tile_df[(tile_df['datetime']==date_time) & (tile_df['asset']=='VV')]['file_path'].values[0])\n",
        "            vv_array = np.expand_dims(vv_src.read(1).flatten(), axis=1)\n",
        "\n",
        "            vh_src = rasterio.open(tile_df[(tile_df['datetime']==date_time) & (tile_df['asset']=='VH')]['file_path'].values[0])\n",
        "            vh_array = np.expand_dims(vh_src.read(1).flatten(), axis=1)\n",
        "\n",
        "            X_tile = np.append(X_tile, vv_array, axis = 1)\n",
        "            X_tile = np.append(X_tile, vh_array, axis = 1)\n",
        "\n",
        "        X = np.append(X, X_tile, axis=0)"
      ],
      "id": "Gh0O7MMfak2y",
      "execution_count": 5,
      "outputs": [
        {
          "output_type": "display_data",
          "data": {
            "application/vnd.jupyter.widget-view+json": {
              "model_id": "2403f4da7b65434b9318ced24fba36d4",
              "version_minor": 0,
              "version_major": 2
            },
            "text/plain": [
              "  0%|          | 0/200 [00:00<?, ?it/s]"
            ]
          },
          "metadata": {
            "tags": []
          }
        }
      ]
    },
    {
      "cell_type": "code",
      "metadata": {
        "id": "Ks2huHBUeofc"
      },
      "source": [
        "data4 = pd.DataFrame(X)\n",
        "data4['label'] = y.astype(int)\n",
        "data4['field_id'] = field_ids\n",
        "data4 = data4[data4.field_id != 0]\n",
        "\n",
        "data_grouped = data4.groupby('field_id').mean().reset_index()\n",
        "data_grouped.to_csv('/content/drive/MyDrive/zindi/radiant_ml/data/Xdata4.csv', index=False)\n",
        "data_grouped"
      ],
      "id": "Ks2huHBUeofc",
      "execution_count": null,
      "outputs": []
    },
    {
      "cell_type": "markdown",
      "metadata": {
        "id": "2ZbFjv0I60wo"
      },
      "source": [
        "# 5"
      ],
      "id": "2ZbFjv0I60wo"
    },
    {
      "cell_type": "code",
      "metadata": {
        "id": "nDqm7LULak0L",
        "colab": {
          "base_uri": "https://localhost:8080/",
          "height": 49,
          "referenced_widgets": [
            "4ad5a5c74cd04597a1983f42690dcbaf",
            "78588894df6b4b12a7dc67f3ef5f876e",
            "a591b3e842cf4f90b0448f1fd89a9c9d",
            "42f2d29bce64421ab30aaf5693393acf",
            "cf377b409e424ebd94b06efb56f8eebe",
            "37aed02eb4df4d29a48b32f9cfa34514",
            "1b3836afd9944979b5331c44e9907226",
            "490932c82aee49fcadc26527aaae15e2",
            "e0854c219acf4a60ba919ea08c4d79a9",
            "38189988a5714966be25413228ae8005",
            "a75fc04d79ca442c88153c8d44b5f7aa"
          ]
        },
        "outputId": "f3341193-d753-4bc1-d518-c498e6e9b45b"
      },
      "source": [
        "import tqdm\n",
        "\n",
        "X = np.empty((0, 2 * (n_obs-1)))\n",
        "y = np.empty((0, 1))\n",
        "field_ids = np.empty((0, 1))\n",
        "\n",
        "\n",
        "\n",
        "for tile_id in tqdm.notebook.tqdm(tile_ids_train[650:850]):\n",
        "    if tile_id != '1951': # avoid using this specific tile for the Hackathon as it might have a missing file\n",
        "        \n",
        "        tile_df = competition_train_df[competition_train_df['tile_id']==tile_id]\n",
        "\n",
        "        label_src = rasterio.open(tile_df[tile_df['asset']=='labels']['file_path'].values[0])\n",
        "        label_array = label_src.read(1)\n",
        "        y = np.append(y, label_array.flatten())\n",
        "\n",
        "        field_id_src = rasterio.open(tile_df[tile_df['asset']=='field_ids']['file_path'].values[0])\n",
        "        field_id_array = field_id_src.read(1)\n",
        "        field_ids = np.append(field_ids, field_id_array.flatten())\n",
        "\n",
        "        tile_date_times = tile_df[tile_df['satellite_platform']=='s1']['datetime'].unique()\n",
        "\n",
        "        X_tile = np.empty((256 * 256, 28))\n",
        "        for date_time in tile_date_times[ : 2 * n_obs : n_obs]:\n",
        "\n",
        "            vv_src = rasterio.open(tile_df[(tile_df['datetime']==date_time) & (tile_df['asset']=='VV')]['file_path'].values[0])\n",
        "            vv_array = np.expand_dims(vv_src.read(1).flatten(), axis=1)\n",
        "\n",
        "            vh_src = rasterio.open(tile_df[(tile_df['datetime']==date_time) & (tile_df['asset']=='VH')]['file_path'].values[0])\n",
        "            vh_array = np.expand_dims(vh_src.read(1).flatten(), axis=1)\n",
        "\n",
        "            X_tile = np.append(X_tile, vv_array, axis = 1)\n",
        "            X_tile = np.append(X_tile, vh_array, axis = 1)\n",
        "\n",
        "        X = np.append(X, X_tile, axis=0)"
      ],
      "id": "nDqm7LULak0L",
      "execution_count": 7,
      "outputs": [
        {
          "output_type": "display_data",
          "data": {
            "application/vnd.jupyter.widget-view+json": {
              "model_id": "4ad5a5c74cd04597a1983f42690dcbaf",
              "version_minor": 0,
              "version_major": 2
            },
            "text/plain": [
              "  0%|          | 0/200 [00:00<?, ?it/s]"
            ]
          },
          "metadata": {
            "tags": []
          }
        }
      ]
    },
    {
      "cell_type": "code",
      "metadata": {
        "id": "WV4OxvpdetjP"
      },
      "source": [
        "data5 = pd.DataFrame(X)\n",
        "data5['label'] = y.astype(int)\n",
        "data5['field_id'] = field_ids\n",
        "data5 = data5[data5.field_id != 0]\n",
        "\n",
        "data_grouped = data5.groupby('field_id').mean().reset_index()\n",
        "data_grouped.to_csv('/content/drive/MyDrive/zindi/radiant_ml/data/Xdata5.csv', index=False)\n",
        "data_grouped"
      ],
      "id": "WV4OxvpdetjP",
      "execution_count": null,
      "outputs": []
    },
    {
      "cell_type": "markdown",
      "metadata": {
        "id": "1mbQea-56ynB"
      },
      "source": [
        "# 6"
      ],
      "id": "1mbQea-56ynB"
    },
    {
      "cell_type": "code",
      "metadata": {
        "colab": {
          "base_uri": "https://localhost:8080/",
          "height": 49,
          "referenced_widgets": [
            "07cecf33c8d440948af0d45af0dea6e6",
            "a7374da8c661480ba516db03d9367487",
            "1fc796333ab5471dbf60ba5ca2058dd0",
            "764142edb5ef4e8ba5617547ab3890d5",
            "d43466756a9e40239a0da93e02a1a39f",
            "95f508f7ef7d4f44b2461462b48018a2",
            "7fb2097bd234439faf177a30f519a505",
            "f4209e75df284511adc144e7b5e85657",
            "c998a64d68264becaf3c3b650e8b3ee5",
            "52f5903e8ce940e4978c62be2f312c01",
            "0946445a70da40fb9288250e5eca7991"
          ]
        },
        "id": "d__Oy3xGkfde",
        "outputId": "69321985-94ce-4bd3-acd4-8cbf89854dd9"
      },
      "source": [
        "import tqdm\n",
        "\n",
        "X = np.empty((0, 2 * (n_obs-1)))\n",
        "y = np.empty((0, 1))\n",
        "field_ids = np.empty((0, 1))\n",
        "\n",
        "\n",
        "\n",
        "for tile_id in tqdm.notebook.tqdm(tile_ids_train[850:1050]):\n",
        "    if tile_id != '1951': # avoid using this specific tile for the Hackathon as it might have a missing file\n",
        "        \n",
        "        tile_df = competition_train_df[competition_train_df['tile_id']==tile_id]\n",
        "\n",
        "        label_src = rasterio.open(tile_df[tile_df['asset']=='labels']['file_path'].values[0])\n",
        "        label_array = label_src.read(1)\n",
        "        y = np.append(y, label_array.flatten())\n",
        "\n",
        "        field_id_src = rasterio.open(tile_df[tile_df['asset']=='field_ids']['file_path'].values[0])\n",
        "        field_id_array = field_id_src.read(1)\n",
        "        field_ids = np.append(field_ids, field_id_array.flatten())\n",
        "\n",
        "        tile_date_times = tile_df[tile_df['satellite_platform']=='s1']['datetime'].unique()\n",
        "\n",
        "        X_tile = np.empty((256 * 256, 28))\n",
        "        for date_time in tile_date_times[ : 2 * n_obs : n_obs]:\n",
        "\n",
        "            vv_src = rasterio.open(tile_df[(tile_df['datetime']==date_time) & (tile_df['asset']=='VV')]['file_path'].values[0])\n",
        "            vv_array = np.expand_dims(vv_src.read(1).flatten(), axis=1)\n",
        "\n",
        "            vh_src = rasterio.open(tile_df[(tile_df['datetime']==date_time) & (tile_df['asset']=='VH')]['file_path'].values[0])\n",
        "            vh_array = np.expand_dims(vh_src.read(1).flatten(), axis=1)\n",
        "\n",
        "            X_tile = np.append(X_tile, vv_array, axis = 1)\n",
        "            X_tile = np.append(X_tile, vh_array, axis = 1)\n",
        "\n",
        "        X = np.append(X, X_tile, axis=0)"
      ],
      "id": "d__Oy3xGkfde",
      "execution_count": 5,
      "outputs": [
        {
          "output_type": "display_data",
          "data": {
            "application/vnd.jupyter.widget-view+json": {
              "model_id": "07cecf33c8d440948af0d45af0dea6e6",
              "version_minor": 0,
              "version_major": 2
            },
            "text/plain": [
              "  0%|          | 0/200 [00:00<?, ?it/s]"
            ]
          },
          "metadata": {
            "tags": []
          }
        }
      ]
    },
    {
      "cell_type": "code",
      "metadata": {
        "id": "QhDeF83YkhsB"
      },
      "source": [
        "data6 = pd.DataFrame(X)\n",
        "data6['label'] = y.astype(int)\n",
        "data6['field_id'] = field_ids\n",
        "data6 = data6[data6.field_id != 0]\n",
        "\n",
        "data_grouped = data6.groupby('field_id').mean().reset_index()\n",
        "data_grouped.to_csv('/content/drive/MyDrive/zindi/radiant_ml/data/Xdata6.csv', index=False)\n",
        "data_grouped"
      ],
      "id": "QhDeF83YkhsB",
      "execution_count": null,
      "outputs": []
    },
    {
      "cell_type": "markdown",
      "metadata": {
        "id": "aeZ0k_mK6v07"
      },
      "source": [
        "# 7"
      ],
      "id": "aeZ0k_mK6v07"
    },
    {
      "cell_type": "code",
      "metadata": {
        "colab": {
          "base_uri": "https://localhost:8080/",
          "height": 49,
          "referenced_widgets": [
            "1582f3f439cc4746a4cb29daf4dd6560",
            "74f86909ecbe4cbca69d24744f0bc352",
            "0c0d36138c4644828ba2bebcc0732df6",
            "6c157a9d79e34bd2826834105a1607b1",
            "0e51ed5d159d4a0b9dc5e9b251611bd4",
            "12e4a53812a94bb2a9c959fe8e164dd7",
            "48d08171f5f844fe86f4df2a3cc64697",
            "7bfa5e810f844adda65cd9309a2d36ff",
            "5430b48e69314fbab3d6c86b285fc4c4",
            "96e4a7523fd04adb94a070891bbd8e0a",
            "d21b73ae73a347c78df016b1e043cfd2"
          ]
        },
        "id": "6aLPNAwSqHWa",
        "outputId": "5be55a6c-ebc9-44d6-a333-df237859719f"
      },
      "source": [
        "import tqdm\n",
        "\n",
        "X = np.empty((0, 2 * (n_obs-1)))\n",
        "y = np.empty((0, 1))\n",
        "field_ids = np.empty((0, 1))\n",
        "\n",
        "\n",
        "for tile_id in tqdm.notebook.tqdm(tile_ids_train[1050:1250]):\n",
        "    if tile_id != '1951': # avoid using this specific tile for the Hackathon as it might have a missing file\n",
        "        \n",
        "        tile_df = competition_train_df[competition_train_df['tile_id']==tile_id]\n",
        "\n",
        "        label_src = rasterio.open(tile_df[tile_df['asset']=='labels']['file_path'].values[0])\n",
        "        label_array = label_src.read(1)\n",
        "        y = np.append(y, label_array.flatten())\n",
        "\n",
        "        field_id_src = rasterio.open(tile_df[tile_df['asset']=='field_ids']['file_path'].values[0])\n",
        "        field_id_array = field_id_src.read(1)\n",
        "        field_ids = np.append(field_ids, field_id_array.flatten())\n",
        "\n",
        "        tile_date_times = tile_df[tile_df['satellite_platform']=='s1']['datetime'].unique()\n",
        "\n",
        "        X_tile = np.empty((256 * 256, 28))\n",
        "        for date_time in tile_date_times[ : 2 * n_obs : n_obs]:\n",
        "\n",
        "            vv_src = rasterio.open(tile_df[(tile_df['datetime']==date_time) & (tile_df['asset']=='VV')]['file_path'].values[0])\n",
        "            vv_array = np.expand_dims(vv_src.read(1).flatten(), axis=1)\n",
        "\n",
        "            vh_src = rasterio.open(tile_df[(tile_df['datetime']==date_time) & (tile_df['asset']=='VH')]['file_path'].values[0])\n",
        "            vh_array = np.expand_dims(vh_src.read(1).flatten(), axis=1)\n",
        "\n",
        "            X_tile = np.append(X_tile, vv_array, axis = 1)\n",
        "            X_tile = np.append(X_tile, vh_array, axis = 1)\n",
        "\n",
        "        X = np.append(X, X_tile, axis=0)"
      ],
      "id": "6aLPNAwSqHWa",
      "execution_count": 5,
      "outputs": [
        {
          "output_type": "display_data",
          "data": {
            "application/vnd.jupyter.widget-view+json": {
              "model_id": "1582f3f439cc4746a4cb29daf4dd6560",
              "version_minor": 0,
              "version_major": 2
            },
            "text/plain": [
              "  0%|          | 0/200 [00:00<?, ?it/s]"
            ]
          },
          "metadata": {
            "tags": []
          }
        }
      ]
    },
    {
      "cell_type": "code",
      "metadata": {
        "id": "TNhNUt8FqNZC"
      },
      "source": [
        "data7 = pd.DataFrame(X)\n",
        "data7['label'] = y.astype(int)\n",
        "data7['field_id'] = field_ids\n",
        "data7 = data7[data7.field_id != 0]\n",
        "\n",
        "data_grouped = data7.groupby('field_id').mean().reset_index()\n",
        "data_grouped.to_csv('/content/drive/MyDrive/zindi/radiant_ml/data/Xdata7.csv', index=False)\n",
        "data_grouped"
      ],
      "id": "TNhNUt8FqNZC",
      "execution_count": null,
      "outputs": []
    },
    {
      "cell_type": "markdown",
      "metadata": {
        "id": "urP89yGRrxWJ"
      },
      "source": [
        "# 8"
      ],
      "id": "urP89yGRrxWJ"
    },
    {
      "cell_type": "code",
      "metadata": {
        "colab": {
          "base_uri": "https://localhost:8080/",
          "height": 49,
          "referenced_widgets": [
            "2493ede511144aa8ae95289a0c4beb7d",
            "8f1152bc72da4d8eb426e0af0acc9c4a",
            "2d084e17ea4b4b88baa2e77d47b6fcc1",
            "5a4a4a12fa5e4d3c9e29a7926112af36",
            "3ef46849eef6412cb98155ebc8b8345f",
            "4410901cfaf3451a8250c67cb45402f6",
            "047073e06d274367923b2175d3eecdf2",
            "d6daf6cf44cc46298b81747aed9e8cbc",
            "8231c83d0dbb47d0b93c22d7132c6f4f",
            "f2827bbec823492a97db239c568e6b7c",
            "614f2135944a4ca5a6df2906a8445437"
          ]
        },
        "id": "DfPt-GKdq1Je",
        "outputId": "c065b6ff-4911-4278-c71a-1b6cfc61bf42"
      },
      "source": [
        "import tqdm\n",
        "\n",
        "X = np.empty((0, 2 * (n_obs-1)))\n",
        "y = np.empty((0, 1))\n",
        "field_ids = np.empty((0, 1))\n",
        "\n",
        "\n",
        "for tile_id in tqdm.notebook.tqdm(tile_ids_train[1250:1450]):\n",
        "    if tile_id != '1951': # avoid using this specific tile for the Hackathon as it might have a missing file\n",
        "        \n",
        "        tile_df = competition_train_df[competition_train_df['tile_id']==tile_id]\n",
        "\n",
        "        label_src = rasterio.open(tile_df[tile_df['asset']=='labels']['file_path'].values[0])\n",
        "        label_array = label_src.read(1)\n",
        "        y = np.append(y, label_array.flatten())\n",
        "\n",
        "        field_id_src = rasterio.open(tile_df[tile_df['asset']=='field_ids']['file_path'].values[0])\n",
        "        field_id_array = field_id_src.read(1)\n",
        "        field_ids = np.append(field_ids, field_id_array.flatten())\n",
        "\n",
        "        tile_date_times = tile_df[tile_df['satellite_platform']=='s1']['datetime'].unique()\n",
        "\n",
        "        X_tile = np.empty((256 * 256, 28))\n",
        "        for date_time in tile_date_times[ : 2 * n_obs : n_obs]:\n",
        "\n",
        "            vv_src = rasterio.open(tile_df[(tile_df['datetime']==date_time) & (tile_df['asset']=='VV')]['file_path'].values[0])\n",
        "            vv_array = np.expand_dims(vv_src.read(1).flatten(), axis=1)\n",
        "\n",
        "            vh_src = rasterio.open(tile_df[(tile_df['datetime']==date_time) & (tile_df['asset']=='VH')]['file_path'].values[0])\n",
        "            vh_array = np.expand_dims(vh_src.read(1).flatten(), axis=1)\n",
        "\n",
        "            X_tile = np.append(X_tile, vv_array, axis = 1)\n",
        "            X_tile = np.append(X_tile, vh_array, axis = 1)\n",
        "\n",
        "        X = np.append(X, X_tile, axis=0)"
      ],
      "id": "DfPt-GKdq1Je",
      "execution_count": 5,
      "outputs": [
        {
          "output_type": "display_data",
          "data": {
            "application/vnd.jupyter.widget-view+json": {
              "model_id": "2493ede511144aa8ae95289a0c4beb7d",
              "version_minor": 0,
              "version_major": 2
            },
            "text/plain": [
              "  0%|          | 0/200 [00:00<?, ?it/s]"
            ]
          },
          "metadata": {
            "tags": []
          }
        }
      ]
    },
    {
      "cell_type": "code",
      "metadata": {
        "id": "k7I0iNQ1q3CJ"
      },
      "source": [
        "data8 = pd.DataFrame(X)\n",
        "data8['label'] = y.astype(int)\n",
        "data8['field_id'] = field_ids\n",
        "data8 = data8[data8.field_id != 0]\n",
        "\n",
        "data_grouped = data8.groupby('field_id').mean().reset_index()\n",
        "data_grouped.to_csv('/content/drive/MyDrive/zindi/radiant_ml/data/Xdata8.csv', index=False)\n",
        "data_grouped"
      ],
      "id": "k7I0iNQ1q3CJ",
      "execution_count": null,
      "outputs": []
    },
    {
      "cell_type": "markdown",
      "metadata": {
        "id": "3F-fxLtsr3Fw"
      },
      "source": [
        "# 9"
      ],
      "id": "3F-fxLtsr3Fw"
    },
    {
      "cell_type": "code",
      "metadata": {
        "colab": {
          "base_uri": "https://localhost:8080/",
          "height": 49,
          "referenced_widgets": [
            "cd1e4d88f2424d72ac2c74b5617ede75",
            "4b2ed782f25948978323cd3bd44051c5",
            "d76a8d9a12d34970aebb27f6e1e43d56",
            "69174c8bf1694d9db7aeab23be6dfe97",
            "7d6bc4e27a1f468bbc742bb2401b9db4",
            "d4f70fd1f2c44057a8a04d40b7b7ef1c",
            "d2ed528bea444fee97d0e6fa9d86f197",
            "5c4da143fd0544a6bf3e78739f178d25",
            "6da10ffbd1da4607b36f62a3d2e69fce",
            "436f129420d64bf2b1c0dd02765b3991",
            "5fe5da432db14c498f6b25898940b34d"
          ]
        },
        "id": "9h26KGoIr5lq",
        "outputId": "88a34051-4e0e-480a-8d0b-608616c86423"
      },
      "source": [
        "import tqdm\n",
        "\n",
        "X = np.empty((0, 2 * (n_obs-1)))\n",
        "y = np.empty((0, 1))\n",
        "field_ids = np.empty((0, 1))\n",
        "\n",
        "\n",
        "for tile_id in tqdm.notebook.tqdm(tile_ids_train[1450:1650]):\n",
        "    if tile_id != '1951': # avoid using this specific tile for the Hackathon as it might have a missing file\n",
        "        \n",
        "        tile_df = competition_train_df[competition_train_df['tile_id']==tile_id]\n",
        "\n",
        "        label_src = rasterio.open(tile_df[tile_df['asset']=='labels']['file_path'].values[0])\n",
        "        label_array = label_src.read(1)\n",
        "        y = np.append(y, label_array.flatten())\n",
        "\n",
        "        field_id_src = rasterio.open(tile_df[tile_df['asset']=='field_ids']['file_path'].values[0])\n",
        "        field_id_array = field_id_src.read(1)\n",
        "        field_ids = np.append(field_ids, field_id_array.flatten())\n",
        "\n",
        "        tile_date_times = tile_df[tile_df['satellite_platform']=='s1']['datetime'].unique()\n",
        "\n",
        "        X_tile = np.empty((256 * 256, 28))\n",
        "        for date_time in tile_date_times[ : 2 * n_obs : n_obs]:\n",
        "\n",
        "            vv_src = rasterio.open(tile_df[(tile_df['datetime']==date_time) & (tile_df['asset']=='VV')]['file_path'].values[0])\n",
        "            vv_array = np.expand_dims(vv_src.read(1).flatten(), axis=1)\n",
        "\n",
        "            vh_src = rasterio.open(tile_df[(tile_df['datetime']==date_time) & (tile_df['asset']=='VH')]['file_path'].values[0])\n",
        "            vh_array = np.expand_dims(vh_src.read(1).flatten(), axis=1)\n",
        "\n",
        "            X_tile = np.append(X_tile, vv_array, axis = 1)\n",
        "            X_tile = np.append(X_tile, vh_array, axis = 1)\n",
        "\n",
        "        X = np.append(X, X_tile, axis=0)"
      ],
      "id": "9h26KGoIr5lq",
      "execution_count": 5,
      "outputs": [
        {
          "output_type": "display_data",
          "data": {
            "application/vnd.jupyter.widget-view+json": {
              "model_id": "cd1e4d88f2424d72ac2c74b5617ede75",
              "version_minor": 0,
              "version_major": 2
            },
            "text/plain": [
              "  0%|          | 0/200 [00:00<?, ?it/s]"
            ]
          },
          "metadata": {
            "tags": []
          }
        }
      ]
    },
    {
      "cell_type": "code",
      "metadata": {
        "id": "Vqfl_VOHr5e-"
      },
      "source": [
        "data9 = pd.DataFrame(X)\n",
        "data9['label'] = y.astype(int)\n",
        "data9['field_id'] = field_ids\n",
        "data9 = data9[data9.field_id != 0]\n",
        "\n",
        "data_grouped = data9.groupby('field_id').mean().reset_index()\n",
        "data_grouped.to_csv('/content/drive/MyDrive/zindi/radiant_ml/data/Xdata9.csv', index=False)\n",
        "data_grouped"
      ],
      "id": "Vqfl_VOHr5e-",
      "execution_count": null,
      "outputs": []
    },
    {
      "cell_type": "markdown",
      "metadata": {
        "id": "pzXGiqsasafv"
      },
      "source": [
        "# 10"
      ],
      "id": "pzXGiqsasafv"
    },
    {
      "cell_type": "code",
      "metadata": {
        "colab": {
          "base_uri": "https://localhost:8080/",
          "height": 49,
          "referenced_widgets": [
            "b7cd19e39a9e43678c906c31d66d7e73",
            "d692c01d353f4179b1743e4d50df0de5",
            "2e104d3bfadb4112a2b5146db98ea065",
            "936c86bf1b4e45d484bc78cac7342288",
            "f1dbb0deb87a463d8f1cac95b98d9a0a",
            "42e9825d40f34b8d8d9cd0456e66d043",
            "f489bd33c48b4fa1875fd8b7a9466105",
            "f1a29930b2f64be2a9dc07f9034d335f",
            "e12cd69fd0e345a2b30186cc5e373cb3",
            "256cc93730ce474f873c4132d382f0c8",
            "8a4ebe3247774549829cebf26240ef81"
          ]
        },
        "id": "jH9sfRmWscWr",
        "outputId": "73486da2-8ac5-483c-c4c1-1370e0afba87"
      },
      "source": [
        "import tqdm\n",
        "\n",
        "X = np.empty((0, 2 * (n_obs-1)))\n",
        "y = np.empty((0, 1))\n",
        "field_ids = np.empty((0, 1))\n",
        "\n",
        "\n",
        "for tile_id in tqdm.notebook.tqdm(tile_ids_train[1650:1850]):\n",
        "    if tile_id != '1951': # avoid using this specific tile for the Hackathon as it might have a missing file\n",
        "        \n",
        "        tile_df = competition_train_df[competition_train_df['tile_id']==tile_id]\n",
        "\n",
        "        label_src = rasterio.open(tile_df[tile_df['asset']=='labels']['file_path'].values[0])\n",
        "        label_array = label_src.read(1)\n",
        "        y = np.append(y, label_array.flatten())\n",
        "\n",
        "        field_id_src = rasterio.open(tile_df[tile_df['asset']=='field_ids']['file_path'].values[0])\n",
        "        field_id_array = field_id_src.read(1)\n",
        "        field_ids = np.append(field_ids, field_id_array.flatten())\n",
        "\n",
        "        tile_date_times = tile_df[tile_df['satellite_platform']=='s1']['datetime'].unique()\n",
        "\n",
        "        X_tile = np.empty((256 * 256, 28))\n",
        "        for date_time in tile_date_times[ : 2 * n_obs : n_obs]:\n",
        "\n",
        "            vv_src = rasterio.open(tile_df[(tile_df['datetime']==date_time) & (tile_df['asset']=='VV')]['file_path'].values[0])\n",
        "            vv_array = np.expand_dims(vv_src.read(1).flatten(), axis=1)\n",
        "\n",
        "            vh_src = rasterio.open(tile_df[(tile_df['datetime']==date_time) & (tile_df['asset']=='VH')]['file_path'].values[0])\n",
        "            vh_array = np.expand_dims(vh_src.read(1).flatten(), axis=1)\n",
        "\n",
        "            X_tile = np.append(X_tile, vv_array, axis = 1)\n",
        "            X_tile = np.append(X_tile, vh_array, axis = 1)\n",
        "\n",
        "        X = np.append(X, X_tile, axis=0)"
      ],
      "id": "jH9sfRmWscWr",
      "execution_count": 5,
      "outputs": [
        {
          "output_type": "display_data",
          "data": {
            "application/vnd.jupyter.widget-view+json": {
              "model_id": "b7cd19e39a9e43678c906c31d66d7e73",
              "version_minor": 0,
              "version_major": 2
            },
            "text/plain": [
              "  0%|          | 0/200 [00:00<?, ?it/s]"
            ]
          },
          "metadata": {
            "tags": []
          }
        }
      ]
    },
    {
      "cell_type": "code",
      "metadata": {
        "id": "odv40c9XscNG"
      },
      "source": [
        "data10 = pd.DataFrame(X)\n",
        "data10['label'] = y.astype(int)\n",
        "data10['field_id'] = field_ids\n",
        "data10 = data10[data10.field_id != 0]\n",
        "\n",
        "data_grouped = data10.groupby('field_id').mean().reset_index()\n",
        "data_grouped.to_csv('/content/drive/MyDrive/zindi/radiant_ml/data/Xdata10.csv', index=False)\n",
        "data_grouped"
      ],
      "id": "odv40c9XscNG",
      "execution_count": null,
      "outputs": []
    },
    {
      "cell_type": "markdown",
      "metadata": {
        "id": "yzbOjghatO2g"
      },
      "source": [
        "# 11"
      ],
      "id": "yzbOjghatO2g"
    },
    {
      "cell_type": "code",
      "metadata": {
        "colab": {
          "base_uri": "https://localhost:8080/",
          "height": 49,
          "referenced_widgets": [
            "96ff17a8dbe74cc0aa4f140aec656427",
            "a9b96e392fce44b8b7cfc4e25644e543",
            "f4cef73a3201491eb23ef1416a2fd392",
            "2970683db80b4ebab445753a18d2ba18",
            "40f4dd868b0944128edb31a8dc4fcbaf",
            "4e63af15864148228e37abe27416e272",
            "c425462eabe142c9abfa5a597a780c18",
            "cbd4eae8271944a7b40d390ea55b2670",
            "72ac03db4c724b1b87ec292d5f319ec1",
            "1e2be88d729446eba934c291d608798f",
            "c88035c525ce463d9e66d0783468f839"
          ]
        },
        "id": "3cyvt2PhtRIX",
        "outputId": "ab83eed6-317b-430d-de16-9c97f433b81b"
      },
      "source": [
        "import tqdm\n",
        "\n",
        "X = np.empty((0, 2 * (n_obs-1)))\n",
        "y = np.empty((0, 1))\n",
        "field_ids = np.empty((0, 1))\n",
        "\n",
        "\n",
        "for tile_id in tqdm.notebook.tqdm(tile_ids_train[1850:2050]):\n",
        "    if tile_id != '1951': # avoid using this specific tile for the Hackathon as it might have a missing file\n",
        "        \n",
        "        tile_df = competition_train_df[competition_train_df['tile_id']==tile_id]\n",
        "\n",
        "        label_src = rasterio.open(tile_df[tile_df['asset']=='labels']['file_path'].values[0])\n",
        "        label_array = label_src.read(1)\n",
        "        y = np.append(y, label_array.flatten())\n",
        "\n",
        "        field_id_src = rasterio.open(tile_df[tile_df['asset']=='field_ids']['file_path'].values[0])\n",
        "        field_id_array = field_id_src.read(1)\n",
        "        field_ids = np.append(field_ids, field_id_array.flatten())\n",
        "\n",
        "        tile_date_times = tile_df[tile_df['satellite_platform']=='s1']['datetime'].unique()\n",
        "\n",
        "        X_tile = np.empty((256 * 256, 28))\n",
        "        for date_time in tile_date_times[ : 2 * n_obs : n_obs]:\n",
        "\n",
        "            vv_src = rasterio.open(tile_df[(tile_df['datetime']==date_time) & (tile_df['asset']=='VV')]['file_path'].values[0])\n",
        "            vv_array = np.expand_dims(vv_src.read(1).flatten(), axis=1)\n",
        "\n",
        "            vh_src = rasterio.open(tile_df[(tile_df['datetime']==date_time) & (tile_df['asset']=='VH')]['file_path'].values[0])\n",
        "            vh_array = np.expand_dims(vh_src.read(1).flatten(), axis=1)\n",
        "\n",
        "            X_tile = np.append(X_tile, vv_array, axis = 1)\n",
        "            X_tile = np.append(X_tile, vh_array, axis = 1)\n",
        "\n",
        "        X = np.append(X, X_tile, axis=0)"
      ],
      "id": "3cyvt2PhtRIX",
      "execution_count": 6,
      "outputs": [
        {
          "output_type": "display_data",
          "data": {
            "application/vnd.jupyter.widget-view+json": {
              "model_id": "96ff17a8dbe74cc0aa4f140aec656427",
              "version_minor": 0,
              "version_major": 2
            },
            "text/plain": [
              "  0%|          | 0/200 [00:00<?, ?it/s]"
            ]
          },
          "metadata": {
            "tags": []
          }
        }
      ]
    },
    {
      "cell_type": "code",
      "metadata": {
        "id": "nKFfrfR6tREl"
      },
      "source": [
        "data11 = pd.DataFrame(X)\n",
        "data11['label'] = y.astype(int)\n",
        "data11['field_id'] = field_ids\n",
        "data11 = data11[data11.field_id != 0]\n",
        "\n",
        "data_grouped = data11.groupby('field_id').mean().reset_index()\n",
        "data_grouped.to_csv('/content/drive/MyDrive/zindi/radiant_ml/data/Xdata11.csv', index=False)\n",
        "data_grouped"
      ],
      "id": "nKFfrfR6tREl",
      "execution_count": null,
      "outputs": []
    },
    {
      "cell_type": "markdown",
      "metadata": {
        "id": "V_N3G135u1Lj"
      },
      "source": [
        "# 12"
      ],
      "id": "V_N3G135u1Lj"
    },
    {
      "cell_type": "code",
      "metadata": {
        "colab": {
          "base_uri": "https://localhost:8080/",
          "height": 49,
          "referenced_widgets": [
            "3862e8cdf5114f0a99819b7d887e1197",
            "c7c39d8b2eb446efa4bc3cb56c8777f5",
            "72227785c6f542c2bcbd1e8a505be551",
            "b88927bbf0274f41aeb9f663c374706d",
            "d7d0e58ab793440fa60f202097cf87dc",
            "8185af28bf3e40fc86fbf9d1603a8b86",
            "48868217964f48278a45cd27d3de82b6",
            "3fff03f21c544b8a8f1067b6747b516b",
            "c077cfc7c5df4fa293f3595eaab74812",
            "a380b3da307c44eea99a9b5a72c1d1de",
            "727ad6ae656b4506a0e1064c78c530b6"
          ]
        },
        "id": "PuVR_hqsu2NP",
        "outputId": "e2b45cf0-4224-46d6-8cf0-9ed68b623c94"
      },
      "source": [
        "import tqdm\n",
        "\n",
        "X = np.empty((0, 2 * (n_obs-1)))\n",
        "y = np.empty((0, 1))\n",
        "field_ids = np.empty((0, 1))\n",
        "\n",
        "\n",
        "for tile_id in tqdm.notebook.tqdm(tile_ids_train[2050:2250]):\n",
        "    if tile_id != '1951': # avoid using this specific tile for the Hackathon as it might have a missing file\n",
        "        \n",
        "        tile_df = competition_train_df[competition_train_df['tile_id']==tile_id]\n",
        "\n",
        "        label_src = rasterio.open(tile_df[tile_df['asset']=='labels']['file_path'].values[0])\n",
        "        label_array = label_src.read(1)\n",
        "        y = np.append(y, label_array.flatten())\n",
        "\n",
        "        field_id_src = rasterio.open(tile_df[tile_df['asset']=='field_ids']['file_path'].values[0])\n",
        "        field_id_array = field_id_src.read(1)\n",
        "        field_ids = np.append(field_ids, field_id_array.flatten())\n",
        "\n",
        "        tile_date_times = tile_df[tile_df['satellite_platform']=='s1']['datetime'].unique()\n",
        "\n",
        "        X_tile = np.empty((256 * 256, 28))\n",
        "        for date_time in tile_date_times[ : 2 * n_obs : n_obs]:\n",
        "\n",
        "            vv_src = rasterio.open(tile_df[(tile_df['datetime']==date_time) & (tile_df['asset']=='VV')]['file_path'].values[0])\n",
        "            vv_array = np.expand_dims(vv_src.read(1).flatten(), axis=1)\n",
        "\n",
        "            vh_src = rasterio.open(tile_df[(tile_df['datetime']==date_time) & (tile_df['asset']=='VH')]['file_path'].values[0])\n",
        "            vh_array = np.expand_dims(vh_src.read(1).flatten(), axis=1)\n",
        "\n",
        "            X_tile = np.append(X_tile, vv_array, axis = 1)\n",
        "            X_tile = np.append(X_tile, vh_array, axis = 1)\n",
        "\n",
        "        X = np.append(X, X_tile, axis=0)"
      ],
      "id": "PuVR_hqsu2NP",
      "execution_count": 7,
      "outputs": [
        {
          "output_type": "display_data",
          "data": {
            "application/vnd.jupyter.widget-view+json": {
              "model_id": "3862e8cdf5114f0a99819b7d887e1197",
              "version_minor": 0,
              "version_major": 2
            },
            "text/plain": [
              "  0%|          | 0/200 [00:00<?, ?it/s]"
            ]
          },
          "metadata": {
            "tags": []
          }
        }
      ]
    },
    {
      "cell_type": "code",
      "metadata": {
        "id": "vTXU6rZXu1rV"
      },
      "source": [
        "data12 = pd.DataFrame(X)\n",
        "data12['label'] = y.astype(int)\n",
        "data12['field_id'] = field_ids\n",
        "data12 = data12[data12.field_id != 0]\n",
        "\n",
        "data_grouped = data12.groupby('field_id').mean().reset_index()\n",
        "data_grouped.to_csv('/content/drive/MyDrive/zindi/radiant_ml/data/Xdata12.csv', index=False)\n",
        "data_grouped"
      ],
      "id": "vTXU6rZXu1rV",
      "execution_count": null,
      "outputs": []
    },
    {
      "cell_type": "markdown",
      "metadata": {
        "id": "WE9nHNebvmg0"
      },
      "source": [
        "# 13"
      ],
      "id": "WE9nHNebvmg0"
    },
    {
      "cell_type": "code",
      "metadata": {
        "colab": {
          "base_uri": "https://localhost:8080/",
          "height": 49,
          "referenced_widgets": [
            "e2c7d4ef33c9411bbc82ee63680b6a55",
            "728520779614414ca68d1a55101bd717",
            "eaec48cd172b482a8dc5bd99fa22fead",
            "4a22f34f57a94fd7853b0c4498cfc675",
            "78831ab8ce004fddbcaff42f9049dfb6",
            "e3caddf745784066af0bdc67f059623a",
            "fb1a19c8020a48a4b470f51128f11d56",
            "206e26e7fcc24b08b3f2611d4980a144",
            "9d5040abe1d14e2ab1ccec69381e242a",
            "d8ffcc42b0f546a8ab7a186b291c0d44",
            "c6d8159e0e484852b827e8fbe4f9623a"
          ]
        },
        "id": "Cqq3zYtgvmQx",
        "outputId": "5463d12f-8795-4dbd-800b-55d927c92c92"
      },
      "source": [
        "import tqdm\n",
        "\n",
        "X = np.empty((0, 2 * (n_obs-1)))\n",
        "y = np.empty((0, 1))\n",
        "field_ids = np.empty((0, 1))\n",
        "\n",
        "\n",
        "for tile_id in tqdm.notebook.tqdm(tile_ids_train[2250:2450]):\n",
        "    if tile_id != '1951': # avoid using this specific tile for the Hackathon as it might have a missing file\n",
        "        \n",
        "        tile_df = competition_train_df[competition_train_df['tile_id']==tile_id]\n",
        "\n",
        "        label_src = rasterio.open(tile_df[tile_df['asset']=='labels']['file_path'].values[0])\n",
        "        label_array = label_src.read(1)\n",
        "        y = np.append(y, label_array.flatten())\n",
        "\n",
        "        field_id_src = rasterio.open(tile_df[tile_df['asset']=='field_ids']['file_path'].values[0])\n",
        "        field_id_array = field_id_src.read(1)\n",
        "        field_ids = np.append(field_ids, field_id_array.flatten())\n",
        "\n",
        "        tile_date_times = tile_df[tile_df['satellite_platform']=='s1']['datetime'].unique()\n",
        "\n",
        "        X_tile = np.empty((256 * 256, 28))\n",
        "        for date_time in tile_date_times[ : 2 * n_obs : n_obs]:\n",
        "\n",
        "            vv_src = rasterio.open(tile_df[(tile_df['datetime']==date_time) & (tile_df['asset']=='VV')]['file_path'].values[0])\n",
        "            vv_array = np.expand_dims(vv_src.read(1).flatten(), axis=1)\n",
        "\n",
        "            vh_src = rasterio.open(tile_df[(tile_df['datetime']==date_time) & (tile_df['asset']=='VH')]['file_path'].values[0])\n",
        "            vh_array = np.expand_dims(vh_src.read(1).flatten(), axis=1)\n",
        "\n",
        "            X_tile = np.append(X_tile, vv_array, axis = 1)\n",
        "            X_tile = np.append(X_tile, vh_array, axis = 1)\n",
        "\n",
        "        X = np.append(X, X_tile, axis=0)"
      ],
      "id": "Cqq3zYtgvmQx",
      "execution_count": 5,
      "outputs": [
        {
          "output_type": "display_data",
          "data": {
            "application/vnd.jupyter.widget-view+json": {
              "model_id": "e2c7d4ef33c9411bbc82ee63680b6a55",
              "version_minor": 0,
              "version_major": 2
            },
            "text/plain": [
              "  0%|          | 0/200 [00:00<?, ?it/s]"
            ]
          },
          "metadata": {
            "tags": []
          }
        }
      ]
    },
    {
      "cell_type": "code",
      "metadata": {
        "id": "o5cNkVu9vl1D"
      },
      "source": [
        "data13 = pd.DataFrame(X)\n",
        "data13['label'] = y.astype(int)\n",
        "data13['field_id'] = field_ids\n",
        "data13 = data13[data13.field_id != 0]\n",
        "\n",
        "data_grouped = data13.groupby('field_id').mean().reset_index()\n",
        "data_grouped.to_csv('/content/drive/MyDrive/zindi/radiant_ml/data/Xdata13.csv', index=False)\n",
        "data_grouped"
      ],
      "id": "o5cNkVu9vl1D",
      "execution_count": null,
      "outputs": []
    },
    {
      "cell_type": "markdown",
      "metadata": {
        "id": "EoIS7WORwWbi"
      },
      "source": [
        "# 14"
      ],
      "id": "EoIS7WORwWbi"
    },
    {
      "cell_type": "code",
      "metadata": {
        "colab": {
          "base_uri": "https://localhost:8080/",
          "height": 49,
          "referenced_widgets": [
            "ec8fc8b2a67d4450a3fff7330da0e866",
            "87e6b2a0b1604cb4abcba1e4142f5ba6",
            "875c4b49b2b14b97a81d1232c2ed4bde",
            "62430ff83eac4fa68e8807279b20317c",
            "984a08bab8414f338c8ea5807c51459e",
            "f9af6c1b013441fa998e9b7285f19d5c",
            "556ed030e74c4eeaa703b348bc5e658d",
            "2abc1393eec847c1b542a520d95909bc",
            "673d0c19f9684966ab8b3872ebef1145",
            "62657caa19b94ec382073e532c2f40bc",
            "7765f31fce1a4392af376b1e5074a9be"
          ]
        },
        "id": "lkTrN7jywWP7",
        "outputId": "62ec100a-ed4d-4efc-e933-2e4f52e59d71"
      },
      "source": [
        "import tqdm\n",
        "\n",
        "X = np.empty((0, 2 * (n_obs-1)))\n",
        "y = np.empty((0, 1))\n",
        "field_ids = np.empty((0, 1))\n",
        "\n",
        "\n",
        "for tile_id in tqdm.notebook.tqdm(tile_ids_train[2450:]):\n",
        "    if tile_id != '1951': # avoid using this specific tile for the Hackathon as it might have a missing file\n",
        "        \n",
        "        tile_df = competition_train_df[competition_train_df['tile_id']==tile_id]\n",
        "\n",
        "        label_src = rasterio.open(tile_df[tile_df['asset']=='labels']['file_path'].values[0])\n",
        "        label_array = label_src.read(1)\n",
        "        y = np.append(y, label_array.flatten())\n",
        "\n",
        "        field_id_src = rasterio.open(tile_df[tile_df['asset']=='field_ids']['file_path'].values[0])\n",
        "        field_id_array = field_id_src.read(1)\n",
        "        field_ids = np.append(field_ids, field_id_array.flatten())\n",
        "\n",
        "        tile_date_times = tile_df[tile_df['satellite_platform']=='s1']['datetime'].unique()\n",
        "\n",
        "        X_tile = np.empty((256 * 256, 28))\n",
        "        for date_time in tile_date_times[ : 2 * n_obs : n_obs]:\n",
        "\n",
        "            vv_src = rasterio.open(tile_df[(tile_df['datetime']==date_time) & (tile_df['asset']=='VV')]['file_path'].values[0])\n",
        "            vv_array = np.expand_dims(vv_src.read(1).flatten(), axis=1)\n",
        "\n",
        "            vh_src = rasterio.open(tile_df[(tile_df['datetime']==date_time) & (tile_df['asset']=='VH')]['file_path'].values[0])\n",
        "            vh_array = np.expand_dims(vh_src.read(1).flatten(), axis=1)\n",
        "\n",
        "            X_tile = np.append(X_tile, vv_array, axis = 1)\n",
        "            X_tile = np.append(X_tile, vh_array, axis = 1)\n",
        "\n",
        "        X = np.append(X, X_tile, axis=0)"
      ],
      "id": "lkTrN7jywWP7",
      "execution_count": 5,
      "outputs": [
        {
          "output_type": "display_data",
          "data": {
            "application/vnd.jupyter.widget-view+json": {
              "model_id": "ec8fc8b2a67d4450a3fff7330da0e866",
              "version_minor": 0,
              "version_major": 2
            },
            "text/plain": [
              "  0%|          | 0/200 [00:00<?, ?it/s]"
            ]
          },
          "metadata": {
            "tags": []
          }
        }
      ]
    },
    {
      "cell_type": "code",
      "metadata": {
        "id": "_ank9HwHwWLX"
      },
      "source": [
        "data14 = pd.DataFrame(X)\n",
        "data14['label'] = y.astype(int)\n",
        "data14['field_id'] = field_ids\n",
        "data14 = data14[data14.field_id != 0]\n",
        "\n",
        "data_grouped = data14.groupby('field_id').mean().reset_index()\n",
        "data_grouped.to_csv('/content/drive/MyDrive/zindi/radiant_ml/data/Xdata14.csv', index=False)\n",
        "data_grouped"
      ],
      "id": "_ank9HwHwWLX",
      "execution_count": null,
      "outputs": []
    },
    {
      "cell_type": "markdown",
      "metadata": {
        "id": "b72aeb93-f95c-4e40-9f73-ef55982da982"
      },
      "source": [
        "## Building the Model"
      ],
      "id": "b72aeb93-f95c-4e40-9f73-ef55982da982"
    },
    {
      "cell_type": "code",
      "metadata": {
        "id": "8de694f2-d2c6-4dd0-a9ff-56f566c439ba",
        "outputId": "79523a99-8a58-45eb-e568-098bb57d5657"
      },
      "source": [
        "# Each field has several pixels in the data. Here our goal is to build a Random Forest (RF) model using the average values\n",
        "# of the pixels within each field. So, we use `groupby` to take the mean for each field_id\n",
        "data_grouped = data.groupby('field_id').mean().reset_index()\n",
        "data_grouped"
      ],
      "id": "8de694f2-d2c6-4dd0-a9ff-56f566c439ba",
      "execution_count": null,
      "outputs": [
        {
          "output_type": "execute_result",
          "data": {
            "text/html": [
              "<div>\n",
              "<style scoped>\n",
              "    .dataframe tbody tr th:only-of-type {\n",
              "        vertical-align: middle;\n",
              "    }\n",
              "\n",
              "    .dataframe tbody tr th {\n",
              "        vertical-align: top;\n",
              "    }\n",
              "\n",
              "    .dataframe thead th {\n",
              "        text-align: right;\n",
              "    }\n",
              "</style>\n",
              "<table border=\"1\" class=\"dataframe\">\n",
              "  <thead>\n",
              "    <tr style=\"text-align: right;\">\n",
              "      <th></th>\n",
              "      <th>field_id</th>\n",
              "      <th>0</th>\n",
              "      <th>1</th>\n",
              "      <th>2</th>\n",
              "      <th>3</th>\n",
              "      <th>4</th>\n",
              "      <th>5</th>\n",
              "      <th>6</th>\n",
              "      <th>7</th>\n",
              "      <th>label</th>\n",
              "    </tr>\n",
              "  </thead>\n",
              "  <tbody>\n",
              "    <tr>\n",
              "      <th>0</th>\n",
              "      <td>29.0</td>\n",
              "      <td>13.049180</td>\n",
              "      <td>3.032787</td>\n",
              "      <td>11.311475</td>\n",
              "      <td>3.344262</td>\n",
              "      <td>13.459016</td>\n",
              "      <td>3.868852</td>\n",
              "      <td>16.639344</td>\n",
              "      <td>4.721311</td>\n",
              "      <td>4.0</td>\n",
              "    </tr>\n",
              "    <tr>\n",
              "      <th>1</th>\n",
              "      <td>78.0</td>\n",
              "      <td>34.942857</td>\n",
              "      <td>9.085714</td>\n",
              "      <td>21.957143</td>\n",
              "      <td>5.614286</td>\n",
              "      <td>19.000000</td>\n",
              "      <td>4.614286</td>\n",
              "      <td>14.042857</td>\n",
              "      <td>3.485714</td>\n",
              "      <td>4.0</td>\n",
              "    </tr>\n",
              "    <tr>\n",
              "      <th>2</th>\n",
              "      <td>92.0</td>\n",
              "      <td>11.702970</td>\n",
              "      <td>4.504950</td>\n",
              "      <td>14.118812</td>\n",
              "      <td>4.207921</td>\n",
              "      <td>23.475248</td>\n",
              "      <td>6.207921</td>\n",
              "      <td>18.851485</td>\n",
              "      <td>5.415842</td>\n",
              "      <td>1.0</td>\n",
              "    </tr>\n",
              "    <tr>\n",
              "      <th>3</th>\n",
              "      <td>104.0</td>\n",
              "      <td>15.441284</td>\n",
              "      <td>3.189908</td>\n",
              "      <td>18.779817</td>\n",
              "      <td>4.483486</td>\n",
              "      <td>17.837615</td>\n",
              "      <td>3.785321</td>\n",
              "      <td>28.519266</td>\n",
              "      <td>8.812844</td>\n",
              "      <td>4.0</td>\n",
              "    </tr>\n",
              "    <tr>\n",
              "      <th>4</th>\n",
              "      <td>114.0</td>\n",
              "      <td>8.675676</td>\n",
              "      <td>2.243243</td>\n",
              "      <td>15.378378</td>\n",
              "      <td>3.081081</td>\n",
              "      <td>11.540541</td>\n",
              "      <td>3.135135</td>\n",
              "      <td>16.432432</td>\n",
              "      <td>3.783784</td>\n",
              "      <td>4.0</td>\n",
              "    </tr>\n",
              "    <tr>\n",
              "      <th>...</th>\n",
              "      <td>...</td>\n",
              "      <td>...</td>\n",
              "      <td>...</td>\n",
              "      <td>...</td>\n",
              "      <td>...</td>\n",
              "      <td>...</td>\n",
              "      <td>...</td>\n",
              "      <td>...</td>\n",
              "      <td>...</td>\n",
              "      <td>...</td>\n",
              "    </tr>\n",
              "    <tr>\n",
              "      <th>3349</th>\n",
              "      <td>122419.0</td>\n",
              "      <td>16.659292</td>\n",
              "      <td>5.216814</td>\n",
              "      <td>17.300885</td>\n",
              "      <td>4.243363</td>\n",
              "      <td>22.265487</td>\n",
              "      <td>5.699115</td>\n",
              "      <td>21.415929</td>\n",
              "      <td>5.115044</td>\n",
              "      <td>4.0</td>\n",
              "    </tr>\n",
              "    <tr>\n",
              "      <th>3350</th>\n",
              "      <td>122436.0</td>\n",
              "      <td>9.101974</td>\n",
              "      <td>1.532895</td>\n",
              "      <td>8.582237</td>\n",
              "      <td>2.003289</td>\n",
              "      <td>8.355263</td>\n",
              "      <td>1.723684</td>\n",
              "      <td>8.625000</td>\n",
              "      <td>1.986842</td>\n",
              "      <td>5.0</td>\n",
              "    </tr>\n",
              "    <tr>\n",
              "      <th>3351</th>\n",
              "      <td>122615.0</td>\n",
              "      <td>11.488889</td>\n",
              "      <td>2.385185</td>\n",
              "      <td>14.362963</td>\n",
              "      <td>2.088889</td>\n",
              "      <td>19.607407</td>\n",
              "      <td>3.511111</td>\n",
              "      <td>11.851852</td>\n",
              "      <td>3.800000</td>\n",
              "      <td>2.0</td>\n",
              "    </tr>\n",
              "    <tr>\n",
              "      <th>3352</th>\n",
              "      <td>122704.0</td>\n",
              "      <td>8.971173</td>\n",
              "      <td>2.785288</td>\n",
              "      <td>8.131213</td>\n",
              "      <td>2.137177</td>\n",
              "      <td>14.989066</td>\n",
              "      <td>3.524851</td>\n",
              "      <td>11.246521</td>\n",
              "      <td>3.647117</td>\n",
              "      <td>5.0</td>\n",
              "    </tr>\n",
              "    <tr>\n",
              "      <th>3353</th>\n",
              "      <td>122725.0</td>\n",
              "      <td>9.390244</td>\n",
              "      <td>2.362805</td>\n",
              "      <td>13.295732</td>\n",
              "      <td>2.966463</td>\n",
              "      <td>8.917683</td>\n",
              "      <td>1.920732</td>\n",
              "      <td>6.518293</td>\n",
              "      <td>1.634146</td>\n",
              "      <td>5.0</td>\n",
              "    </tr>\n",
              "  </tbody>\n",
              "</table>\n",
              "<p>3354 rows × 10 columns</p>\n",
              "</div>"
            ],
            "text/plain": [
              "      field_id          0         1          2         3          4         5  \\\n",
              "0         29.0  13.049180  3.032787  11.311475  3.344262  13.459016  3.868852   \n",
              "1         78.0  34.942857  9.085714  21.957143  5.614286  19.000000  4.614286   \n",
              "2         92.0  11.702970  4.504950  14.118812  4.207921  23.475248  6.207921   \n",
              "3        104.0  15.441284  3.189908  18.779817  4.483486  17.837615  3.785321   \n",
              "4        114.0   8.675676  2.243243  15.378378  3.081081  11.540541  3.135135   \n",
              "...        ...        ...       ...        ...       ...        ...       ...   \n",
              "3349  122419.0  16.659292  5.216814  17.300885  4.243363  22.265487  5.699115   \n",
              "3350  122436.0   9.101974  1.532895   8.582237  2.003289   8.355263  1.723684   \n",
              "3351  122615.0  11.488889  2.385185  14.362963  2.088889  19.607407  3.511111   \n",
              "3352  122704.0   8.971173  2.785288   8.131213  2.137177  14.989066  3.524851   \n",
              "3353  122725.0   9.390244  2.362805  13.295732  2.966463   8.917683  1.920732   \n",
              "\n",
              "              6         7  label  \n",
              "0     16.639344  4.721311    4.0  \n",
              "1     14.042857  3.485714    4.0  \n",
              "2     18.851485  5.415842    1.0  \n",
              "3     28.519266  8.812844    4.0  \n",
              "4     16.432432  3.783784    4.0  \n",
              "...         ...       ...    ...  \n",
              "3349  21.415929  5.115044    4.0  \n",
              "3350   8.625000  1.986842    5.0  \n",
              "3351  11.851852  3.800000    2.0  \n",
              "3352  11.246521  3.647117    5.0  \n",
              "3353   6.518293  1.634146    5.0  \n",
              "\n",
              "[3354 rows x 10 columns]"
            ]
          },
          "metadata": {
            "tags": []
          },
          "execution_count": 50
        }
      ]
    },
    {
      "cell_type": "code",
      "metadata": {
        "id": "6383d15a-5e27-467d-9ea6-2c7af202a8c7"
      },
      "source": [
        "# Split train and test\n",
        "# We use field_ids to split the data to train and test. Note that the test portion for training is different than the test \n",
        "# portion provided as part of the competition. \n",
        "train_per = 0.7\n",
        "\n",
        "n_fields = len(data_grouped['field_id'])\n",
        "np.random.seed(10)\n",
        "train_fields = np.random.choice(data_grouped['field_id'], int(n_fields * train_per), replace=False)\n",
        "test_fields = data_grouped['field_id'][~np.in1d(data_grouped['field_id'], train_fields)]"
      ],
      "id": "6383d15a-5e27-467d-9ea6-2c7af202a8c7",
      "execution_count": null,
      "outputs": []
    },
    {
      "cell_type": "code",
      "metadata": {
        "id": "bf3dc6ed-d908-43f3-b854-3d273b45d593"
      },
      "source": [
        "X_train, X_test = data_grouped[data_grouped['field_id'].isin(train_fields)], data_grouped[data_grouped['field_id'].isin(test_fields)]\n",
        "X_train = X_train.drop(columns=['label', 'field_id'])\n",
        "X_test = X_test.drop(columns=['label', 'field_id'])\n",
        "y_train, y_test = data_grouped[data_grouped['field_id'].isin(train_fields)]['label'], data_grouped[data_grouped['field_id'].isin(test_fields)]['label']"
      ],
      "id": "bf3dc6ed-d908-43f3-b854-3d273b45d593",
      "execution_count": null,
      "outputs": []
    },
    {
      "cell_type": "code",
      "metadata": {
        "id": "6eaf48aa-431f-4b05-a978-6e3729c1ef1d"
      },
      "source": [
        "# We ran a simple hyperparameter tuning for the number of trees, and concluded to use:\n",
        "n_trees = 50"
      ],
      "id": "6eaf48aa-431f-4b05-a978-6e3729c1ef1d",
      "execution_count": null,
      "outputs": []
    },
    {
      "cell_type": "code",
      "metadata": {
        "id": "fced7dae-01e5-4677-9e41-e94790f057e0",
        "outputId": "74ddf6f7-20dc-4f53-caeb-96fbd7332db0"
      },
      "source": [
        "# Fitting the RF model\n",
        "rf = RandomForestClassifier(n_estimators = n_trees, random_state = 0, n_jobs = 3)\n",
        "rf.fit(X_train, y_train.astype(int))"
      ],
      "id": "fced7dae-01e5-4677-9e41-e94790f057e0",
      "execution_count": null,
      "outputs": [
        {
          "output_type": "execute_result",
          "data": {
            "text/plain": [
              "RandomForestClassifier(n_estimators=50, n_jobs=3, random_state=0)"
            ]
          },
          "metadata": {
            "tags": []
          },
          "execution_count": 54
        }
      ]
    },
    {
      "cell_type": "markdown",
      "metadata": {
        "id": "548b703c-575d-4ecc-99bd-64d6e6ceeba9"
      },
      "source": [
        "## Competition Test Data\n",
        "\n",
        "In this part we will load the competition test data (which does not have labels) and predict the crop class for each field"
      ],
      "id": "548b703c-575d-4ecc-99bd-64d6e6ceeba9"
    },
    {
      "cell_type": "code",
      "metadata": {
        "id": "5f67db15-3866-4641-92cf-c44af29b1396"
      },
      "source": [
        "tile_ids_test = competition_test_df['tile_id'].unique()"
      ],
      "id": "5f67db15-3866-4641-92cf-c44af29b1396",
      "execution_count": 5,
      "outputs": []
    },
    {
      "cell_type": "markdown",
      "metadata": {
        "id": "AE0a84X1zDOU"
      },
      "source": [
        "# Test1"
      ],
      "id": "AE0a84X1zDOU"
    },
    {
      "cell_type": "code",
      "metadata": {
        "id": "565e5451-982a-4cda-9de9-4c939203cdd6",
        "colab": {
          "base_uri": "https://localhost:8080/",
          "height": 49,
          "referenced_widgets": [
            "1ca89e96c26745628ca2965aedc86ac4",
            "2d0b3dcdbd134754a7730e0148d349c9",
            "dbc4b59bdaba4511ae4437951debf76e",
            "26cab8cbd0ae4deb8b75ac2896c8bdba",
            "4b0cf61b76964fb4bb2578c0613d1231",
            "66869ec61db548c6acf91cda42007a95",
            "0385bb80172a4c3eaebc98c380dc8a8b",
            "36e39c94140e48d9a50e430906514872",
            "ca79f793eecb45daa84b5ca24d9f2d19",
            "ef143a60320b466e818f4e6f67ee2d71",
            "a893a0a99ced46bf85749140870f0777"
          ]
        },
        "outputId": "a5a65d91-b372-46f8-c312-14090178eac0"
      },
      "source": [
        "import tqdm\n",
        "\n",
        "X_competition_test = np.empty((0, 2 * (n_obs-1)))\n",
        "field_ids_test = np.empty((0, 1))\n",
        "\n",
        "for tile_id in tqdm.notebook.tqdm(tile_ids_test[:200]):\n",
        "    tile_df = competition_test_df[competition_test_df['tile_id']==tile_id]\n",
        "    \n",
        "    field_id_src = rasterio.open(tile_df[tile_df['asset']=='field_ids']['file_path'].values[0])\n",
        "    field_id_array = field_id_src.read(1)\n",
        "    field_ids_test = np.append(field_ids_test, field_id_array.flatten())\n",
        "    \n",
        "    tile_date_times = tile_df[tile_df['satellite_platform']=='s1']['datetime'].unique()\n",
        "    \n",
        "    X_tile = np.empty((256 * 256, 28))\n",
        "    for date_time in tile_date_times[ : 2 * n_obs : n_obs]:\n",
        "        vv_src = rasterio.open(tile_df[(tile_df['datetime']==date_time) & (tile_df['asset']=='VV')]['file_path'].values[0])\n",
        "        vv_array = np.expand_dims(vv_src.read(1).flatten(), axis=1)\n",
        "        \n",
        "        vh_src = rasterio.open(tile_df[(tile_df['datetime']==date_time) & (tile_df['asset']=='VH')]['file_path'].values[0])\n",
        "        vh_array = np.expand_dims(vh_src.read(1).flatten(), axis=1)\n",
        "        \n",
        "        X_tile = np.append(X_tile, vv_array, axis = 1)\n",
        "        X_tile = np.append(X_tile, vh_array, axis = 1)\n",
        "        \n",
        "    X_competition_test = np.append(X_competition_test, X_tile, axis=0)"
      ],
      "id": "565e5451-982a-4cda-9de9-4c939203cdd6",
      "execution_count": 8,
      "outputs": [
        {
          "output_type": "display_data",
          "data": {
            "application/vnd.jupyter.widget-view+json": {
              "model_id": "1ca89e96c26745628ca2965aedc86ac4",
              "version_minor": 0,
              "version_major": 2
            },
            "text/plain": [
              "  0%|          | 0/200 [00:00<?, ?it/s]"
            ]
          },
          "metadata": {
            "tags": []
          }
        }
      ]
    },
    {
      "cell_type": "code",
      "metadata": {
        "id": "5a3f26cd-a299-44aa-99b3-7ae562d7564d"
      },
      "source": [
        "data_test = pd.DataFrame(X_competition_test)\n",
        "data_test['field_id'] = field_ids_test\n",
        "data_test = data_test[data_test.field_id != 0]\n",
        "\n",
        "data_test_grouped = data_test.groupby('field_id').mean().reset_index()\n",
        "\n",
        "data_test_grouped.to_csv('/content/drive/MyDrive/zindi/radiant_ml/data/Xtest1.csv')\n",
        "\n",
        "data_test_grouped"
      ],
      "id": "5a3f26cd-a299-44aa-99b3-7ae562d7564d",
      "execution_count": null,
      "outputs": []
    },
    {
      "cell_type": "markdown",
      "metadata": {
        "id": "ZwfnkFcyzJRD"
      },
      "source": [
        "# Test2"
      ],
      "id": "ZwfnkFcyzJRD"
    },
    {
      "cell_type": "code",
      "metadata": {
        "colab": {
          "base_uri": "https://localhost:8080/",
          "height": 49,
          "referenced_widgets": [
            "26d1c333718445f3bf38ff14b398bba0",
            "aad99e6c70fd409a838dd4fea75a6ba7",
            "e5197c6c7fe14c8c8d8892021bb42013",
            "1c8caafa3d5844d497a97755389579eb",
            "7a3c72070691492f89d2010f36bc7ca7",
            "e845fc53214c4d96a03cc5f9957cc39d",
            "bf96a94035c84af6a5042fa148cb5a88",
            "d4ed1d123c604cf6a9787bafe76c50eb",
            "e8f79569ac4c4e9794b46dffc6a38530",
            "22fcd3d8a5b847109447c437f1fe2b3e",
            "acad490edc864a408086c9ea98c506ea"
          ]
        },
        "id": "ggQN9qzRzJFv",
        "outputId": "ad40c335-e5e5-4d5c-875f-1a6ea2099081"
      },
      "source": [
        "import tqdm\n",
        "\n",
        "X_competition_test = np.empty((0, 2 * (n_obs-1)))\n",
        "field_ids_test = np.empty((0, 1))\n",
        "\n",
        "for tile_id in tqdm.notebook.tqdm(tile_ids_test[200:400]):\n",
        "    tile_df = competition_test_df[competition_test_df['tile_id']==tile_id]\n",
        "    \n",
        "    field_id_src = rasterio.open(tile_df[tile_df['asset']=='field_ids']['file_path'].values[0])\n",
        "    field_id_array = field_id_src.read(1)\n",
        "    field_ids_test = np.append(field_ids_test, field_id_array.flatten())\n",
        "    \n",
        "    tile_date_times = tile_df[tile_df['satellite_platform']=='s1']['datetime'].unique()\n",
        "    \n",
        "    X_tile = np.empty((256 * 256, 28))\n",
        "    for date_time in tile_date_times[ : 2 * n_obs : n_obs]:\n",
        "        vv_src = rasterio.open(tile_df[(tile_df['datetime']==date_time) & (tile_df['asset']=='VV')]['file_path'].values[0])\n",
        "        vv_array = np.expand_dims(vv_src.read(1).flatten(), axis=1)\n",
        "        \n",
        "        vh_src = rasterio.open(tile_df[(tile_df['datetime']==date_time) & (tile_df['asset']=='VH')]['file_path'].values[0])\n",
        "        vh_array = np.expand_dims(vh_src.read(1).flatten(), axis=1)\n",
        "        \n",
        "        X_tile = np.append(X_tile, vv_array, axis = 1)\n",
        "        X_tile = np.append(X_tile, vh_array, axis = 1)\n",
        "        \n",
        "    X_competition_test = np.append(X_competition_test, X_tile, axis=0)"
      ],
      "id": "ggQN9qzRzJFv",
      "execution_count": 8,
      "outputs": [
        {
          "output_type": "display_data",
          "data": {
            "application/vnd.jupyter.widget-view+json": {
              "model_id": "26d1c333718445f3bf38ff14b398bba0",
              "version_minor": 0,
              "version_major": 2
            },
            "text/plain": [
              "  0%|          | 0/200 [00:00<?, ?it/s]"
            ]
          },
          "metadata": {
            "tags": []
          }
        }
      ]
    },
    {
      "cell_type": "code",
      "metadata": {
        "id": "S3OilxgLzI9z"
      },
      "source": [
        "data_test = pd.DataFrame(X_competition_test)\n",
        "data_test['field_id'] = field_ids_test\n",
        "data_test = data_test[data_test.field_id != 0]\n",
        "\n",
        "data_test_grouped = data_test.groupby('field_id').mean().reset_index()\n",
        "\n",
        "data_test_grouped.to_csv('/content/drive/MyDrive/zindi/radiant_ml/data/Xtest2.csv')\n",
        "\n",
        "data_test_grouped"
      ],
      "id": "S3OilxgLzI9z",
      "execution_count": null,
      "outputs": []
    },
    {
      "cell_type": "markdown",
      "metadata": {
        "id": "qqIioae_z3vu"
      },
      "source": [
        "# Test3"
      ],
      "id": "qqIioae_z3vu"
    },
    {
      "cell_type": "code",
      "metadata": {
        "colab": {
          "base_uri": "https://localhost:8080/",
          "height": 49,
          "referenced_widgets": [
            "5e7e4db6652446f68a2c400e99557ee3",
            "9236b4c24e0549f0bf117b56e9e654da",
            "0269c3217e704be8b7c32d808a452611",
            "d10b493976304261998402ee0f42d6a8",
            "c3259245dafa4305b66d855509224b36",
            "8dc482b3cfb142d682b35b43e1d40911",
            "0a401a41eeb842e6b41ac224c84bedc1",
            "5fdea2930cdc4b4d8a90a9b3bbaa093e",
            "6222e1c7d7544b5ebc5334f0448169d6",
            "5528dbdb5df342af817f7eaee6b25238",
            "4331b219260c4bb59457f5d780be7573"
          ]
        },
        "id": "u26A-w80z3Sc",
        "outputId": "8a5d004b-247b-4466-a4b3-b5428c120ff2"
      },
      "source": [
        "import tqdm\n",
        "\n",
        "X_competition_test = np.empty((0, 2 * (n_obs-1)))\n",
        "field_ids_test = np.empty((0, 1))\n",
        "\n",
        "for tile_id in tqdm.notebook.tqdm(tile_ids_test[400:600]):\n",
        "    tile_df = competition_test_df[competition_test_df['tile_id']==tile_id]\n",
        "    \n",
        "    field_id_src = rasterio.open(tile_df[tile_df['asset']=='field_ids']['file_path'].values[0])\n",
        "    field_id_array = field_id_src.read(1)\n",
        "    field_ids_test = np.append(field_ids_test, field_id_array.flatten())\n",
        "    \n",
        "    tile_date_times = tile_df[tile_df['satellite_platform']=='s1']['datetime'].unique()\n",
        "    \n",
        "    X_tile = np.empty((256 * 256, 28))\n",
        "    for date_time in tile_date_times[ : 2 * n_obs : n_obs]:\n",
        "        vv_src = rasterio.open(tile_df[(tile_df['datetime']==date_time) & (tile_df['asset']=='VV')]['file_path'].values[0])\n",
        "        vv_array = np.expand_dims(vv_src.read(1).flatten(), axis=1)\n",
        "        \n",
        "        vh_src = rasterio.open(tile_df[(tile_df['datetime']==date_time) & (tile_df['asset']=='VH')]['file_path'].values[0])\n",
        "        vh_array = np.expand_dims(vh_src.read(1).flatten(), axis=1)\n",
        "        \n",
        "        X_tile = np.append(X_tile, vv_array, axis = 1)\n",
        "        X_tile = np.append(X_tile, vh_array, axis = 1)\n",
        "        \n",
        "    X_competition_test = np.append(X_competition_test, X_tile, axis=0)"
      ],
      "id": "u26A-w80z3Sc",
      "execution_count": 6,
      "outputs": [
        {
          "output_type": "display_data",
          "data": {
            "application/vnd.jupyter.widget-view+json": {
              "model_id": "5e7e4db6652446f68a2c400e99557ee3",
              "version_minor": 0,
              "version_major": 2
            },
            "text/plain": [
              "  0%|          | 0/200 [00:00<?, ?it/s]"
            ]
          },
          "metadata": {
            "tags": []
          }
        }
      ]
    },
    {
      "cell_type": "code",
      "metadata": {
        "id": "CMUEiPnQz3QL"
      },
      "source": [
        "data_test = pd.DataFrame(X_competition_test)\n",
        "data_test['field_id'] = field_ids_test\n",
        "data_test = data_test[data_test.field_id != 0]\n",
        "\n",
        "data_test_grouped = data_test.groupby('field_id').mean().reset_index()\n",
        "\n",
        "data_test_grouped.to_csv('/content/drive/MyDrive/zindi/radiant_ml/data/Xtest3.csv')\n",
        "\n",
        "data_test_grouped"
      ],
      "id": "CMUEiPnQz3QL",
      "execution_count": null,
      "outputs": []
    },
    {
      "cell_type": "markdown",
      "metadata": {
        "id": "hq7hAUiJ0juP"
      },
      "source": [
        "# Test4"
      ],
      "id": "hq7hAUiJ0juP"
    },
    {
      "cell_type": "code",
      "metadata": {
        "colab": {
          "base_uri": "https://localhost:8080/",
          "height": 49,
          "referenced_widgets": [
            "d96e0f51551242be947367739d6b13ea",
            "e54e255676c44427ab064f3a11fba843",
            "f07c4fd5efcd44b7af21527fbb45fe86",
            "be8d1a4ae57f4ddd86b0f510c8d539b3",
            "3f81243590ed49d3bebedd15a7a475ef",
            "0bafc11a705e429bb1aaa12b487860ce",
            "d9b05a3428924149bb3e95491c833827",
            "c473ae9474c34df89628cf676bc8a5e2",
            "b4661e7eb16f42c99f31b81d8175a0cc",
            "f5ef985c85a845cea388c5c8b2f37122",
            "18cfd2fd0d2448778a13193cd5a6cccb"
          ]
        },
        "id": "-aa722nY0jd2",
        "outputId": "277ced2b-2996-45cf-a94f-fe0a613faee1"
      },
      "source": [
        "import tqdm\n",
        "\n",
        "X_competition_test = np.empty((0, 2 * (n_obs-1)))\n",
        "field_ids_test = np.empty((0, 1))\n",
        "\n",
        "for tile_id in tqdm.notebook.tqdm(tile_ids_test[600:800]):\n",
        "    tile_df = competition_test_df[competition_test_df['tile_id']==tile_id]\n",
        "    \n",
        "    field_id_src = rasterio.open(tile_df[tile_df['asset']=='field_ids']['file_path'].values[0])\n",
        "    field_id_array = field_id_src.read(1)\n",
        "    field_ids_test = np.append(field_ids_test, field_id_array.flatten())\n",
        "    \n",
        "    tile_date_times = tile_df[tile_df['satellite_platform']=='s1']['datetime'].unique()\n",
        "    \n",
        "    X_tile = np.empty((256 * 256, 28))\n",
        "    for date_time in tile_date_times[ : 2 * n_obs : n_obs]:\n",
        "        vv_src = rasterio.open(tile_df[(tile_df['datetime']==date_time) & (tile_df['asset']=='VV')]['file_path'].values[0])\n",
        "        vv_array = np.expand_dims(vv_src.read(1).flatten(), axis=1)\n",
        "        \n",
        "        vh_src = rasterio.open(tile_df[(tile_df['datetime']==date_time) & (tile_df['asset']=='VH')]['file_path'].values[0])\n",
        "        vh_array = np.expand_dims(vh_src.read(1).flatten(), axis=1)\n",
        "        \n",
        "        X_tile = np.append(X_tile, vv_array, axis = 1)\n",
        "        X_tile = np.append(X_tile, vh_array, axis = 1)\n",
        "        \n",
        "    X_competition_test = np.append(X_competition_test, X_tile, axis=0)"
      ],
      "id": "-aa722nY0jd2",
      "execution_count": 6,
      "outputs": [
        {
          "output_type": "display_data",
          "data": {
            "application/vnd.jupyter.widget-view+json": {
              "model_id": "d96e0f51551242be947367739d6b13ea",
              "version_minor": 0,
              "version_major": 2
            },
            "text/plain": [
              "  0%|          | 0/200 [00:00<?, ?it/s]"
            ]
          },
          "metadata": {
            "tags": []
          }
        }
      ]
    },
    {
      "cell_type": "code",
      "metadata": {
        "id": "jO4Ar4Vi0jbp"
      },
      "source": [
        "data_test = pd.DataFrame(X_competition_test)\n",
        "data_test['field_id'] = field_ids_test\n",
        "data_test = data_test[data_test.field_id != 0]\n",
        "\n",
        "data_test_grouped = data_test.groupby('field_id').mean().reset_index()\n",
        "\n",
        "data_test_grouped.to_csv('/content/drive/MyDrive/zindi/radiant_ml/data/Xtest4.csv')\n",
        "\n",
        "data_test_grouped"
      ],
      "id": "jO4Ar4Vi0jbp",
      "execution_count": null,
      "outputs": []
    },
    {
      "cell_type": "markdown",
      "metadata": {
        "id": "7412b7rf0tG6"
      },
      "source": [
        "# Test5"
      ],
      "id": "7412b7rf0tG6"
    },
    {
      "cell_type": "code",
      "metadata": {
        "colab": {
          "base_uri": "https://localhost:8080/",
          "height": 49,
          "referenced_widgets": [
            "672ee2b1461641fa84b6f12d140eaf74",
            "69ac921a41a244d99dd15476b2f83fa3",
            "03f3909cc00a4bc58935e8f79bbea3b2",
            "7f8a088a53c74507afa070d7f154acd3",
            "debdf254d88d477ea57d170787e01073",
            "ca291ad87c8b49fca770ccd1a2c7f530",
            "fbcd9941ced349de95ccc4ccbfe947d6",
            "5cc702cddb7048df8cb5633a6365e402",
            "5a9019cfe0bc424aa1cbf5e735ccfb52",
            "2c37dad9d2ae42a6a8837c27aa082cad",
            "6bfe0ae3e4b544f8896b2ed97c8ea0fd"
          ]
        },
        "id": "7M4kX-Zz0see",
        "outputId": "a5394771-12c0-4724-f235-31858de83732"
      },
      "source": [
        "import tqdm\n",
        "\n",
        "X_competition_test = np.empty((0, 2 * (n_obs-1)))\n",
        "field_ids_test = np.empty((0, 1))\n",
        "\n",
        "for tile_id in tqdm.notebook.tqdm(tile_ids_test[800:1000]):\n",
        "    tile_df = competition_test_df[competition_test_df['tile_id']==tile_id]\n",
        "    \n",
        "    field_id_src = rasterio.open(tile_df[tile_df['asset']=='field_ids']['file_path'].values[0])\n",
        "    field_id_array = field_id_src.read(1)\n",
        "    field_ids_test = np.append(field_ids_test, field_id_array.flatten())\n",
        "    \n",
        "    tile_date_times = tile_df[tile_df['satellite_platform']=='s1']['datetime'].unique()\n",
        "    \n",
        "    X_tile = np.empty((256 * 256, 28))\n",
        "    for date_time in tile_date_times[ : 2 * n_obs : n_obs]:\n",
        "        vv_src = rasterio.open(tile_df[(tile_df['datetime']==date_time) & (tile_df['asset']=='VV')]['file_path'].values[0])\n",
        "        vv_array = np.expand_dims(vv_src.read(1).flatten(), axis=1)\n",
        "        \n",
        "        vh_src = rasterio.open(tile_df[(tile_df['datetime']==date_time) & (tile_df['asset']=='VH')]['file_path'].values[0])\n",
        "        vh_array = np.expand_dims(vh_src.read(1).flatten(), axis=1)\n",
        "        \n",
        "        X_tile = np.append(X_tile, vv_array, axis = 1)\n",
        "        X_tile = np.append(X_tile, vh_array, axis = 1)\n",
        "        \n",
        "    X_competition_test = np.append(X_competition_test, X_tile, axis=0)"
      ],
      "id": "7M4kX-Zz0see",
      "execution_count": 6,
      "outputs": [
        {
          "output_type": "display_data",
          "data": {
            "application/vnd.jupyter.widget-view+json": {
              "model_id": "672ee2b1461641fa84b6f12d140eaf74",
              "version_minor": 0,
              "version_major": 2
            },
            "text/plain": [
              "  0%|          | 0/200 [00:00<?, ?it/s]"
            ]
          },
          "metadata": {
            "tags": []
          }
        }
      ]
    },
    {
      "cell_type": "code",
      "metadata": {
        "id": "k85HYAVk0saW"
      },
      "source": [
        "data_test = pd.DataFrame(X_competition_test)\n",
        "data_test['field_id'] = field_ids_test\n",
        "data_test = data_test[data_test.field_id != 0]\n",
        "\n",
        "data_test_grouped = data_test.groupby('field_id').mean().reset_index()\n",
        "\n",
        "data_test_grouped.to_csv('/content/drive/MyDrive/zindi/radiant_ml/data/Xtest5.csv')\n",
        "\n",
        "data_test_grouped"
      ],
      "id": "k85HYAVk0saW",
      "execution_count": null,
      "outputs": []
    },
    {
      "cell_type": "markdown",
      "metadata": {
        "id": "U_j4y-d01UDQ"
      },
      "source": [
        "# Test6"
      ],
      "id": "U_j4y-d01UDQ"
    },
    {
      "cell_type": "code",
      "metadata": {
        "colab": {
          "base_uri": "https://localhost:8080/",
          "height": 49,
          "referenced_widgets": [
            "17f743b77e914bd6b2275b4786aa8016",
            "f8380cbbfbfe41c59a291ecc55c7224a",
            "17635343d80e46029ab6e3ab774258f5",
            "033921fa05634fbe983bc8acd7c26d8f",
            "7909dde7cdaa4ddfb4f3f6b9fff78a5c",
            "ec4a9aa45cd6409c96072cdd1ff26da4",
            "d8d926f5951f457eb866ee05677ac802",
            "82c1ab20e60443a6942a25c6d50a93c4",
            "def03cb9505844b89ccb8ab391d4a1de",
            "594ddb7c33f44e3d922d6969a7e553af",
            "e5ded0981ce84fe9ba69f491e21e2998"
          ]
        },
        "id": "MGl2O27s1T2d",
        "outputId": "58eb8e99-0721-4fdc-bfb0-c2b1f65d854c"
      },
      "source": [
        "import tqdm\n",
        "\n",
        "X_competition_test = np.empty((0, 2 * (n_obs-1)))\n",
        "field_ids_test = np.empty((0, 1))\n",
        "\n",
        "for tile_id in tqdm.notebook.tqdm(tile_ids_test[1000:]):\n",
        "    tile_df = competition_test_df[competition_test_df['tile_id']==tile_id]\n",
        "    \n",
        "    field_id_src = rasterio.open(tile_df[tile_df['asset']=='field_ids']['file_path'].values[0])\n",
        "    field_id_array = field_id_src.read(1)\n",
        "    field_ids_test = np.append(field_ids_test, field_id_array.flatten())\n",
        "    \n",
        "    tile_date_times = tile_df[tile_df['satellite_platform']=='s1']['datetime'].unique()\n",
        "    \n",
        "    X_tile = np.empty((256 * 256, 28))\n",
        "    for date_time in tile_date_times[ : 2 * n_obs : n_obs]:\n",
        "        vv_src = rasterio.open(tile_df[(tile_df['datetime']==date_time) & (tile_df['asset']=='VV')]['file_path'].values[0])\n",
        "        vv_array = np.expand_dims(vv_src.read(1).flatten(), axis=1)\n",
        "        \n",
        "        vh_src = rasterio.open(tile_df[(tile_df['datetime']==date_time) & (tile_df['asset']=='VH')]['file_path'].values[0])\n",
        "        vh_array = np.expand_dims(vh_src.read(1).flatten(), axis=1)\n",
        "        \n",
        "        X_tile = np.append(X_tile, vv_array, axis = 1)\n",
        "        X_tile = np.append(X_tile, vh_array, axis = 1)\n",
        "        \n",
        "    X_competition_test = np.append(X_competition_test, X_tile, axis=0)"
      ],
      "id": "MGl2O27s1T2d",
      "execution_count": 6,
      "outputs": [
        {
          "output_type": "display_data",
          "data": {
            "application/vnd.jupyter.widget-view+json": {
              "model_id": "17f743b77e914bd6b2275b4786aa8016",
              "version_minor": 0,
              "version_major": 2
            },
            "text/plain": [
              "  0%|          | 0/137 [00:00<?, ?it/s]"
            ]
          },
          "metadata": {
            "tags": []
          }
        }
      ]
    },
    {
      "cell_type": "code",
      "metadata": {
        "id": "O4kN-AWq1Tzl"
      },
      "source": [
        "data_test = pd.DataFrame(X_competition_test)\n",
        "data_test['field_id'] = field_ids_test\n",
        "data_test = data_test[data_test.field_id != 0]\n",
        "\n",
        "data_test_grouped = data_test.groupby('field_id').mean().reset_index()\n",
        "\n",
        "data_test_grouped.to_csv('/content/drive/MyDrive/zindi/radiant_ml/data/Xtest6.csv')\n",
        "\n",
        "data_test_grouped"
      ],
      "id": "O4kN-AWq1Tzl",
      "execution_count": null,
      "outputs": []
    },
    {
      "cell_type": "markdown",
      "metadata": {
        "id": "6Ypv9XI52Fgv"
      },
      "source": [
        "# Traininng Bridge"
      ],
      "id": "6Ypv9XI52Fgv"
    },
    {
      "cell_type": "code",
      "metadata": {
        "id": "1o2VMDwQ2I3q"
      },
      "source": [
        "tr1=pd.read_csv('/content/drive/MyDrive/zindi/radiant_ml/data/Xdata1.csv')\n",
        "tr2=pd.read_csv('/content/drive/MyDrive/zindi/radiant_ml/data/Xdata2.csv')\n",
        "tr3=pd.read_csv('/content/drive/MyDrive/zindi/radiant_ml/data/Xdata3.csv')\n",
        "tr4=pd.read_csv('/content/drive/MyDrive/zindi/radiant_ml/data/Xdata4.csv')\n",
        "tr5=pd.read_csv('/content/drive/MyDrive/zindi/radiant_ml/data/Xdata5.csv')\n",
        "tr6=pd.read_csv('/content/drive/MyDrive/zindi/radiant_ml/data/Xdata6.csv')\n",
        "tr7=pd.read_csv('/content/drive/MyDrive/zindi/radiant_ml/data/Xdata7.csv')\n",
        "tr8=pd.read_csv('/content/drive/MyDrive/zindi/radiant_ml/data/Xdata8.csv')\n",
        "tr9=pd.read_csv('/content/drive/MyDrive/zindi/radiant_ml/data/Xdata9.csv')\n",
        "tr10=pd.read_csv('/content/drive/MyDrive/zindi/radiant_ml/data/Xdata10.csv')\n",
        "tr11=pd.read_csv('/content/drive/MyDrive/zindi/radiant_ml/data/Xdata11.csv')\n",
        "tr12=pd.read_csv('/content/drive/MyDrive/zindi/radiant_ml/data/Xdata12.csv')\n",
        "tr13=pd.read_csv('/content/drive/MyDrive/zindi/radiant_ml/data/Xdata13.csv')\n",
        "tr14=pd.read_csv('/content/drive/MyDrive/zindi/radiant_ml/data/Xdata14.csv')\n",
        "\n",
        "\n",
        "te1=pd.read_csv('/content/drive/MyDrive/zindi/radiant_ml/data/Xtest1.csv')\n",
        "te2=pd.read_csv('/content/drive/MyDrive/zindi/radiant_ml/data/Xtest2.csv')\n",
        "te3=pd.read_csv('/content/drive/MyDrive/zindi/radiant_ml/data/Xtest3.csv')\n",
        "te4=pd.read_csv('/content/drive/MyDrive/zindi/radiant_ml/data/Xtest4.csv')\n",
        "te5=pd.read_csv('/content/drive/MyDrive/zindi/radiant_ml/data/Xtest5.csv')\n",
        "te6=pd.read_csv('/content/drive/MyDrive/zindi/radiant_ml/data/Xtest6.csv')"
      ],
      "id": "1o2VMDwQ2I3q",
      "execution_count": 9,
      "outputs": []
    },
    {
      "cell_type": "code",
      "metadata": {
        "colab": {
          "base_uri": "https://localhost:8080/"
        },
        "id": "Ru8nfLEP33jF",
        "outputId": "58388dd5-b336-449b-ea32-e4228cde0afd"
      },
      "source": [
        "full_train=pd.concat([tr1, tr2, tr3, tr4, tr5, tr6, tr7, tr8, tr9, tr10, tr11, tr12, tr13, tr14]).reset_index(drop=True)\n",
        "full_test=pd.concat([te1, te2, te3, te4, te5, te6]).reset_index(drop=True)\n",
        "\n",
        "full_train.shape, full_test.shape"
      ],
      "id": "Ru8nfLEP33jF",
      "execution_count": 10,
      "outputs": [
        {
          "output_type": "execute_result",
          "data": {
            "text/plain": [
              "((87113, 34), (35295, 34))"
            ]
          },
          "metadata": {
            "tags": []
          },
          "execution_count": 10
        }
      ]
    },
    {
      "cell_type": "code",
      "metadata": {
        "id": "0vNxxNe19Obm"
      },
      "source": [
        "full_train.label.value_counts()"
      ],
      "id": "0vNxxNe19Obm",
      "execution_count": null,
      "outputs": []
    },
    {
      "cell_type": "code",
      "metadata": {
        "id": "m8KtkIo54hhQ"
      },
      "source": [
        "full_test=full_test.drop('Unnamed: 0', axis=1)\n",
        "full_test.head()"
      ],
      "id": "m8KtkIo54hhQ",
      "execution_count": null,
      "outputs": []
    },
    {
      "cell_type": "code",
      "metadata": {
        "id": "stUg9eQW4t0G"
      },
      "source": [
        "full_train.to_csv('/content/drive/MyDrive/zindi/radiant_ml/data/train_data.csv', index=False)\n",
        "full_test.to_csv('/content/drive/MyDrive/zindi/radiant_ml/data/test_data.csv', index=False)"
      ],
      "id": "stUg9eQW4t0G",
      "execution_count": 13,
      "outputs": []
    },
    {
      "cell_type": "code",
      "metadata": {
        "colab": {
          "base_uri": "https://localhost:8080/"
        },
        "id": "zlQuTEUR8LNp",
        "outputId": "f4a5cefa-88a7-4762-f5d2-84c9b8c6c37f"
      },
      "source": [
        "full_train.columns"
      ],
      "id": "zlQuTEUR8LNp",
      "execution_count": 14,
      "outputs": [
        {
          "output_type": "execute_result",
          "data": {
            "text/plain": [
              "Index(['field_id', '0', '1', '2', '3', '4', '5', '6', '7', '8', '9', '10',\n",
              "       '11', '12', '13', '14', '15', '16', '17', '18', '19', '20', '21', '22',\n",
              "       '23', '24', '25', '26', '27', '28', '29', '30', '31', 'label'],\n",
              "      dtype='object')"
            ]
          },
          "metadata": {
            "tags": []
          },
          "execution_count": 14
        }
      ]
    },
    {
      "cell_type": "code",
      "metadata": {
        "id": "mlp_vHJ8Fp9o"
      },
      "source": [
        "full_train.isna().sum()"
      ],
      "id": "mlp_vHJ8Fp9o",
      "execution_count": null,
      "outputs": []
    },
    {
      "cell_type": "code",
      "metadata": {
        "colab": {
          "base_uri": "https://localhost:8080/"
        },
        "id": "hQ7K0rY57w01",
        "outputId": "20c03cc8-98ed-4d93-84f7-a260b1e8e2ad"
      },
      "source": [
        "from sklearn.model_selection import train_test_split as tts\n",
        "\n",
        "seed=59\n",
        "main_cols=full_train.columns.difference(['field_id', 'label'])\n",
        "\n",
        "X=full_train[main_cols]\n",
        "y=np.round(full_train.label)\n",
        "\n",
        "x_train, x_test, y_train, y_test=tts(X, y, test_size=0.2, random_state=seed, stratify=y)\n",
        "x_train.shape, x_test.shape"
      ],
      "id": "hQ7K0rY57w01",
      "execution_count": 53,
      "outputs": [
        {
          "output_type": "execute_result",
          "data": {
            "text/plain": [
              "((69690, 32), (17423, 32))"
            ]
          },
          "metadata": {
            "tags": []
          },
          "execution_count": 53
        }
      ]
    },
    {
      "cell_type": "code",
      "metadata": {
        "colab": {
          "base_uri": "https://localhost:8080/",
          "height": 394
        },
        "id": "u85W00OmDWgs",
        "outputId": "9f211184-beda-410b-c1bc-e4be5d310ec1"
      },
      "source": [
        "from sklearn.ensemble import RandomForestClassifier\n",
        "\n",
        "model=RandomForestClassifier(n_estimators=50)\n",
        "\n",
        "model.fit(x_train, y_train)"
      ],
      "id": "u85W00OmDWgs",
      "execution_count": 61,
      "outputs": [
        {
          "output_type": "stream",
          "text": [
            "/usr/local/lib/python3.7/dist-packages/numpy/core/fromnumeric.py:87: RuntimeWarning: invalid value encountered in reduce\n",
            "  return ufunc.reduce(obj, axis, dtype, out, **passkwargs)\n"
          ],
          "name": "stderr"
        },
        {
          "output_type": "error",
          "ename": "ValueError",
          "evalue": "ignored",
          "traceback": [
            "\u001b[0;31m---------------------------------------------------------------------------\u001b[0m",
            "\u001b[0;31mValueError\u001b[0m                                Traceback (most recent call last)",
            "\u001b[0;32m<ipython-input-61-1bff88e7a066>\u001b[0m in \u001b[0;36m<module>\u001b[0;34m()\u001b[0m\n\u001b[1;32m      3\u001b[0m \u001b[0mmodel\u001b[0m\u001b[0;34m=\u001b[0m\u001b[0mRandomForestClassifier\u001b[0m\u001b[0;34m(\u001b[0m\u001b[0mn_estimators\u001b[0m\u001b[0;34m=\u001b[0m\u001b[0;36m50\u001b[0m\u001b[0;34m)\u001b[0m\u001b[0;34m\u001b[0m\u001b[0;34m\u001b[0m\u001b[0m\n\u001b[1;32m      4\u001b[0m \u001b[0;34m\u001b[0m\u001b[0m\n\u001b[0;32m----> 5\u001b[0;31m \u001b[0mmodel\u001b[0m\u001b[0;34m.\u001b[0m\u001b[0mfit\u001b[0m\u001b[0;34m(\u001b[0m\u001b[0mx_train\u001b[0m\u001b[0;34m,\u001b[0m \u001b[0my_train\u001b[0m\u001b[0;34m)\u001b[0m\u001b[0;34m\u001b[0m\u001b[0;34m\u001b[0m\u001b[0m\n\u001b[0m",
            "\u001b[0;32m/usr/local/lib/python3.7/dist-packages/sklearn/ensemble/_forest.py\u001b[0m in \u001b[0;36mfit\u001b[0;34m(self, X, y, sample_weight)\u001b[0m\n\u001b[1;32m    293\u001b[0m         \"\"\"\n\u001b[1;32m    294\u001b[0m         \u001b[0;31m# Validate or convert input data\u001b[0m\u001b[0;34m\u001b[0m\u001b[0;34m\u001b[0m\u001b[0;34m\u001b[0m\u001b[0m\n\u001b[0;32m--> 295\u001b[0;31m         \u001b[0mX\u001b[0m \u001b[0;34m=\u001b[0m \u001b[0mcheck_array\u001b[0m\u001b[0;34m(\u001b[0m\u001b[0mX\u001b[0m\u001b[0;34m,\u001b[0m \u001b[0maccept_sparse\u001b[0m\u001b[0;34m=\u001b[0m\u001b[0;34m\"csc\"\u001b[0m\u001b[0;34m,\u001b[0m \u001b[0mdtype\u001b[0m\u001b[0;34m=\u001b[0m\u001b[0mDTYPE\u001b[0m\u001b[0;34m)\u001b[0m\u001b[0;34m\u001b[0m\u001b[0;34m\u001b[0m\u001b[0m\n\u001b[0m\u001b[1;32m    296\u001b[0m         \u001b[0my\u001b[0m \u001b[0;34m=\u001b[0m \u001b[0mcheck_array\u001b[0m\u001b[0;34m(\u001b[0m\u001b[0my\u001b[0m\u001b[0;34m,\u001b[0m \u001b[0maccept_sparse\u001b[0m\u001b[0;34m=\u001b[0m\u001b[0;34m'csc'\u001b[0m\u001b[0;34m,\u001b[0m \u001b[0mensure_2d\u001b[0m\u001b[0;34m=\u001b[0m\u001b[0;32mFalse\u001b[0m\u001b[0;34m,\u001b[0m \u001b[0mdtype\u001b[0m\u001b[0;34m=\u001b[0m\u001b[0;32mNone\u001b[0m\u001b[0;34m)\u001b[0m\u001b[0;34m\u001b[0m\u001b[0;34m\u001b[0m\u001b[0m\n\u001b[1;32m    297\u001b[0m         \u001b[0;32mif\u001b[0m \u001b[0msample_weight\u001b[0m \u001b[0;32mis\u001b[0m \u001b[0;32mnot\u001b[0m \u001b[0;32mNone\u001b[0m\u001b[0;34m:\u001b[0m\u001b[0;34m\u001b[0m\u001b[0;34m\u001b[0m\u001b[0m\n",
            "\u001b[0;32m/usr/local/lib/python3.7/dist-packages/sklearn/utils/validation.py\u001b[0m in \u001b[0;36mcheck_array\u001b[0;34m(array, accept_sparse, accept_large_sparse, dtype, order, copy, force_all_finite, ensure_2d, allow_nd, ensure_min_samples, ensure_min_features, warn_on_dtype, estimator)\u001b[0m\n\u001b[1;32m    576\u001b[0m         \u001b[0;32mif\u001b[0m \u001b[0mforce_all_finite\u001b[0m\u001b[0;34m:\u001b[0m\u001b[0;34m\u001b[0m\u001b[0;34m\u001b[0m\u001b[0m\n\u001b[1;32m    577\u001b[0m             _assert_all_finite(array,\n\u001b[0;32m--> 578\u001b[0;31m                                allow_nan=force_all_finite == 'allow-nan')\n\u001b[0m\u001b[1;32m    579\u001b[0m \u001b[0;34m\u001b[0m\u001b[0m\n\u001b[1;32m    580\u001b[0m     \u001b[0;32mif\u001b[0m \u001b[0mensure_min_samples\u001b[0m \u001b[0;34m>\u001b[0m \u001b[0;36m0\u001b[0m\u001b[0;34m:\u001b[0m\u001b[0;34m\u001b[0m\u001b[0;34m\u001b[0m\u001b[0m\n",
            "\u001b[0;32m/usr/local/lib/python3.7/dist-packages/sklearn/utils/validation.py\u001b[0m in \u001b[0;36m_assert_all_finite\u001b[0;34m(X, allow_nan, msg_dtype)\u001b[0m\n\u001b[1;32m     58\u001b[0m                     \u001b[0mmsg_err\u001b[0m\u001b[0;34m.\u001b[0m\u001b[0mformat\u001b[0m\u001b[0;34m\u001b[0m\u001b[0;34m\u001b[0m\u001b[0m\n\u001b[1;32m     59\u001b[0m                     (type_err,\n\u001b[0;32m---> 60\u001b[0;31m                      msg_dtype if msg_dtype is not None else X.dtype)\n\u001b[0m\u001b[1;32m     61\u001b[0m             )\n\u001b[1;32m     62\u001b[0m     \u001b[0;31m# for object dtype data, we only check for NaNs (GH-13254)\u001b[0m\u001b[0;34m\u001b[0m\u001b[0;34m\u001b[0m\u001b[0;34m\u001b[0m\u001b[0m\n",
            "\u001b[0;31mValueError\u001b[0m: Input contains NaN, infinity or a value too large for dtype('float32')."
          ]
        }
      ]
    },
    {
      "cell_type": "code",
      "metadata": {
        "colab": {
          "base_uri": "https://localhost:8080/"
        },
        "id": "3bwSYj5_FM6y",
        "outputId": "3bc8692b-bd56-4aa4-9bba-4cb6bf479c52"
      },
      "source": [
        "y.value_counts()"
      ],
      "id": "3bwSYj5_FM6y",
      "execution_count": 70,
      "outputs": [
        {
          "output_type": "execute_result",
          "data": {
            "text/plain": [
              "4.0    24225\n",
              "2.0    13917\n",
              "7.0    10712\n",
              "1.0     8340\n",
              "6.0     8249\n",
              "5.0     8137\n",
              "3.0     7915\n",
              "9.0     4124\n",
              "8.0     1494\n",
              "Name: label, dtype: int64"
            ]
          },
          "metadata": {
            "tags": []
          },
          "execution_count": 70
        }
      ]
    },
    {
      "cell_type": "code",
      "metadata": {
        "colab": {
          "base_uri": "https://localhost:8080/"
        },
        "id": "zUaqCzO07wM9",
        "outputId": "8aeff3dd-c9c7-458c-c541-f757edf71c3b"
      },
      "source": [
        "from lightgbm import LGBMClassifier\n",
        "\n",
        "model=LGBMClassifier(n_estimators=50)\n",
        "\n",
        "model.fit(x_train, y_train)"
      ],
      "id": "zUaqCzO07wM9",
      "execution_count": 69,
      "outputs": [
        {
          "output_type": "execute_result",
          "data": {
            "text/plain": [
              "LGBMClassifier(boosting_type='gbdt', class_weight=None, colsample_bytree=1.0,\n",
              "               importance_type='split', learning_rate=0.1, max_depth=-1,\n",
              "               min_child_samples=20, min_child_weight=0.001, min_split_gain=0.0,\n",
              "               n_estimators=50, n_jobs=-1, num_leaves=31, objective=None,\n",
              "               random_state=None, reg_alpha=0.0, reg_lambda=0.0, silent=True,\n",
              "               subsample=1.0, subsample_for_bin=200000, subsample_freq=0)"
            ]
          },
          "metadata": {
            "tags": []
          },
          "execution_count": 69
        }
      ]
    },
    {
      "cell_type": "code",
      "metadata": {
        "id": "U2-kFyCd-9Rm"
      },
      "source": [
        "y_pred=model.predict_proba(x_test)"
      ],
      "id": "U2-kFyCd-9Rm",
      "execution_count": 64,
      "outputs": []
    },
    {
      "cell_type": "code",
      "metadata": {
        "colab": {
          "base_uri": "https://localhost:8080/"
        },
        "id": "9260yemB_DA8",
        "outputId": "16f35580-b0da-4aa5-baa4-1d314922e828"
      },
      "source": [
        "y_pred = [np.argmax(line) for line in y_pred]\n",
        "len(y_pred)"
      ],
      "id": "9260yemB_DA8",
      "execution_count": 65,
      "outputs": [
        {
          "output_type": "execute_result",
          "data": {
            "text/plain": [
              "17423"
            ]
          },
          "metadata": {
            "tags": []
          },
          "execution_count": 65
        }
      ]
    },
    {
      "cell_type": "code",
      "metadata": {
        "id": "_iLR9r9MDthM"
      },
      "source": [
        "y_pred=pd.Series(y_pred)"
      ],
      "id": "_iLR9r9MDthM",
      "execution_count": 66,
      "outputs": []
    },
    {
      "cell_type": "code",
      "metadata": {
        "colab": {
          "base_uri": "https://localhost:8080/"
        },
        "id": "j1FbXxCSDkwy",
        "outputId": "2558fc02-da09-4b3a-dade-9e08ccb6328a"
      },
      "source": [
        "y_test.unique(), y_pred.unique()"
      ],
      "id": "j1FbXxCSDkwy",
      "execution_count": 67,
      "outputs": [
        {
          "output_type": "execute_result",
          "data": {
            "text/plain": [
              "(array([4., 2., 6., 7., 5., 3., 9., 1., 8.]),\n",
              " array([3, 1, 0, 6, 5, 4, 8, 2, 7]))"
            ]
          },
          "metadata": {
            "tags": []
          },
          "execution_count": 67
        }
      ]
    },
    {
      "cell_type": "code",
      "metadata": {
        "colab": {
          "base_uri": "https://localhost:8080/"
        },
        "id": "U8_HCa7ADFX9",
        "outputId": "cc358cfc-791f-49eb-8c93-2fe9108bb828"
      },
      "source": [
        "from sklearn.metrics import accuracy_score as acc\n",
        "from sklearn.metrics import log_loss\n",
        "\n",
        "print(acc(y_test, y_pred))"
      ],
      "id": "U8_HCa7ADFX9",
      "execution_count": 68,
      "outputs": [
        {
          "output_type": "stream",
          "text": [
            "0.08792974803420765\n"
          ],
          "name": "stdout"
        }
      ]
    },
    {
      "cell_type": "code",
      "metadata": {
        "colab": {
          "base_uri": "https://localhost:8080/"
        },
        "id": "5bZEOFd2ABGp",
        "outputId": "a7f39d70-a194-4b0a-94ad-f1b2572305eb"
      },
      "source": [
        "ss=pd.read_csv('/content/drive/MyDrive/zindi/radiant_ml/data/SampleSubmission.csv')\n",
        "ss.shape"
      ],
      "id": "5bZEOFd2ABGp",
      "execution_count": 36,
      "outputs": [
        {
          "output_type": "execute_result",
          "data": {
            "text/plain": [
              "(35389, 10)"
            ]
          },
          "metadata": {
            "tags": []
          },
          "execution_count": 36
        }
      ]
    },
    {
      "cell_type": "code",
      "metadata": {
        "colab": {
          "base_uri": "https://localhost:8080/"
        },
        "id": "7g37x68sASXO",
        "outputId": "0764ccc4-39fa-4f79-aa71-b9acd4ceb7ce"
      },
      "source": [
        "t=[1, 2, 3, 4, 5, 6, 7, 8, 9]\n",
        "\n",
        "print(t[:3], t[3:])"
      ],
      "id": "7g37x68sASXO",
      "execution_count": 43,
      "outputs": [
        {
          "output_type": "stream",
          "text": [
            "[1, 2, 3] [4, 5, 6, 7, 8, 9]\n"
          ],
          "name": "stdout"
        }
      ]
    },
    {
      "cell_type": "code",
      "metadata": {
        "colab": {
          "base_uri": "https://localhost:8080/"
        },
        "id": "G8W4yZmF_3lO",
        "outputId": "a2239ba4-2104-4de4-fe21-75d35af91815"
      },
      "source": [
        "full_test.shape"
      ],
      "id": "G8W4yZmF_3lO",
      "execution_count": 35,
      "outputs": [
        {
          "output_type": "execute_result",
          "data": {
            "text/plain": [
              "(35295, 33)"
            ]
          },
          "metadata": {
            "tags": []
          },
          "execution_count": 35
        }
      ]
    },
    {
      "cell_type": "code",
      "metadata": {
        "id": "97ded63f-3f5e-497b-a10a-05882d466bc6"
      },
      "source": [
        "y_competition_prob = rf.predict_proba(data_test_grouped.drop(columns=['field_id']))"
      ],
      "id": "97ded63f-3f5e-497b-a10a-05882d466bc6",
      "execution_count": null,
      "outputs": []
    },
    {
      "cell_type": "code",
      "metadata": {
        "id": "1cf3be09-3bbd-440d-bce8-94a665e60602",
        "outputId": "a87c8807-6cf0-4d52-d14d-82a07cc84583"
      },
      "source": [
        "# In this part we format the DataFrame to have column names and order similar to the sample submission file. \n",
        "pred_df = pd.DataFrame(y_competition_prob)\n",
        "pred_df = pred_df.rename(columns={\n",
        "    0:'Crop_ID_1',\n",
        "    1:'Crop_ID_2', \n",
        "    2:'Crop_ID_3',\n",
        "    3:'Crop_ID_4',\n",
        "    4:'Crop_ID_5',\n",
        "    5:'Crop_ID_6',\n",
        "    6:'Crop_ID_7',\n",
        "    7:'Crop_ID_8',\n",
        "    8:'Crop_ID_9'\n",
        "})\n",
        "pred_df['field_id']=data_test_grouped['field_id']\n",
        "pred_df = pred_df[['field_id', 'Crop_ID_1', 'Crop_ID_2', 'Crop_ID_3', 'Crop_ID_4', 'Crop_ID_5', 'Crop_ID_6', 'Crop_ID_7', 'Crop_ID_8', 'Crop_ID_9']]\n",
        "pred_df"
      ],
      "id": "1cf3be09-3bbd-440d-bce8-94a665e60602",
      "execution_count": null,
      "outputs": [
        {
          "output_type": "execute_result",
          "data": {
            "text/html": [
              "<div>\n",
              "<style scoped>\n",
              "    .dataframe tbody tr th:only-of-type {\n",
              "        vertical-align: middle;\n",
              "    }\n",
              "\n",
              "    .dataframe tbody tr th {\n",
              "        vertical-align: top;\n",
              "    }\n",
              "\n",
              "    .dataframe thead th {\n",
              "        text-align: right;\n",
              "    }\n",
              "</style>\n",
              "<table border=\"1\" class=\"dataframe\">\n",
              "  <thead>\n",
              "    <tr style=\"text-align: right;\">\n",
              "      <th></th>\n",
              "      <th>field_id</th>\n",
              "      <th>Crop_ID_1</th>\n",
              "      <th>Crop_ID_2</th>\n",
              "      <th>Crop_ID_3</th>\n",
              "      <th>Crop_ID_4</th>\n",
              "      <th>Crop_ID_5</th>\n",
              "      <th>Crop_ID_6</th>\n",
              "      <th>Crop_ID_7</th>\n",
              "      <th>Crop_ID_8</th>\n",
              "      <th>Crop_ID_9</th>\n",
              "    </tr>\n",
              "  </thead>\n",
              "  <tbody>\n",
              "    <tr>\n",
              "      <th>0</th>\n",
              "      <td>56.0</td>\n",
              "      <td>0.06</td>\n",
              "      <td>0.12</td>\n",
              "      <td>0.04</td>\n",
              "      <td>0.34</td>\n",
              "      <td>0.02</td>\n",
              "      <td>0.04</td>\n",
              "      <td>0.30</td>\n",
              "      <td>0.02</td>\n",
              "      <td>0.06</td>\n",
              "    </tr>\n",
              "    <tr>\n",
              "      <th>1</th>\n",
              "      <td>60.0</td>\n",
              "      <td>0.26</td>\n",
              "      <td>0.06</td>\n",
              "      <td>0.14</td>\n",
              "      <td>0.10</td>\n",
              "      <td>0.06</td>\n",
              "      <td>0.14</td>\n",
              "      <td>0.10</td>\n",
              "      <td>0.10</td>\n",
              "      <td>0.04</td>\n",
              "    </tr>\n",
              "    <tr>\n",
              "      <th>2</th>\n",
              "      <td>97.0</td>\n",
              "      <td>0.10</td>\n",
              "      <td>0.32</td>\n",
              "      <td>0.06</td>\n",
              "      <td>0.06</td>\n",
              "      <td>0.12</td>\n",
              "      <td>0.10</td>\n",
              "      <td>0.04</td>\n",
              "      <td>0.00</td>\n",
              "      <td>0.20</td>\n",
              "    </tr>\n",
              "    <tr>\n",
              "      <th>3</th>\n",
              "      <td>103.0</td>\n",
              "      <td>0.04</td>\n",
              "      <td>0.26</td>\n",
              "      <td>0.02</td>\n",
              "      <td>0.08</td>\n",
              "      <td>0.16</td>\n",
              "      <td>0.24</td>\n",
              "      <td>0.00</td>\n",
              "      <td>0.04</td>\n",
              "      <td>0.16</td>\n",
              "    </tr>\n",
              "    <tr>\n",
              "      <th>4</th>\n",
              "      <td>123.0</td>\n",
              "      <td>0.04</td>\n",
              "      <td>0.04</td>\n",
              "      <td>0.00</td>\n",
              "      <td>0.82</td>\n",
              "      <td>0.02</td>\n",
              "      <td>0.00</td>\n",
              "      <td>0.02</td>\n",
              "      <td>0.06</td>\n",
              "      <td>0.00</td>\n",
              "    </tr>\n",
              "    <tr>\n",
              "      <th>...</th>\n",
              "      <td>...</td>\n",
              "      <td>...</td>\n",
              "      <td>...</td>\n",
              "      <td>...</td>\n",
              "      <td>...</td>\n",
              "      <td>...</td>\n",
              "      <td>...</td>\n",
              "      <td>...</td>\n",
              "      <td>...</td>\n",
              "      <td>...</td>\n",
              "    </tr>\n",
              "    <tr>\n",
              "      <th>2884</th>\n",
              "      <td>122658.0</td>\n",
              "      <td>0.00</td>\n",
              "      <td>0.04</td>\n",
              "      <td>0.02</td>\n",
              "      <td>0.00</td>\n",
              "      <td>0.00</td>\n",
              "      <td>0.14</td>\n",
              "      <td>0.74</td>\n",
              "      <td>0.06</td>\n",
              "      <td>0.00</td>\n",
              "    </tr>\n",
              "    <tr>\n",
              "      <th>2885</th>\n",
              "      <td>122689.0</td>\n",
              "      <td>0.04</td>\n",
              "      <td>0.20</td>\n",
              "      <td>0.02</td>\n",
              "      <td>0.48</td>\n",
              "      <td>0.10</td>\n",
              "      <td>0.02</td>\n",
              "      <td>0.06</td>\n",
              "      <td>0.06</td>\n",
              "      <td>0.02</td>\n",
              "    </tr>\n",
              "    <tr>\n",
              "      <th>2886</th>\n",
              "      <td>122698.0</td>\n",
              "      <td>0.04</td>\n",
              "      <td>0.28</td>\n",
              "      <td>0.04</td>\n",
              "      <td>0.24</td>\n",
              "      <td>0.10</td>\n",
              "      <td>0.08</td>\n",
              "      <td>0.10</td>\n",
              "      <td>0.00</td>\n",
              "      <td>0.12</td>\n",
              "    </tr>\n",
              "    <tr>\n",
              "      <th>2887</th>\n",
              "      <td>122703.0</td>\n",
              "      <td>0.06</td>\n",
              "      <td>0.00</td>\n",
              "      <td>0.02</td>\n",
              "      <td>0.88</td>\n",
              "      <td>0.00</td>\n",
              "      <td>0.02</td>\n",
              "      <td>0.00</td>\n",
              "      <td>0.00</td>\n",
              "      <td>0.02</td>\n",
              "    </tr>\n",
              "    <tr>\n",
              "      <th>2888</th>\n",
              "      <td>122722.0</td>\n",
              "      <td>0.08</td>\n",
              "      <td>0.28</td>\n",
              "      <td>0.30</td>\n",
              "      <td>0.00</td>\n",
              "      <td>0.10</td>\n",
              "      <td>0.10</td>\n",
              "      <td>0.06</td>\n",
              "      <td>0.02</td>\n",
              "      <td>0.06</td>\n",
              "    </tr>\n",
              "  </tbody>\n",
              "</table>\n",
              "<p>2889 rows × 10 columns</p>\n",
              "</div>"
            ],
            "text/plain": [
              "      field_id  Crop_ID_1  Crop_ID_2  Crop_ID_3  Crop_ID_4  Crop_ID_5  \\\n",
              "0         56.0       0.06       0.12       0.04       0.34       0.02   \n",
              "1         60.0       0.26       0.06       0.14       0.10       0.06   \n",
              "2         97.0       0.10       0.32       0.06       0.06       0.12   \n",
              "3        103.0       0.04       0.26       0.02       0.08       0.16   \n",
              "4        123.0       0.04       0.04       0.00       0.82       0.02   \n",
              "...        ...        ...        ...        ...        ...        ...   \n",
              "2884  122658.0       0.00       0.04       0.02       0.00       0.00   \n",
              "2885  122689.0       0.04       0.20       0.02       0.48       0.10   \n",
              "2886  122698.0       0.04       0.28       0.04       0.24       0.10   \n",
              "2887  122703.0       0.06       0.00       0.02       0.88       0.00   \n",
              "2888  122722.0       0.08       0.28       0.30       0.00       0.10   \n",
              "\n",
              "      Crop_ID_6  Crop_ID_7  Crop_ID_8  Crop_ID_9  \n",
              "0          0.04       0.30       0.02       0.06  \n",
              "1          0.14       0.10       0.10       0.04  \n",
              "2          0.10       0.04       0.00       0.20  \n",
              "3          0.24       0.00       0.04       0.16  \n",
              "4          0.00       0.02       0.06       0.00  \n",
              "...         ...        ...        ...        ...  \n",
              "2884       0.14       0.74       0.06       0.00  \n",
              "2885       0.02       0.06       0.06       0.02  \n",
              "2886       0.08       0.10       0.00       0.12  \n",
              "2887       0.02       0.00       0.00       0.02  \n",
              "2888       0.10       0.06       0.02       0.06  \n",
              "\n",
              "[2889 rows x 10 columns]"
            ]
          },
          "metadata": {
            "tags": []
          },
          "execution_count": 62
        }
      ]
    },
    {
      "cell_type": "code",
      "metadata": {
        "id": "4541f43b-520a-4f12-b797-3b64630a6527"
      },
      "source": [
        "# Write the predicted probabilites to a csv for submission\n",
        "pred_df.to_csv('baseline_submission.csv', index=False)"
      ],
      "id": "4541f43b-520a-4f12-b797-3b64630a6527",
      "execution_count": null,
      "outputs": []
    },
    {
      "cell_type": "code",
      "metadata": {
        "id": "e0deeeab-d5e9-499f-a026-0b6c73f8a04e"
      },
      "source": [
        ""
      ],
      "id": "e0deeeab-d5e9-499f-a026-0b6c73f8a04e",
      "execution_count": null,
      "outputs": []
    }
  ]
}